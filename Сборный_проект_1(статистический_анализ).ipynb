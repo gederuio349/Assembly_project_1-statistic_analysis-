{
 "cells": [
  {
   "cell_type": "markdown",
   "metadata": {},
   "source": [
    "Цель проекта - нужно выявить определяющие успешность игры, закономерности."
   ]
  },
  {
   "cell_type": "code",
   "execution_count": 1,
   "metadata": {},
   "outputs": [],
   "source": [
    "import pandas as pd\n",
    "import numpy as np\n",
    "import seaborn as sns\n",
    "import scipy.stats as st\n",
    "import random\n",
    "import matplotlib.pyplot as plt"
   ]
  },
  {
   "cell_type": "markdown",
   "metadata": {},
   "source": [
    "## "
   ]
  },
  {
   "cell_type": "code",
   "execution_count": 2,
   "metadata": {},
   "outputs": [
    {
     "data": {
      "text/html": [
       "<div>\n",
       "<style scoped>\n",
       "    .dataframe tbody tr th:only-of-type {\n",
       "        vertical-align: middle;\n",
       "    }\n",
       "\n",
       "    .dataframe tbody tr th {\n",
       "        vertical-align: top;\n",
       "    }\n",
       "\n",
       "    .dataframe thead th {\n",
       "        text-align: right;\n",
       "    }\n",
       "</style>\n",
       "<table border=\"1\" class=\"dataframe\">\n",
       "  <thead>\n",
       "    <tr style=\"text-align: right;\">\n",
       "      <th></th>\n",
       "      <th>Name</th>\n",
       "      <th>Platform</th>\n",
       "      <th>Year_of_Release</th>\n",
       "      <th>Genre</th>\n",
       "      <th>NA_sales</th>\n",
       "      <th>EU_sales</th>\n",
       "      <th>JP_sales</th>\n",
       "      <th>Other_sales</th>\n",
       "      <th>Critic_Score</th>\n",
       "      <th>User_Score</th>\n",
       "      <th>Rating</th>\n",
       "    </tr>\n",
       "  </thead>\n",
       "  <tbody>\n",
       "    <tr>\n",
       "      <th>0</th>\n",
       "      <td>Wii Sports</td>\n",
       "      <td>Wii</td>\n",
       "      <td>2006.0</td>\n",
       "      <td>Sports</td>\n",
       "      <td>41.36</td>\n",
       "      <td>28.96</td>\n",
       "      <td>3.77</td>\n",
       "      <td>8.45</td>\n",
       "      <td>76.0</td>\n",
       "      <td>8</td>\n",
       "      <td>E</td>\n",
       "    </tr>\n",
       "    <tr>\n",
       "      <th>1</th>\n",
       "      <td>Super Mario Bros.</td>\n",
       "      <td>NES</td>\n",
       "      <td>1985.0</td>\n",
       "      <td>Platform</td>\n",
       "      <td>29.08</td>\n",
       "      <td>3.58</td>\n",
       "      <td>6.81</td>\n",
       "      <td>0.77</td>\n",
       "      <td>NaN</td>\n",
       "      <td>NaN</td>\n",
       "      <td>NaN</td>\n",
       "    </tr>\n",
       "    <tr>\n",
       "      <th>2</th>\n",
       "      <td>Mario Kart Wii</td>\n",
       "      <td>Wii</td>\n",
       "      <td>2008.0</td>\n",
       "      <td>Racing</td>\n",
       "      <td>15.68</td>\n",
       "      <td>12.76</td>\n",
       "      <td>3.79</td>\n",
       "      <td>3.29</td>\n",
       "      <td>82.0</td>\n",
       "      <td>8.3</td>\n",
       "      <td>E</td>\n",
       "    </tr>\n",
       "    <tr>\n",
       "      <th>3</th>\n",
       "      <td>Wii Sports Resort</td>\n",
       "      <td>Wii</td>\n",
       "      <td>2009.0</td>\n",
       "      <td>Sports</td>\n",
       "      <td>15.61</td>\n",
       "      <td>10.93</td>\n",
       "      <td>3.28</td>\n",
       "      <td>2.95</td>\n",
       "      <td>80.0</td>\n",
       "      <td>8</td>\n",
       "      <td>E</td>\n",
       "    </tr>\n",
       "    <tr>\n",
       "      <th>4</th>\n",
       "      <td>Pokemon Red/Pokemon Blue</td>\n",
       "      <td>GB</td>\n",
       "      <td>1996.0</td>\n",
       "      <td>Role-Playing</td>\n",
       "      <td>11.27</td>\n",
       "      <td>8.89</td>\n",
       "      <td>10.22</td>\n",
       "      <td>1.00</td>\n",
       "      <td>NaN</td>\n",
       "      <td>NaN</td>\n",
       "      <td>NaN</td>\n",
       "    </tr>\n",
       "  </tbody>\n",
       "</table>\n",
       "</div>"
      ],
      "text/plain": [
       "                       Name Platform  Year_of_Release         Genre  NA_sales  \\\n",
       "0                Wii Sports      Wii           2006.0        Sports     41.36   \n",
       "1         Super Mario Bros.      NES           1985.0      Platform     29.08   \n",
       "2            Mario Kart Wii      Wii           2008.0        Racing     15.68   \n",
       "3         Wii Sports Resort      Wii           2009.0        Sports     15.61   \n",
       "4  Pokemon Red/Pokemon Blue       GB           1996.0  Role-Playing     11.27   \n",
       "\n",
       "   EU_sales  JP_sales  Other_sales  Critic_Score User_Score Rating  \n",
       "0     28.96      3.77         8.45          76.0          8      E  \n",
       "1      3.58      6.81         0.77           NaN        NaN    NaN  \n",
       "2     12.76      3.79         3.29          82.0        8.3      E  \n",
       "3     10.93      3.28         2.95          80.0          8      E  \n",
       "4      8.89     10.22         1.00           NaN        NaN    NaN  "
      ]
     },
     "execution_count": 2,
     "metadata": {},
     "output_type": "execute_result"
    }
   ],
   "source": [
    "data = pd.read_csv('/datasets/games.csv')\n",
    "data.head()"
   ]
  },
  {
   "cell_type": "code",
   "execution_count": 3,
   "metadata": {},
   "outputs": [],
   "source": [
    "data.columns = data.columns.str.lower()"
   ]
  },
  {
   "cell_type": "markdown",
   "metadata": {},
   "source": [
    "Приводим столбцы к нижнему регистру"
   ]
  },
  {
   "cell_type": "code",
   "execution_count": 4,
   "metadata": {},
   "outputs": [
    {
     "name": "stdout",
     "output_type": "stream",
     "text": [
      "<class 'pandas.core.frame.DataFrame'>\n",
      "RangeIndex: 16715 entries, 0 to 16714\n",
      "Data columns (total 11 columns):\n",
      " #   Column           Non-Null Count  Dtype  \n",
      "---  ------           --------------  -----  \n",
      " 0   name             16713 non-null  object \n",
      " 1   platform         16715 non-null  object \n",
      " 2   year_of_release  16446 non-null  float64\n",
      " 3   genre            16713 non-null  object \n",
      " 4   na_sales         16715 non-null  float64\n",
      " 5   eu_sales         16715 non-null  float64\n",
      " 6   jp_sales         16715 non-null  float64\n",
      " 7   other_sales      16715 non-null  float64\n",
      " 8   critic_score     8137 non-null   float64\n",
      " 9   user_score       10014 non-null  object \n",
      " 10  rating           9949 non-null   object \n",
      "dtypes: float64(6), object(5)\n",
      "memory usage: 1.4+ MB\n"
     ]
    }
   ],
   "source": [
    "data.info()"
   ]
  },
  {
   "cell_type": "markdown",
   "metadata": {},
   "source": [
    "## "
   ]
  },
  {
   "cell_type": "code",
   "execution_count": 5,
   "metadata": {},
   "outputs": [
    {
     "data": {
      "text/plain": [
       "0    2006.0\n",
       "1    1985.0\n",
       "2    2008.0\n",
       "3    2009.0\n",
       "4    1996.0\n",
       "Name: year_of_release, dtype: float64"
      ]
     },
     "execution_count": 5,
     "metadata": {},
     "output_type": "execute_result"
    }
   ],
   "source": [
    "data['year_of_release'].head()"
   ]
  },
  {
   "cell_type": "code",
   "execution_count": 6,
   "metadata": {},
   "outputs": [
    {
     "data": {
      "text/plain": [
       "array(['8', nan, '8.3', '8.5', '6.6', '8.4', '8.6', '7.7', '6.3', '7.4',\n",
       "       '8.2', '9', '7.9', '8.1', '8.7', '7.1', '3.4', '5.3', '4.8', '3.2',\n",
       "       '8.9', '6.4', '7.8', '7.5', '2.6', '7.2', '9.2', '7', '7.3', '4.3',\n",
       "       '7.6', '5.7', '5', '9.1', '6.5', 'tbd', '8.8', '6.9', '9.4', '6.8',\n",
       "       '6.1', '6.7', '5.4', '4', '4.9', '4.5', '9.3', '6.2', '4.2', '6',\n",
       "       '3.7', '4.1', '5.8', '5.6', '5.5', '4.4', '4.6', '5.9', '3.9',\n",
       "       '3.1', '2.9', '5.2', '3.3', '4.7', '5.1', '3.5', '2.5', '1.9', '3',\n",
       "       '2.7', '2.2', '2', '9.5', '2.1', '3.6', '2.8', '1.8', '3.8', '0',\n",
       "       '1.6', '9.6', '2.4', '1.7', '1.1', '0.3', '1.5', '0.7', '1.2',\n",
       "       '2.3', '0.5', '1.3', '0.2', '0.6', '1.4', '0.9', '1', '9.7'],\n",
       "      dtype=object)"
      ]
     },
     "execution_count": 6,
     "metadata": {},
     "output_type": "execute_result"
    }
   ],
   "source": [
    "data['user_score'].unique()"
   ]
  },
  {
   "cell_type": "markdown",
   "metadata": {},
   "source": [
    "Заменим тип столбца \"year_of_release\" с float на int.\n",
    "Также нужно заменить тип стобца \"user_score\" с object на float.\n",
    "Но для этого нужно заполнить в них пропуски.\n",
    "\n",
    "\"\"tbd - to be determined  - пока не определён\"\""
   ]
  },
  {
   "cell_type": "markdown",
   "metadata": {},
   "source": [
    "Начнём заполнять пропуски"
   ]
  },
  {
   "cell_type": "code",
   "execution_count": 7,
   "metadata": {},
   "outputs": [
    {
     "data": {
      "text/html": [
       "<style  type=\"text/css\" >\n",
       "#T_9acc7_row0_col0,#T_9acc7_row1_col0,#T_9acc7_row2_col0,#T_9acc7_row3_col0,#T_9acc7_row4_col0,#T_9acc7_row5_col0,#T_9acc7_row6_col0{\n",
       "            background-color:  #3b4cc0;\n",
       "            color:  #f1f1f1;\n",
       "        }#T_9acc7_row7_col0{\n",
       "            background-color:  #445acc;\n",
       "            color:  #f1f1f1;\n",
       "        }#T_9acc7_row8_col0{\n",
       "            background-color:  #f18d6f;\n",
       "            color:  #000000;\n",
       "        }#T_9acc7_row9_col0{\n",
       "            background-color:  #f08a6c;\n",
       "            color:  #000000;\n",
       "        }#T_9acc7_row10_col0{\n",
       "            background-color:  #b40426;\n",
       "            color:  #f1f1f1;\n",
       "        }</style><table id=\"T_9acc7_\" ><thead>    <tr>        <th class=\"blank level0\" ></th>        <th class=\"col_heading level0 col0\" >0</th>    </tr></thead><tbody>\n",
       "                <tr>\n",
       "                        <th id=\"T_9acc7_level0_row0\" class=\"row_heading level0 row0\" >platform</th>\n",
       "                        <td id=\"T_9acc7_row0_col0\" class=\"data row0 col0\" >0.00%</td>\n",
       "            </tr>\n",
       "            <tr>\n",
       "                        <th id=\"T_9acc7_level0_row1\" class=\"row_heading level0 row1\" >na_sales</th>\n",
       "                        <td id=\"T_9acc7_row1_col0\" class=\"data row1 col0\" >0.00%</td>\n",
       "            </tr>\n",
       "            <tr>\n",
       "                        <th id=\"T_9acc7_level0_row2\" class=\"row_heading level0 row2\" >eu_sales</th>\n",
       "                        <td id=\"T_9acc7_row2_col0\" class=\"data row2 col0\" >0.00%</td>\n",
       "            </tr>\n",
       "            <tr>\n",
       "                        <th id=\"T_9acc7_level0_row3\" class=\"row_heading level0 row3\" >jp_sales</th>\n",
       "                        <td id=\"T_9acc7_row3_col0\" class=\"data row3 col0\" >0.00%</td>\n",
       "            </tr>\n",
       "            <tr>\n",
       "                        <th id=\"T_9acc7_level0_row4\" class=\"row_heading level0 row4\" >other_sales</th>\n",
       "                        <td id=\"T_9acc7_row4_col0\" class=\"data row4 col0\" >0.00%</td>\n",
       "            </tr>\n",
       "            <tr>\n",
       "                        <th id=\"T_9acc7_level0_row5\" class=\"row_heading level0 row5\" >name</th>\n",
       "                        <td id=\"T_9acc7_row5_col0\" class=\"data row5 col0\" >0.01%</td>\n",
       "            </tr>\n",
       "            <tr>\n",
       "                        <th id=\"T_9acc7_level0_row6\" class=\"row_heading level0 row6\" >genre</th>\n",
       "                        <td id=\"T_9acc7_row6_col0\" class=\"data row6 col0\" >0.01%</td>\n",
       "            </tr>\n",
       "            <tr>\n",
       "                        <th id=\"T_9acc7_level0_row7\" class=\"row_heading level0 row7\" >year_of_release</th>\n",
       "                        <td id=\"T_9acc7_row7_col0\" class=\"data row7 col0\" >1.61%</td>\n",
       "            </tr>\n",
       "            <tr>\n",
       "                        <th id=\"T_9acc7_level0_row8\" class=\"row_heading level0 row8\" >user_score</th>\n",
       "                        <td id=\"T_9acc7_row8_col0\" class=\"data row8 col0\" >40.09%</td>\n",
       "            </tr>\n",
       "            <tr>\n",
       "                        <th id=\"T_9acc7_level0_row9\" class=\"row_heading level0 row9\" >rating</th>\n",
       "                        <td id=\"T_9acc7_row9_col0\" class=\"data row9 col0\" >40.48%</td>\n",
       "            </tr>\n",
       "            <tr>\n",
       "                        <th id=\"T_9acc7_level0_row10\" class=\"row_heading level0 row10\" >critic_score</th>\n",
       "                        <td id=\"T_9acc7_row10_col0\" class=\"data row10 col0\" >51.32%</td>\n",
       "            </tr>\n",
       "    </tbody></table>"
      ],
      "text/plain": [
       "<pandas.io.formats.style.Styler at 0x7fa551a586a0>"
      ]
     },
     "execution_count": 7,
     "metadata": {},
     "output_type": "execute_result"
    }
   ],
   "source": [
    "data.isna().mean().round(4).to_frame().sort_values(by=0).style.format('{:.2%}').background_gradient('coolwarm')"
   ]
  },
  {
   "cell_type": "code",
   "execution_count": 8,
   "metadata": {},
   "outputs": [
    {
     "data": {
      "text/html": [
       "<div>\n",
       "<style scoped>\n",
       "    .dataframe tbody tr th:only-of-type {\n",
       "        vertical-align: middle;\n",
       "    }\n",
       "\n",
       "    .dataframe tbody tr th {\n",
       "        vertical-align: top;\n",
       "    }\n",
       "\n",
       "    .dataframe thead th {\n",
       "        text-align: right;\n",
       "    }\n",
       "</style>\n",
       "<table border=\"1\" class=\"dataframe\">\n",
       "  <thead>\n",
       "    <tr style=\"text-align: right;\">\n",
       "      <th></th>\n",
       "      <th>name</th>\n",
       "      <th>platform</th>\n",
       "      <th>year_of_release</th>\n",
       "      <th>genre</th>\n",
       "      <th>na_sales</th>\n",
       "      <th>eu_sales</th>\n",
       "      <th>jp_sales</th>\n",
       "      <th>other_sales</th>\n",
       "      <th>critic_score</th>\n",
       "      <th>user_score</th>\n",
       "      <th>rating</th>\n",
       "    </tr>\n",
       "  </thead>\n",
       "  <tbody>\n",
       "    <tr>\n",
       "      <th>659</th>\n",
       "      <td>NaN</td>\n",
       "      <td>GEN</td>\n",
       "      <td>1993.0</td>\n",
       "      <td>NaN</td>\n",
       "      <td>1.78</td>\n",
       "      <td>0.53</td>\n",
       "      <td>0.00</td>\n",
       "      <td>0.08</td>\n",
       "      <td>NaN</td>\n",
       "      <td>NaN</td>\n",
       "      <td>NaN</td>\n",
       "    </tr>\n",
       "    <tr>\n",
       "      <th>14244</th>\n",
       "      <td>NaN</td>\n",
       "      <td>GEN</td>\n",
       "      <td>1993.0</td>\n",
       "      <td>NaN</td>\n",
       "      <td>0.00</td>\n",
       "      <td>0.00</td>\n",
       "      <td>0.03</td>\n",
       "      <td>0.00</td>\n",
       "      <td>NaN</td>\n",
       "      <td>NaN</td>\n",
       "      <td>NaN</td>\n",
       "    </tr>\n",
       "  </tbody>\n",
       "</table>\n",
       "</div>"
      ],
      "text/plain": [
       "      name platform  year_of_release genre  na_sales  eu_sales  jp_sales  \\\n",
       "659    NaN      GEN           1993.0   NaN      1.78      0.53      0.00   \n",
       "14244  NaN      GEN           1993.0   NaN      0.00      0.00      0.03   \n",
       "\n",
       "       other_sales  critic_score user_score rating  \n",
       "659           0.08           NaN        NaN    NaN  \n",
       "14244         0.00           NaN        NaN    NaN  "
      ]
     },
     "execution_count": 8,
     "metadata": {},
     "output_type": "execute_result"
    }
   ],
   "source": [
    "data[data['name'].isnull() == True]"
   ]
  },
  {
   "cell_type": "code",
   "execution_count": 9,
   "metadata": {},
   "outputs": [
    {
     "data": {
      "text/html": [
       "<div>\n",
       "<style scoped>\n",
       "    .dataframe tbody tr th:only-of-type {\n",
       "        vertical-align: middle;\n",
       "    }\n",
       "\n",
       "    .dataframe tbody tr th {\n",
       "        vertical-align: top;\n",
       "    }\n",
       "\n",
       "    .dataframe thead th {\n",
       "        text-align: right;\n",
       "    }\n",
       "</style>\n",
       "<table border=\"1\" class=\"dataframe\">\n",
       "  <thead>\n",
       "    <tr style=\"text-align: right;\">\n",
       "      <th></th>\n",
       "      <th>name</th>\n",
       "      <th>platform</th>\n",
       "      <th>year_of_release</th>\n",
       "      <th>genre</th>\n",
       "      <th>na_sales</th>\n",
       "      <th>eu_sales</th>\n",
       "      <th>jp_sales</th>\n",
       "      <th>other_sales</th>\n",
       "      <th>critic_score</th>\n",
       "      <th>user_score</th>\n",
       "      <th>rating</th>\n",
       "    </tr>\n",
       "  </thead>\n",
       "  <tbody>\n",
       "    <tr>\n",
       "      <th>659</th>\n",
       "      <td>NaN</td>\n",
       "      <td>GEN</td>\n",
       "      <td>1993.0</td>\n",
       "      <td>NaN</td>\n",
       "      <td>1.78</td>\n",
       "      <td>0.53</td>\n",
       "      <td>0.00</td>\n",
       "      <td>0.08</td>\n",
       "      <td>NaN</td>\n",
       "      <td>NaN</td>\n",
       "      <td>NaN</td>\n",
       "    </tr>\n",
       "    <tr>\n",
       "      <th>14244</th>\n",
       "      <td>NaN</td>\n",
       "      <td>GEN</td>\n",
       "      <td>1993.0</td>\n",
       "      <td>NaN</td>\n",
       "      <td>0.00</td>\n",
       "      <td>0.00</td>\n",
       "      <td>0.03</td>\n",
       "      <td>0.00</td>\n",
       "      <td>NaN</td>\n",
       "      <td>NaN</td>\n",
       "      <td>NaN</td>\n",
       "    </tr>\n",
       "  </tbody>\n",
       "</table>\n",
       "</div>"
      ],
      "text/plain": [
       "      name platform  year_of_release genre  na_sales  eu_sales  jp_sales  \\\n",
       "659    NaN      GEN           1993.0   NaN      1.78      0.53      0.00   \n",
       "14244  NaN      GEN           1993.0   NaN      0.00      0.00      0.03   \n",
       "\n",
       "       other_sales  critic_score user_score rating  \n",
       "659           0.08           NaN        NaN    NaN  \n",
       "14244         0.00           NaN        NaN    NaN  "
      ]
     },
     "execution_count": 9,
     "metadata": {},
     "output_type": "execute_result"
    }
   ],
   "source": [
    "data[data['genre'].isnull() == True]"
   ]
  },
  {
   "cell_type": "markdown",
   "metadata": {},
   "source": [
    "В этих 2 строках очень много пропущенных значений и их всего 2, по\n",
    "этому удалим их"
   ]
  },
  {
   "cell_type": "code",
   "execution_count": 10,
   "metadata": {},
   "outputs": [],
   "source": [
    "data = data[data['name'].isnull() != True]"
   ]
  },
  {
   "cell_type": "markdown",
   "metadata": {},
   "source": [
    "Можно заметить что некоторые игры сожержат год в выпуска в своём названии, однако спортивные симуляторы выходят на год раньше."
   ]
  },
  {
   "cell_type": "code",
   "execution_count": 11,
   "metadata": {},
   "outputs": [],
   "source": [
    "data = data[data['year_of_release'].isnull() != True]"
   ]
  },
  {
   "cell_type": "markdown",
   "metadata": {},
   "source": [
    "Поменяем тип"
   ]
  },
  {
   "cell_type": "code",
   "execution_count": 12,
   "metadata": {},
   "outputs": [],
   "source": [
    "data['year_of_release'] = data['year_of_release'].astype('int')"
   ]
  },
  {
   "cell_type": "code",
   "execution_count": 13,
   "metadata": {},
   "outputs": [
    {
     "name": "stdout",
     "output_type": "stream",
     "text": [
      "<class 'pandas.core.frame.DataFrame'>\n",
      "Int64Index: 16444 entries, 0 to 16714\n",
      "Data columns (total 11 columns):\n",
      " #   Column           Non-Null Count  Dtype  \n",
      "---  ------           --------------  -----  \n",
      " 0   name             16444 non-null  object \n",
      " 1   platform         16444 non-null  object \n",
      " 2   year_of_release  16444 non-null  int64  \n",
      " 3   genre            16444 non-null  object \n",
      " 4   na_sales         16444 non-null  float64\n",
      " 5   eu_sales         16444 non-null  float64\n",
      " 6   jp_sales         16444 non-null  float64\n",
      " 7   other_sales      16444 non-null  float64\n",
      " 8   critic_score     7983 non-null   float64\n",
      " 9   user_score       9839 non-null   object \n",
      " 10  rating           9768 non-null   object \n",
      "dtypes: float64(5), int64(1), object(5)\n",
      "memory usage: 1.5+ MB\n"
     ]
    }
   ],
   "source": [
    "data.info()"
   ]
  },
  {
   "cell_type": "code",
   "execution_count": 14,
   "metadata": {},
   "outputs": [
    {
     "data": {
      "text/html": [
       "<div>\n",
       "<style scoped>\n",
       "    .dataframe tbody tr th:only-of-type {\n",
       "        vertical-align: middle;\n",
       "    }\n",
       "\n",
       "    .dataframe tbody tr th {\n",
       "        vertical-align: top;\n",
       "    }\n",
       "\n",
       "    .dataframe thead th {\n",
       "        text-align: right;\n",
       "    }\n",
       "</style>\n",
       "<table border=\"1\" class=\"dataframe\">\n",
       "  <thead>\n",
       "    <tr style=\"text-align: right;\">\n",
       "      <th></th>\n",
       "      <th>name</th>\n",
       "      <th>platform</th>\n",
       "      <th>year_of_release</th>\n",
       "      <th>genre</th>\n",
       "      <th>na_sales</th>\n",
       "      <th>eu_sales</th>\n",
       "      <th>jp_sales</th>\n",
       "      <th>other_sales</th>\n",
       "      <th>critic_score</th>\n",
       "      <th>user_score</th>\n",
       "      <th>rating</th>\n",
       "    </tr>\n",
       "  </thead>\n",
       "  <tbody>\n",
       "    <tr>\n",
       "      <th>119</th>\n",
       "      <td>Zumba Fitness</td>\n",
       "      <td>Wii</td>\n",
       "      <td>2010</td>\n",
       "      <td>Sports</td>\n",
       "      <td>3.45</td>\n",
       "      <td>2.59</td>\n",
       "      <td>0.0</td>\n",
       "      <td>0.66</td>\n",
       "      <td>NaN</td>\n",
       "      <td>tbd</td>\n",
       "      <td>E</td>\n",
       "    </tr>\n",
       "    <tr>\n",
       "      <th>301</th>\n",
       "      <td>Namco Museum: 50th Anniversary</td>\n",
       "      <td>PS2</td>\n",
       "      <td>2005</td>\n",
       "      <td>Misc</td>\n",
       "      <td>2.08</td>\n",
       "      <td>1.35</td>\n",
       "      <td>0.0</td>\n",
       "      <td>0.54</td>\n",
       "      <td>61.0</td>\n",
       "      <td>tbd</td>\n",
       "      <td>E10+</td>\n",
       "    </tr>\n",
       "    <tr>\n",
       "      <th>520</th>\n",
       "      <td>Zumba Fitness 2</td>\n",
       "      <td>Wii</td>\n",
       "      <td>2011</td>\n",
       "      <td>Sports</td>\n",
       "      <td>1.51</td>\n",
       "      <td>1.03</td>\n",
       "      <td>0.0</td>\n",
       "      <td>0.27</td>\n",
       "      <td>NaN</td>\n",
       "      <td>tbd</td>\n",
       "      <td>T</td>\n",
       "    </tr>\n",
       "    <tr>\n",
       "      <th>645</th>\n",
       "      <td>uDraw Studio</td>\n",
       "      <td>Wii</td>\n",
       "      <td>2010</td>\n",
       "      <td>Misc</td>\n",
       "      <td>1.65</td>\n",
       "      <td>0.57</td>\n",
       "      <td>0.0</td>\n",
       "      <td>0.20</td>\n",
       "      <td>71.0</td>\n",
       "      <td>tbd</td>\n",
       "      <td>E</td>\n",
       "    </tr>\n",
       "    <tr>\n",
       "      <th>718</th>\n",
       "      <td>Just Dance Kids</td>\n",
       "      <td>Wii</td>\n",
       "      <td>2010</td>\n",
       "      <td>Misc</td>\n",
       "      <td>1.52</td>\n",
       "      <td>0.54</td>\n",
       "      <td>0.0</td>\n",
       "      <td>0.18</td>\n",
       "      <td>NaN</td>\n",
       "      <td>tbd</td>\n",
       "      <td>E</td>\n",
       "    </tr>\n",
       "    <tr>\n",
       "      <th>...</th>\n",
       "      <td>...</td>\n",
       "      <td>...</td>\n",
       "      <td>...</td>\n",
       "      <td>...</td>\n",
       "      <td>...</td>\n",
       "      <td>...</td>\n",
       "      <td>...</td>\n",
       "      <td>...</td>\n",
       "      <td>...</td>\n",
       "      <td>...</td>\n",
       "      <td>...</td>\n",
       "    </tr>\n",
       "    <tr>\n",
       "      <th>16695</th>\n",
       "      <td>Planet Monsters</td>\n",
       "      <td>GBA</td>\n",
       "      <td>2001</td>\n",
       "      <td>Action</td>\n",
       "      <td>0.01</td>\n",
       "      <td>0.00</td>\n",
       "      <td>0.0</td>\n",
       "      <td>0.00</td>\n",
       "      <td>67.0</td>\n",
       "      <td>tbd</td>\n",
       "      <td>E</td>\n",
       "    </tr>\n",
       "    <tr>\n",
       "      <th>16697</th>\n",
       "      <td>Bust-A-Move 3000</td>\n",
       "      <td>GC</td>\n",
       "      <td>2003</td>\n",
       "      <td>Puzzle</td>\n",
       "      <td>0.01</td>\n",
       "      <td>0.00</td>\n",
       "      <td>0.0</td>\n",
       "      <td>0.00</td>\n",
       "      <td>53.0</td>\n",
       "      <td>tbd</td>\n",
       "      <td>E</td>\n",
       "    </tr>\n",
       "    <tr>\n",
       "      <th>16698</th>\n",
       "      <td>Mega Brain Boost</td>\n",
       "      <td>DS</td>\n",
       "      <td>2008</td>\n",
       "      <td>Puzzle</td>\n",
       "      <td>0.01</td>\n",
       "      <td>0.00</td>\n",
       "      <td>0.0</td>\n",
       "      <td>0.00</td>\n",
       "      <td>48.0</td>\n",
       "      <td>tbd</td>\n",
       "      <td>E</td>\n",
       "    </tr>\n",
       "    <tr>\n",
       "      <th>16704</th>\n",
       "      <td>Plushees</td>\n",
       "      <td>DS</td>\n",
       "      <td>2008</td>\n",
       "      <td>Simulation</td>\n",
       "      <td>0.01</td>\n",
       "      <td>0.00</td>\n",
       "      <td>0.0</td>\n",
       "      <td>0.00</td>\n",
       "      <td>NaN</td>\n",
       "      <td>tbd</td>\n",
       "      <td>E</td>\n",
       "    </tr>\n",
       "    <tr>\n",
       "      <th>16706</th>\n",
       "      <td>Men in Black II: Alien Escape</td>\n",
       "      <td>GC</td>\n",
       "      <td>2003</td>\n",
       "      <td>Shooter</td>\n",
       "      <td>0.01</td>\n",
       "      <td>0.00</td>\n",
       "      <td>0.0</td>\n",
       "      <td>0.00</td>\n",
       "      <td>NaN</td>\n",
       "      <td>tbd</td>\n",
       "      <td>T</td>\n",
       "    </tr>\n",
       "  </tbody>\n",
       "</table>\n",
       "<p>2376 rows × 11 columns</p>\n",
       "</div>"
      ],
      "text/plain": [
       "                                 name platform  year_of_release       genre  \\\n",
       "119                     Zumba Fitness      Wii             2010      Sports   \n",
       "301    Namco Museum: 50th Anniversary      PS2             2005        Misc   \n",
       "520                   Zumba Fitness 2      Wii             2011      Sports   \n",
       "645                      uDraw Studio      Wii             2010        Misc   \n",
       "718                   Just Dance Kids      Wii             2010        Misc   \n",
       "...                               ...      ...              ...         ...   \n",
       "16695                 Planet Monsters      GBA             2001      Action   \n",
       "16697                Bust-A-Move 3000       GC             2003      Puzzle   \n",
       "16698                Mega Brain Boost       DS             2008      Puzzle   \n",
       "16704                        Plushees       DS             2008  Simulation   \n",
       "16706   Men in Black II: Alien Escape       GC             2003     Shooter   \n",
       "\n",
       "       na_sales  eu_sales  jp_sales  other_sales  critic_score user_score  \\\n",
       "119        3.45      2.59       0.0         0.66           NaN        tbd   \n",
       "301        2.08      1.35       0.0         0.54          61.0        tbd   \n",
       "520        1.51      1.03       0.0         0.27           NaN        tbd   \n",
       "645        1.65      0.57       0.0         0.20          71.0        tbd   \n",
       "718        1.52      0.54       0.0         0.18           NaN        tbd   \n",
       "...         ...       ...       ...          ...           ...        ...   \n",
       "16695      0.01      0.00       0.0         0.00          67.0        tbd   \n",
       "16697      0.01      0.00       0.0         0.00          53.0        tbd   \n",
       "16698      0.01      0.00       0.0         0.00          48.0        tbd   \n",
       "16704      0.01      0.00       0.0         0.00           NaN        tbd   \n",
       "16706      0.01      0.00       0.0         0.00           NaN        tbd   \n",
       "\n",
       "      rating  \n",
       "119        E  \n",
       "301     E10+  \n",
       "520        T  \n",
       "645        E  \n",
       "718        E  \n",
       "...      ...  \n",
       "16695      E  \n",
       "16697      E  \n",
       "16698      E  \n",
       "16704      E  \n",
       "16706      T  \n",
       "\n",
       "[2376 rows x 11 columns]"
      ]
     },
     "execution_count": 14,
     "metadata": {},
     "output_type": "execute_result"
    }
   ],
   "source": [
    "data[data['user_score'] == 'tbd'] #\"\"tbd - to be determined  - пока не определён\"\""
   ]
  },
  {
   "cell_type": "markdown",
   "metadata": {},
   "source": [
    "Можно попробоватб заменить \"tbd\" на nan и применить метод k-ближайших соседей для подбора значений для замены пропусков. Для проверки нужно посмотреть распределения до и после."
   ]
  },
  {
   "cell_type": "markdown",
   "metadata": {},
   "source": [
    "\"tbd\" мог появиться из-за малого кол-ва данных или из-за того, что их ещё не успели обработать"
   ]
  },
  {
   "cell_type": "code",
   "execution_count": 15,
   "metadata": {},
   "outputs": [
    {
     "data": {
      "image/png": "[encoded data removed]",
      "text/plain": [
       "<Figure size 432x288 with 1 Axes>"
      ]
     },
     "metadata": {
      "needs_background": "light"
     },
     "output_type": "display_data"
    }
   ],
   "source": [
    "plt.xlabel('Оценки')\n",
    "plt.ylabel('Количество')\n",
    "plt.title('Гистограмма оценок пользователей')\n",
    "data['user_score'].hist(bins=10, grid=False);"
   ]
  },
  {
   "cell_type": "code",
   "execution_count": 16,
   "metadata": {},
   "outputs": [],
   "source": [
    "data.loc[data['user_score'] == 'tbd', 'user_score'] = np.nan"
   ]
  },
  {
   "cell_type": "code",
   "execution_count": 17,
   "metadata": {},
   "outputs": [
    {
     "data": {
      "text/plain": [
       "<AxesSubplot:title={'center':'Гистограмма оценок пользователей'}, xlabel='Оценки', ylabel='Количество'>"
      ]
     },
     "execution_count": 17,
     "metadata": {},
     "output_type": "execute_result"
    },
    {
     "data": {
      "image/png": "[encoded data removed]",
      "text/plain": [
       "<Figure size 432x288 with 1 Axes>"
      ]
     },
     "metadata": {
      "needs_background": "light"
     },
     "output_type": "display_data"
    }
   ],
   "source": [
    "plt.xlabel('Оценки')\n",
    "plt.ylabel('Количество')\n",
    "plt.title('Гистограмма оценок пользователей')\n",
    "data['user_score'].hist(bins=10, grid=False)"
   ]
  },
  {
   "cell_type": "code",
   "execution_count": 18,
   "metadata": {
    "scrolled": true
   },
   "outputs": [
    {
     "data": {
      "text/plain": [
       "<AxesSubplot:title={'center':'Гистограмма оценок критиков'}, xlabel='Оценки', ylabel='Количество'>"
      ]
     },
     "execution_count": 18,
     "metadata": {},
     "output_type": "execute_result"
    },
    {
     "data": {
      "image/png": "[encoded data removed]",
      "text/plain": [
       "<Figure size 432x288 with 1 Axes>"
      ]
     },
     "metadata": {
      "needs_background": "light"
     },
     "output_type": "display_data"
    }
   ],
   "source": [
    "plt.xlabel('Оценки')\n",
    "plt.ylabel('Количество')\n",
    "plt.title('Гистограмма оценок критиков')\n",
    "data['critic_score'].hist(bins=10)"
   ]
  },
  {
   "cell_type": "markdown",
   "metadata": {},
   "source": [
    "Метод k-ближайших соседей помог заменить пустующие значения в \"user_score\" и \"critic_score\". Несколько значений остались пропусками -  удалим их."
   ]
  },
  {
   "cell_type": "markdown",
   "metadata": {},
   "source": [
    "Значения в \"rating\" придётся оставить, так как это категориальная переменная, замену для которой очень сложно найти."
   ]
  },
  {
   "cell_type": "code",
   "execution_count": 26,
   "metadata": {},
   "outputs": [],
   "source": [
    "data['rating'] = data['rating'].fillna(value='unknown')"
   ]
  },
  {
   "cell_type": "code",
   "execution_count": 27,
   "metadata": {},
   "outputs": [],
   "source": [
    "data = data[data['user_score'].isnull() != True]\n",
    "data = data[data['critic_score'].isnull() != True]"
   ]
  },
  {
   "cell_type": "code",
   "execution_count": 28,
   "metadata": {},
   "outputs": [
    {
     "data": {
      "text/plain": [
       "0"
      ]
     },
     "execution_count": 28,
     "metadata": {},
     "output_type": "execute_result"
    }
   ],
   "source": [
    "data.duplicated().sum()"
   ]
  },
  {
   "cell_type": "markdown",
   "metadata": {},
   "source": [
    "дубликатов нет"
   ]
  },
  {
   "cell_type": "code",
   "execution_count": 29,
   "metadata": {},
   "outputs": [],
   "source": [
    "data['critic_score'] = data['critic_score'].astype('float')\n",
    "data['user_score'] = data['user_score'].astype('float')"
   ]
  },
  {
   "cell_type": "code",
   "execution_count": 30,
   "metadata": {},
   "outputs": [
    {
     "name": "stdout",
     "output_type": "stream",
     "text": [
      "<class 'pandas.core.frame.DataFrame'>\n",
      "Int64Index: 6894 entries, 0 to 16705\n",
      "Data columns (total 11 columns):\n",
      " #   Column           Non-Null Count  Dtype  \n",
      "---  ------           --------------  -----  \n",
      " 0   name             6894 non-null   object \n",
      " 1   platform         6894 non-null   object \n",
      " 2   year_of_release  6894 non-null   int64  \n",
      " 3   genre            6894 non-null   object \n",
      " 4   na_sales         6894 non-null   float64\n",
      " 5   eu_sales         6894 non-null   float64\n",
      " 6   jp_sales         6894 non-null   float64\n",
      " 7   other_sales      6894 non-null   float64\n",
      " 8   critic_score     6894 non-null   float64\n",
      " 9   user_score       6894 non-null   float64\n",
      " 10  rating           6894 non-null   object \n",
      "dtypes: float64(6), int64(1), object(4)\n",
      "memory usage: 646.3+ KB\n"
     ]
    }
   ],
   "source": [
    "data.info()"
   ]
  },
  {
   "cell_type": "markdown",
   "metadata": {},
   "source": [
    "Нужно создать столбец с суммарными продажами во всех регионах"
   ]
  },
  {
   "cell_type": "code",
   "execution_count": 31,
   "metadata": {},
   "outputs": [
    {
     "data": {
      "text/html": [
       "<div>\n",
       "<style scoped>\n",
       "    .dataframe tbody tr th:only-of-type {\n",
       "        vertical-align: middle;\n",
       "    }\n",
       "\n",
       "    .dataframe tbody tr th {\n",
       "        vertical-align: top;\n",
       "    }\n",
       "\n",
       "    .dataframe thead th {\n",
       "        text-align: right;\n",
       "    }\n",
       "</style>\n",
       "<table border=\"1\" class=\"dataframe\">\n",
       "  <thead>\n",
       "    <tr style=\"text-align: right;\">\n",
       "      <th></th>\n",
       "      <th>name</th>\n",
       "      <th>platform</th>\n",
       "      <th>year_of_release</th>\n",
       "      <th>genre</th>\n",
       "      <th>na_sales</th>\n",
       "      <th>eu_sales</th>\n",
       "      <th>jp_sales</th>\n",
       "      <th>other_sales</th>\n",
       "      <th>critic_score</th>\n",
       "      <th>user_score</th>\n",
       "      <th>rating</th>\n",
       "      <th>total_sales</th>\n",
       "    </tr>\n",
       "  </thead>\n",
       "  <tbody>\n",
       "    <tr>\n",
       "      <th>0</th>\n",
       "      <td>Wii Sports</td>\n",
       "      <td>Wii</td>\n",
       "      <td>2006</td>\n",
       "      <td>Sports</td>\n",
       "      <td>41.36</td>\n",
       "      <td>28.96</td>\n",
       "      <td>3.77</td>\n",
       "      <td>8.45</td>\n",
       "      <td>76.0</td>\n",
       "      <td>8.0</td>\n",
       "      <td>E</td>\n",
       "      <td>82.54</td>\n",
       "    </tr>\n",
       "    <tr>\n",
       "      <th>2</th>\n",
       "      <td>Mario Kart Wii</td>\n",
       "      <td>Wii</td>\n",
       "      <td>2008</td>\n",
       "      <td>Racing</td>\n",
       "      <td>15.68</td>\n",
       "      <td>12.76</td>\n",
       "      <td>3.79</td>\n",
       "      <td>3.29</td>\n",
       "      <td>82.0</td>\n",
       "      <td>8.3</td>\n",
       "      <td>E</td>\n",
       "      <td>35.52</td>\n",
       "    </tr>\n",
       "    <tr>\n",
       "      <th>3</th>\n",
       "      <td>Wii Sports Resort</td>\n",
       "      <td>Wii</td>\n",
       "      <td>2009</td>\n",
       "      <td>Sports</td>\n",
       "      <td>15.61</td>\n",
       "      <td>10.93</td>\n",
       "      <td>3.28</td>\n",
       "      <td>2.95</td>\n",
       "      <td>80.0</td>\n",
       "      <td>8.0</td>\n",
       "      <td>E</td>\n",
       "      <td>32.77</td>\n",
       "    </tr>\n",
       "    <tr>\n",
       "      <th>6</th>\n",
       "      <td>New Super Mario Bros.</td>\n",
       "      <td>DS</td>\n",
       "      <td>2006</td>\n",
       "      <td>Platform</td>\n",
       "      <td>11.28</td>\n",
       "      <td>9.14</td>\n",
       "      <td>6.50</td>\n",
       "      <td>2.88</td>\n",
       "      <td>89.0</td>\n",
       "      <td>8.5</td>\n",
       "      <td>E</td>\n",
       "      <td>29.80</td>\n",
       "    </tr>\n",
       "    <tr>\n",
       "      <th>7</th>\n",
       "      <td>Wii Play</td>\n",
       "      <td>Wii</td>\n",
       "      <td>2006</td>\n",
       "      <td>Misc</td>\n",
       "      <td>13.96</td>\n",
       "      <td>9.18</td>\n",
       "      <td>2.93</td>\n",
       "      <td>2.84</td>\n",
       "      <td>58.0</td>\n",
       "      <td>6.6</td>\n",
       "      <td>E</td>\n",
       "      <td>28.91</td>\n",
       "    </tr>\n",
       "  </tbody>\n",
       "</table>\n",
       "</div>"
      ],
      "text/plain": [
       "                    name platform  year_of_release     genre  na_sales  \\\n",
       "0             Wii Sports      Wii             2006    Sports     41.36   \n",
       "2         Mario Kart Wii      Wii             2008    Racing     15.68   \n",
       "3      Wii Sports Resort      Wii             2009    Sports     15.61   \n",
       "6  New Super Mario Bros.       DS             2006  Platform     11.28   \n",
       "7               Wii Play      Wii             2006      Misc     13.96   \n",
       "\n",
       "   eu_sales  jp_sales  other_sales  critic_score  user_score rating  \\\n",
       "0     28.96      3.77         8.45          76.0         8.0      E   \n",
       "2     12.76      3.79         3.29          82.0         8.3      E   \n",
       "3     10.93      3.28         2.95          80.0         8.0      E   \n",
       "6      9.14      6.50         2.88          89.0         8.5      E   \n",
       "7      9.18      2.93         2.84          58.0         6.6      E   \n",
       "\n",
       "   total_sales  \n",
       "0        82.54  \n",
       "2        35.52  \n",
       "3        32.77  \n",
       "6        29.80  \n",
       "7        28.91  "
      ]
     },
     "execution_count": 31,
     "metadata": {},
     "output_type": "execute_result"
    }
   ],
   "source": [
    "def sum_sales(row):\n",
    "    itog = row['na_sales'] + row['eu_sales'] + row['jp_sales'] + row['other_sales']\n",
    "    return itog\n",
    "\n",
    "data['total_sales'] = data.apply(sum_sales, axis=1)\n",
    "data.head()"
   ]
  },
  {
   "cell_type": "markdown",
   "metadata": {},
   "source": [
    "Микровывод: Обработаны пропуски в датасете(пропуски оставлены только в столбце \"rating\"), в двух стобцах поменяны типы данных на более удобные, а также добавлен новый столбец \"total_sales\" с общими продажами во всех регионах."
   ]
  },
  {
   "cell_type": "markdown",
   "metadata": {},
   "source": [
    "## "
   ]
  },
  {
   "cell_type": "code",
   "execution_count": 32,
   "metadata": {},
   "outputs": [
    {
     "data": {
      "image/png": "[encoded data removed]",
      "text/plain": [
       "<Figure size 432x288 with 1 Axes>"
      ]
     },
     "metadata": {
      "needs_background": "light"
     },
     "output_type": "display_data"
    }
   ],
   "source": [
    "plt.hist(data['year_of_release']);"
   ]
  },
  {
   "cell_type": "markdown",
   "metadata": {},
   "source": [
    "Начиная с 2000 года виден резкий скачок в количестве игр"
   ]
  },
  {
   "cell_type": "code",
   "execution_count": 33,
   "metadata": {
    "scrolled": true
   },
   "outputs": [
    {
     "data": {
      "image/png": "[encoded data removed]",
      "text/plain": [
       "<Figure size 432x288 with 1 Axes>"
      ]
     },
     "metadata": {
      "needs_background": "light"
     },
     "output_type": "display_data"
    }
   ],
   "source": [
    "plt.xlim((2000, 2016))\n",
    "plt.hist(data['year_of_release'], bins=15);"
   ]
  },
  {
   "cell_type": "markdown",
   "metadata": {},
   "source": [
    "Просадка после 2010 может объясняться влиянием мирового кризиса или тем, что данные не успели обработать.\n",
    "\n",
    "Для нашего исследования не особо важны даты с 1980 по 2000, так как игр в те годы выпускалось мало и платформы для них совершенно устарели."
   ]
  },
  {
   "cell_type": "code",
   "execution_count": 34,
   "metadata": {},
   "outputs": [
    {
     "data": {
      "text/plain": [
       "platform\n",
       "PS2     946.01\n",
       "X360    853.67\n",
       "PS3     785.44\n",
       "Wii     659.23\n",
       "DS      382.88\n",
       "PS4     244.27\n",
       "XB      212.22\n",
       "PS      209.98\n",
       "PC      189.85\n",
       "PSP     187.68\n",
       "GC      159.25\n",
       "GBA     131.70\n",
       "XOne    130.21\n",
       "3DS     123.52\n",
       "WiiU     66.08\n",
       "PSV      30.83\n",
       "DC        4.55\n",
       "Name: total_sales, dtype: float64"
      ]
     },
     "execution_count": 34,
     "metadata": {},
     "output_type": "execute_result"
    }
   ],
   "source": [
    "platform_grouped = data.groupby('platform')['total_sales'].sum().sort_values(ascending=False)\n",
    "platform_grouped"
   ]
  },
  {
   "cell_type": "code",
   "execution_count": 35,
   "metadata": {},
   "outputs": [
    {
     "data": {
      "image/png": "[encoded data removed]",
      "text/plain": [
       "<Figure size 432x288 with 1 Axes>"
      ]
     },
     "metadata": {
      "needs_background": "light"
     },
     "output_type": "display_data"
    },
    {
     "data": {
      "image/png": "[encoded data removed]",
      "text/plain": [
       "<Figure size 432x288 with 1 Axes>"
      ]
     },
     "metadata": {
      "needs_background": "light"
     },
     "output_type": "display_data"
    },
    {
     "data": {
      "image/png": "[encoded data removed]",
      "text/plain": [
       "<Figure size 432x288 with 1 Axes>"
      ]
     },
     "metadata": {
      "needs_background": "light"
     },
     "output_type": "display_data"
    },
    {
     "data": {
      "image/png": "[encoded data removed]",
      "text/plain": [
       "<Figure size 432x288 with 1 Axes>"
      ]
     },
     "metadata": {
      "needs_background": "light"
     },
     "output_type": "display_data"
    },
    {
     "data": {
      "image/png": "[encoded data removed]",
      "text/plain": [
       "<Figure size 432x288 with 1 Axes>"
      ]
     },
     "metadata": {
      "needs_background": "light"
     },
     "output_type": "display_data"
    },
    {
     "data": {
      "image/png": "[encoded data removed]",
      "text/plain": [
       "<Figure size 432x288 with 1 Axes>"
      ]
     },
     "metadata": {
      "needs_background": "light"
     },
     "output_type": "display_data"
    },
    {
     "data": {
      "image/png": "[encoded data removed]",
      "text/plain": [
       "<Figure size 432x288 with 1 Axes>"
      ]
     },
     "metadata": {
      "needs_background": "light"
     },
     "output_type": "display_data"
    },
    {
     "data": {
      "image/png": "[encoded data removed]",
      "text/plain": [
       "<Figure size 432x288 with 1 Axes>"
      ]
     },
     "metadata": {
      "needs_background": "light"
     },
     "output_type": "display_data"
    },
    {
     "data": {
      "image/png": "[encoded data removed]",
      "text/plain": [
       "<Figure size 432x288 with 1 Axes>"
      ]
     },
     "metadata": {
      "needs_background": "light"
     },
     "output_type": "display_data"
    },
    {
     "data": {
      "image/png": "[encoded data removed]",
      "text/plain": [
       "<Figure size 432x288 with 1 Axes>"
      ]
     },
     "metadata": {
      "needs_background": "light"
     },
     "output_type": "display_data"
    },
    {
     "data": {
      "image/png": "[encoded data removed]",
      "text/plain": [
       "<Figure size 432x288 with 1 Axes>"
      ]
     },
     "metadata": {
      "needs_background": "light"
     },
     "output_type": "display_data"
    }
   ],
   "source": [
    "for i in range(11):\n",
    "    platform_year = data[data['platform'] == platform_grouped.index[i]]\n",
    "    plt.title(str(platform_grouped.index[i]))\n",
    "    plt.hist(platform_year['year_of_release'])\n",
    "    plt.show()\n",
    "    \n"
   ]
  },
  {
   "cell_type": "markdown",
   "metadata": {},
   "source": [
    "С помощью этих гистограмм можно понять какие платформы пользуются популярностью, а какие можно отбросить из иследования, так как они больше не актуальны.\n",
    "Около 10 лет продолжается жизнь практически каждой платформы!\n",
    "\n",
    "Про продажам лидируют такие платформы как: PS2, X360, PS3, Wii. Но PS2 и Wii уже неактульны, а X360 к 2015 году практически закончил срок своего существования.\n",
    "\n",
    "PS4 и PC(personal computer) выглядят как самые перспективные из крупных платформ."
   ]
  },
  {
   "cell_type": "code",
   "execution_count": 36,
   "metadata": {
    "scrolled": true
   },
   "outputs": [
    {
     "name": "stdout",
     "output_type": "stream",
     "text": [
      "<class 'pandas.core.frame.DataFrame'>\n",
      "Int64Index: 1297 entries, 16 to 16692\n",
      "Data columns (total 12 columns):\n",
      " #   Column           Non-Null Count  Dtype  \n",
      "---  ------           --------------  -----  \n",
      " 0   name             1297 non-null   object \n",
      " 1   platform         1297 non-null   object \n",
      " 2   year_of_release  1297 non-null   int64  \n",
      " 3   genre            1297 non-null   object \n",
      " 4   na_sales         1297 non-null   float64\n",
      " 5   eu_sales         1297 non-null   float64\n",
      " 6   jp_sales         1297 non-null   float64\n",
      " 7   other_sales      1297 non-null   float64\n",
      " 8   critic_score     1297 non-null   float64\n",
      " 9   user_score       1297 non-null   float64\n",
      " 10  rating           1297 non-null   object \n",
      " 11  total_sales      1297 non-null   float64\n",
      "dtypes: float64(7), int64(1), object(4)\n",
      "memory usage: 131.7+ KB\n"
     ]
    }
   ],
   "source": [
    "data = data.loc[data['year_of_release'] > 2011] \n",
    "# Возьмём такой актуальный период, так как абсолютное большинство платформ, которые выпускали игры до 2005 года, уже устарели, \n",
    "# а нам нужна информация только для современных платформ, на которые продолжают выходить игры(а мы выяснили что платфомы живут около 10 лет)\n",
    "data.info()"
   ]
  },
  {
   "cell_type": "code",
   "execution_count": 37,
   "metadata": {},
   "outputs": [
    {
     "data": {
      "image/png": "[encoded data removed]",
      "text/plain": [
       "<Figure size 842.4x595.44 with 1 Axes>"
      ]
     },
     "metadata": {},
     "output_type": "display_data"
    }
   ],
   "source": [
    "sns.set(rc={'figure.figsize':(11.7,8.27)})\n",
    "boxplot = sns.boxplot(x=data[\"platform\"], y=data['total_sales'])\n",
    "boxplot.axes.set_title(\"Распределение продаж по платформам\", fontsize=16);"
   ]
  },
  {
   "cell_type": "markdown",
   "metadata": {},
   "source": [
    "Уберём аномальные значения"
   ]
  },
  {
   "cell_type": "code",
   "execution_count": 38,
   "metadata": {},
   "outputs": [
    {
     "data": {
      "image/png": "[encoded data removed]",
      "text/plain": [
       "<Figure size 842.4x595.44 with 1 Axes>"
      ]
     },
     "metadata": {},
     "output_type": "display_data"
    }
   ],
   "source": [
    "sns.set(rc={'figure.figsize':(11.7,8.27)})\n",
    "boxplot = sns.boxplot(x=data[\"platform\"], y=data[data['total_sales'] < 2]['total_sales']);\n",
    "boxplot.axes.set_title(\"Распределение продаж по платформам\", fontsize=16);"
   ]
  },
  {
   "cell_type": "markdown",
   "metadata": {},
   "source": [
    "Самые высокие медианы и 3 квартили у  PS3, X360, XOne, WiiU, Wii. Остальные платформы имеют очень маленьку медиану."
   ]
  },
  {
   "cell_type": "code",
   "execution_count": 39,
   "metadata": {},
   "outputs": [
    {
     "data": {
      "image/png": "[encoded data removed]",
      "text/plain": [
       "<Figure size 842.4x595.44 with 1 Axes>"
      ]
     },
     "metadata": {},
     "output_type": "display_data"
    }
   ],
   "source": [
    "PS4 = data.loc[(data['platform'] == 'PS4') & (data['total_sales'] < 0.9)]\n",
    "scatterplot = sns.scatterplot(data = PS4, x='critic_score', y='total_sales')\n",
    "scatterplot.axes.set_title(\"Корреляция продаж и оценок критиков\", fontsize=16);"
   ]
  },
  {
   "cell_type": "code",
   "execution_count": 40,
   "metadata": {},
   "outputs": [
    {
     "data": {
      "image/png": "[encoded data removed]",
      "text/plain": [
       "<Figure size 842.4x595.44 with 1 Axes>"
      ]
     },
     "metadata": {},
     "output_type": "display_data"
    }
   ],
   "source": [
    "scatterplot = sns.scatterplot(data = PS4, x='user_score', y='total_sales')\n",
    "scatterplot.axes.set_title(\"Корреляция продаж и оценок игроков\", fontsize=16);"
   ]
  },
  {
   "cell_type": "code",
   "execution_count": 41,
   "metadata": {},
   "outputs": [
    {
     "name": "stdout",
     "output_type": "stream",
     "text": [
      "0.3041916758150449\n",
      "0.05788802761277156\n"
     ]
    }
   ],
   "source": [
    "print(PS4['total_sales'].corr(PS4['critic_score']))\n",
    "print(PS4['total_sales'].corr(PS4['user_score']))"
   ]
  },
  {
   "cell_type": "markdown",
   "metadata": {},
   "source": [
    "Корреляция более заметна с оценками критиков, чем более высокие оценки, тем больше заработала игра. А вот в оценках игроков точки разбросаны достаточно хаотично. Проверим на других платформах. "
   ]
  },
  {
   "cell_type": "code",
   "execution_count": 42,
   "metadata": {},
   "outputs": [
    {
     "data": {
      "image/png": "[encoded data removed]",
      "text/plain": [
       "<Figure size 842.4x595.44 with 1 Axes>"
      ]
     },
     "metadata": {},
     "output_type": "display_data"
    }
   ],
   "source": [
    "PS3 = data.loc[(data['platform'] == 'PS3') & (data['total_sales'] < 0.9)]\n",
    "scatterplot = sns.scatterplot(data = PS3, x='critic_score', y='total_sales')\n",
    "scatterplot.axes.set_title(\"Корреляция продаж и оценок критиков(PS3)\", fontsize=16);"
   ]
  },
  {
   "cell_type": "code",
   "execution_count": 43,
   "metadata": {},
   "outputs": [
    {
     "data": {
      "image/png": "[encoded data removed]",
      "text/plain": [
       "<Figure size 842.4x595.44 with 1 Axes>"
      ]
     },
     "metadata": {},
     "output_type": "display_data"
    }
   ],
   "source": [
    "scatterplot = sns.scatterplot(data = PS3, x='user_score', y='total_sales')\n",
    "scatterplot.axes.set_title(\"Корреляция продаж и оценок игроков(PS3)\", fontsize=16);"
   ]
  },
  {
   "cell_type": "code",
   "execution_count": 44,
   "metadata": {},
   "outputs": [
    {
     "name": "stdout",
     "output_type": "stream",
     "text": [
      "0.385424762012627\n",
      "0.11569355293171543\n"
     ]
    }
   ],
   "source": [
    "print(PS3['total_sales'].corr(PS3['critic_score']))\n",
    "print(PS3['total_sales'].corr(PS3['user_score']))"
   ]
  },
  {
   "cell_type": "code",
   "execution_count": 45,
   "metadata": {},
   "outputs": [
    {
     "data": {
      "image/png": "[encoded data removed]",
      "text/plain": [
       "<Figure size 842.4x595.44 with 1 Axes>"
      ]
     },
     "metadata": {},
     "output_type": "display_data"
    }
   ],
   "source": [
    "XOne = data.loc[(data['platform'] == 'XOne') & (data['total_sales'] < 0.9)]\n",
    "scatterplot = sns.scatterplot(data = XOne, x='critic_score', y='total_sales')\n",
    "scatterplot.axes.set_title(\"Корреляция продаж и оценок критиков(XOne)\", fontsize=16);"
   ]
  },
  {
   "cell_type": "code",
   "execution_count": 46,
   "metadata": {},
   "outputs": [
    {
     "data": {
      "image/png": "[encoded data removed]",
      "text/plain": [
       "<Figure size 842.4x595.44 with 1 Axes>"
      ]
     },
     "metadata": {},
     "output_type": "display_data"
    }
   ],
   "source": [
    "scatterplot = sns.scatterplot(data = XOne, x='user_score', y='total_sales')\n",
    "scatterplot.axes.set_title(\"Корреляция продаж и оценок игроков(XOne)\", fontsize=16);"
   ]
  },
  {
   "cell_type": "code",
   "execution_count": 47,
   "metadata": {},
   "outputs": [
    {
     "name": "stdout",
     "output_type": "stream",
     "text": [
      "0.29309220691199306\n",
      "-0.050043543174134376\n"
     ]
    }
   ],
   "source": [
    "print(XOne['total_sales'].corr(XOne['critic_score']))\n",
    "print(XOne['total_sales'].corr(XOne['user_score']))"
   ]
  },
  {
   "cell_type": "code",
   "execution_count": 48,
   "metadata": {},
   "outputs": [
    {
     "data": {
      "image/png": "[encoded data removed]",
      "text/plain": [
       "<Figure size 842.4x595.44 with 1 Axes>"
      ]
     },
     "metadata": {},
     "output_type": "display_data"
    }
   ],
   "source": [
    "PC = data.loc[(data['platform'] == 'PC') & (data['total_sales'] < 0.9)]\n",
    "scatterplot = sns.scatterplot(data = PC, x='critic_score', y='total_sales')\n",
    "scatterplot.axes.set_title(\"Корреляция продаж и оценок критиков(PC)\", fontsize=16);"
   ]
  },
  {
   "cell_type": "code",
   "execution_count": 49,
   "metadata": {},
   "outputs": [
    {
     "data": {
      "image/png": "[encoded data removed]",
      "text/plain": [
       "<Figure size 842.4x595.44 with 1 Axes>"
      ]
     },
     "metadata": {},
     "output_type": "display_data"
    }
   ],
   "source": [
    "scatterplot = sns.scatterplot(data = PC, x='user_score', y='total_sales')\n",
    "scatterplot.axes.set_title(\"Корреляция продаж и оценок игроков(PC)\", fontsize=16);"
   ]
  },
  {
   "cell_type": "code",
   "execution_count": 50,
   "metadata": {},
   "outputs": [
    {
     "name": "stdout",
     "output_type": "stream",
     "text": [
      "0.33558791811430294\n",
      "-0.005791180125387808\n"
     ]
    }
   ],
   "source": [
    "print(PC['total_sales'].corr(PC['critic_score']))\n",
    "print(PC['total_sales'].corr(PC['user_score']))"
   ]
  },
  {
   "cell_type": "markdown",
   "metadata": {},
   "source": [
    "С другими платформами точно такая же тенденция. Оценки критиков показывают будет ли игры прибыльнее лучше чем оценки игроков."
   ]
  },
  {
   "cell_type": "code",
   "execution_count": 51,
   "metadata": {},
   "outputs": [
    {
     "data": {
      "image/png": "[encoded data removed]",
      "text/plain": [
       "<Figure size 842.4x595.44 with 1 Axes>"
      ]
     },
     "metadata": {},
     "output_type": "display_data"
    }
   ],
   "source": [
    "barplot = sns.barplot(data=data, x='genre', y='total_sales');\n",
    "barplot.axes.set_title('Доходы игр по жанрам');"
   ]
  },
  {
   "cell_type": "code",
   "execution_count": 52,
   "metadata": {},
   "outputs": [
    {
     "data": {
      "image/png": "[encoded data removed]",
      "text/plain": [
       "<Figure size 842.4x595.44 with 1 Axes>"
      ]
     },
     "metadata": {},
     "output_type": "display_data"
    }
   ],
   "source": [
    "boxplot = sns.boxplot(x=data[\"genre\"], y=data[data['total_sales'] < 2]['total_sales']);\n",
    "boxplot.axes.set_title(\"Доходы игр по жанрам\", fontsize=16);"
   ]
  },
  {
   "cell_type": "markdown",
   "metadata": {},
   "source": [
    "Исходя их двух графиков можно сказать, что самые успешные жанры это: шутеры, платформеры и спортивные игры.\n",
    "Очень плохо продаются приключения, головоломки и стратегии.\n",
    "Все остальные жанры находятся прмерно на одном уровне."
   ]
  },
  {
   "cell_type": "markdown",
   "metadata": {},
   "source": [
    "Микровывод: На данном этапе мы отсекли неактуальные данные(с 1980 по 2005 год), потому что срок жизни платформ составляет в среднем 10 лет.\n",
    "Самыми прибыльными актуальными платформами являются: PS3, PS4, X360.\n",
    "Далее выяснили, что между количеством продаж и отзывами критиков корреляция больше чем между количеством продаж и отзывами обычным пользователей. \n",
    "В конце этапа были вяывлены самые прибыльные жанры: шутеры, платформеры и спортивные игры."
   ]
  },
  {
   "cell_type": "markdown",
   "metadata": {},
   "source": [
    "## "
   ]
  },
  {
   "cell_type": "code",
   "execution_count": 53,
   "metadata": {},
   "outputs": [
    {
     "name": "stdout",
     "output_type": "stream",
     "text": [
      "<class 'pandas.core.frame.DataFrame'>\n",
      "Int64Index: 1297 entries, 16 to 16692\n",
      "Data columns (total 12 columns):\n",
      " #   Column           Non-Null Count  Dtype  \n",
      "---  ------           --------------  -----  \n",
      " 0   name             1297 non-null   object \n",
      " 1   platform         1297 non-null   object \n",
      " 2   year_of_release  1297 non-null   int64  \n",
      " 3   genre            1297 non-null   object \n",
      " 4   na_sales         1297 non-null   float64\n",
      " 5   eu_sales         1297 non-null   float64\n",
      " 6   jp_sales         1297 non-null   float64\n",
      " 7   other_sales      1297 non-null   float64\n",
      " 8   critic_score     1297 non-null   float64\n",
      " 9   user_score       1297 non-null   float64\n",
      " 10  rating           1297 non-null   object \n",
      " 11  total_sales      1297 non-null   float64\n",
      "dtypes: float64(7), int64(1), object(4)\n",
      "memory usage: 164.0+ KB\n"
     ]
    }
   ],
   "source": [
    "data.info()"
   ]
  },
  {
   "cell_type": "code",
   "execution_count": 54,
   "metadata": {},
   "outputs": [
    {
     "data": {
      "text/plain": [
       "<AxesSubplot:xlabel='platform'>"
      ]
     },
     "execution_count": 54,
     "metadata": {},
     "output_type": "execute_result"
    },
    {
     "data": {
      "image/png": "[encoded data removed]",
      "text/plain": [
       "<Figure size 842.4x595.44 with 1 Axes>"
      ]
     },
     "metadata": {},
     "output_type": "display_data"
    }
   ],
   "source": [
    "top_5_platform_na = data.groupby('platform')['na_sales'].sum().sort_values(ascending=False).head(5)\n",
    "top_5_platform_na.plot(kind='bar')"
   ]
  },
  {
   "cell_type": "code",
   "execution_count": 55,
   "metadata": {},
   "outputs": [
    {
     "data": {
      "text/plain": [
       "<AxesSubplot:xlabel='platform', ylabel='na_sales'>"
      ]
     },
     "execution_count": 55,
     "metadata": {},
     "output_type": "execute_result"
    },
    {
     "data": {
      "image/png": "[encoded data removed]",
      "text/plain": [
       "<Figure size 842.4x595.44 with 1 Axes>"
      ]
     },
     "metadata": {},
     "output_type": "display_data"
    }
   ],
   "source": [
    "data_without_other = data[['na_sales', 'platform', 'eu_sales', 'jp_sales', 'total_sales']].copy(deep=True)\n",
    "sns.boxplot(data=data_without_other[data_without_other['na_sales'] < 1], x='platform', y='na_sales')"
   ]
  },
  {
   "cell_type": "code",
   "execution_count": 56,
   "metadata": {},
   "outputs": [
    {
     "data": {
      "text/plain": [
       "<AxesSubplot:xlabel='platform'>"
      ]
     },
     "execution_count": 56,
     "metadata": {},
     "output_type": "execute_result"
    },
    {
     "data": {
      "image/png": "[encoded data removed]",
      "text/plain": [
       "<Figure size 842.4x595.44 with 1 Axes>"
      ]
     },
     "metadata": {},
     "output_type": "display_data"
    }
   ],
   "source": [
    "top_5_platform_eu = data.groupby('platform')['eu_sales'].sum().sort_values(ascending=False).head(5)\n",
    "top_5_platform_eu.plot(kind='bar')"
   ]
  },
  {
   "cell_type": "code",
   "execution_count": 57,
   "metadata": {},
   "outputs": [
    {
     "data": {
      "text/plain": [
       "<AxesSubplot:xlabel='platform', ylabel='eu_sales'>"
      ]
     },
     "execution_count": 57,
     "metadata": {},
     "output_type": "execute_result"
    },
    {
     "data": {
      "image/png": "[encoded data removed]",
      "text/plain": [
       "<Figure size 842.4x595.44 with 1 Axes>"
      ]
     },
     "metadata": {},
     "output_type": "display_data"
    }
   ],
   "source": [
    "sns.boxplot(data=data_without_other[data_without_other['eu_sales'] < 1], x='platform', y='eu_sales')"
   ]
  },
  {
   "cell_type": "code",
   "execution_count": 58,
   "metadata": {},
   "outputs": [
    {
     "data": {
      "text/plain": [
       "<AxesSubplot:xlabel='platform'>"
      ]
     },
     "execution_count": 58,
     "metadata": {},
     "output_type": "execute_result"
    },
    {
     "data": {
      "image/png": "[encoded data removed]",
      "text/plain": [
       "<Figure size 842.4x595.44 with 1 Axes>"
      ]
     },
     "metadata": {},
     "output_type": "display_data"
    }
   ],
   "source": [
    "top_5_platform_jp = data.groupby('platform')['jp_sales'].sum().sort_values(ascending=False).head(5)\n",
    "top_5_platform_jp.plot(kind='bar')"
   ]
  },
  {
   "cell_type": "code",
   "execution_count": 59,
   "metadata": {},
   "outputs": [
    {
     "data": {
      "text/plain": [
       "<AxesSubplot:xlabel='platform', ylabel='jp_sales'>"
      ]
     },
     "execution_count": 59,
     "metadata": {},
     "output_type": "execute_result"
    },
    {
     "data": {
      "image/png": "[encoded data removed]",
      "text/plain": [
       "<Figure size 842.4x595.44 with 1 Axes>"
      ]
     },
     "metadata": {},
     "output_type": "display_data"
    }
   ],
   "source": [
    "sns.boxplot(data=data_without_other[data_without_other['jp_sales'] < 1], x='platform', y='jp_sales')"
   ]
  },
  {
   "cell_type": "markdown",
   "metadata": {},
   "source": [
    "Самыми прибыльными в Америке являются(X360, Wii, PS3), в Европе(PS3, X360, Wii) и в Японии(3DS, PS3, WiiU). Популярные платформы схожи в Европе и Америке(там в почёте домашние приставки), а вот в Японии потребители чаще всего берут удобные, компактные приставки(DS, 3DS), которые удобно брать с собой куда либо."
   ]
  },
  {
   "cell_type": "code",
   "execution_count": 60,
   "metadata": {},
   "outputs": [
    {
     "data": {
      "text/plain": [
       "<AxesSubplot:xlabel='genre'>"
      ]
     },
     "execution_count": 60,
     "metadata": {},
     "output_type": "execute_result"
    },
    {
     "data": {
      "image/png": "[encoded data removed]",
      "text/plain": [
       "<Figure size 842.4x595.44 with 1 Axes>"
      ]
     },
     "metadata": {},
     "output_type": "display_data"
    }
   ],
   "source": [
    "top_5_genre_na = data.groupby('genre')['na_sales'].sum().sort_values(ascending=False).head(5)\n",
    "top_5_genre_na.plot(kind='bar')"
   ]
  },
  {
   "cell_type": "code",
   "execution_count": 61,
   "metadata": {},
   "outputs": [
    {
     "data": {
      "text/plain": [
       "<AxesSubplot:xlabel='genre'>"
      ]
     },
     "execution_count": 61,
     "metadata": {},
     "output_type": "execute_result"
    },
    {
     "data": {
      "image/png": "[encoded data removed]",
      "text/plain": [
       "<Figure size 842.4x595.44 with 1 Axes>"
      ]
     },
     "metadata": {},
     "output_type": "display_data"
    }
   ],
   "source": [
    "top_5_genre_eu = data.groupby('genre')['eu_sales'].sum().sort_values(ascending=False).head(5)\n",
    "top_5_genre_eu.plot(kind='bar')"
   ]
  },
  {
   "cell_type": "code",
   "execution_count": 62,
   "metadata": {},
   "outputs": [
    {
     "data": {
      "text/plain": [
       "<AxesSubplot:xlabel='genre'>"
      ]
     },
     "execution_count": 62,
     "metadata": {},
     "output_type": "execute_result"
    },
    {
     "data": {
      "image/png": "[encoded data removed]",
      "text/plain": [
       "<Figure size 842.4x595.44 with 1 Axes>"
      ]
     },
     "metadata": {},
     "output_type": "display_data"
    }
   ],
   "source": [
    "top_5_genre_jp = data.groupby('genre')['jp_sales'].sum().sort_values(ascending=False).head(5)\n",
    "top_5_genre_jp.plot(kind='bar')"
   ]
  },
  {
   "cell_type": "markdown",
   "metadata": {},
   "source": [
    "Если в Европе и Америке опять практически одинаковый по наименованиям и по их порядку набор самых популярных жанров(Action, sports, shooter, misc), то Япония отличается от них, хотя в её топе содержатся некоторые жанры, которые популярны и в Европе с Азией. На первых местах в Японии(role-playing, action, misc)"
   ]
  },
  {
   "cell_type": "code",
   "execution_count": 63,
   "metadata": {},
   "outputs": [
    {
     "data": {
      "text/plain": [
       "<AxesSubplot:xlabel='rating'>"
      ]
     },
     "execution_count": 63,
     "metadata": {},
     "output_type": "execute_result"
    },
    {
     "data": {
      "image/png": "[encoded data removed]",
      "text/plain": [
       "<Figure size 842.4x595.44 with 1 Axes>"
      ]
     },
     "metadata": {},
     "output_type": "display_data"
    }
   ],
   "source": [
    "rating_na = data.groupby('rating')['na_sales'].sum().sort_values(ascending=False)\n",
    "rating_na.plot(kind='bar')"
   ]
  },
  {
   "cell_type": "code",
   "execution_count": 64,
   "metadata": {},
   "outputs": [
    {
     "data": {
      "text/plain": [
       "<AxesSubplot:xlabel='rating'>"
      ]
     },
     "execution_count": 64,
     "metadata": {},
     "output_type": "execute_result"
    },
    {
     "data": {
      "image/png": "[encoded data removed]",
      "text/plain": [
       "<Figure size 842.4x595.44 with 1 Axes>"
      ]
     },
     "metadata": {},
     "output_type": "display_data"
    }
   ],
   "source": [
    "rating_eu = data.groupby('rating')['eu_sales'].sum().sort_values(ascending=False)\n",
    "rating_eu.plot(kind='bar')"
   ]
  },
  {
   "cell_type": "code",
   "execution_count": 65,
   "metadata": {},
   "outputs": [
    {
     "data": {
      "text/plain": [
       "<AxesSubplot:xlabel='rating'>"
      ]
     },
     "execution_count": 65,
     "metadata": {},
     "output_type": "execute_result"
    },
    {
     "data": {
      "image/png": "[encoded data removed]",
      "text/plain": [
       "<Figure size 842.4x595.44 with 1 Axes>"
      ]
     },
     "metadata": {},
     "output_type": "display_data"
    }
   ],
   "source": [
    "rating_jp = data.groupby('rating')['jp_sales'].sum().sort_values(ascending=False)\n",
    "rating_jp.plot(kind='bar')"
   ]
  },
  {
   "cell_type": "markdown",
   "metadata": {},
   "source": [
    " В Америке и Европе больше всего популярны игры для взрослых(М), а в Японии популярне всего игры для всех(E) и для подростков(T)"
   ]
  },
  {
   "cell_type": "markdown",
   "metadata": {},
   "source": [
    "Микровывод:"
   ]
  },
  {
   "cell_type": "markdown",
   "metadata": {},
   "source": [
    "## "
   ]
  },
  {
   "cell_type": "markdown",
   "metadata": {},
   "source": [
    "H0 = Средние пользовательские рейтинги платформ Xbox One и PC одинаковые\n",
    "H1 = Средние пользовательские рейтинги платформ Xbox One и PC разные"
   ]
  },
  {
   "cell_type": "code",
   "execution_count": 66,
   "metadata": {},
   "outputs": [],
   "source": [
    "\n",
    "xone_user_score = data[data['platform'] == 'XOne']['user_score']\n",
    "pc_user_score = data[data['platform'] == 'PC']['user_score']\n",
    "#scipy.stats.ttest_ind (array1, array2, equal_var)"
   ]
  },
  {
   "cell_type": "code",
   "execution_count": 67,
   "metadata": {},
   "outputs": [],
   "source": [
    "array_xone = random.sample(list(xone_user_score), 100) #создаём рандомные выборки\n",
    "array_pc = random.sample(list(pc_user_score), 100) "
   ]
  },
  {
   "cell_type": "code",
   "execution_count": 68,
   "metadata": {},
   "outputs": [],
   "source": [
    "alpha = 0.05 # достаточно общепринятое значение для уровня критической значимости "
   ]
  },
  {
   "cell_type": "code",
   "execution_count": 69,
   "metadata": {},
   "outputs": [
    {
     "data": {
      "text/plain": [
       "Ttest_indResult(statistic=-0.24726374692158537, pvalue=0.8049603157658778)"
      ]
     },
     "execution_count": 69,
     "metadata": {},
     "output_type": "execute_result"
    }
   ],
   "source": [
    "results = st.ttest_ind(array_xone, array_pc)\n",
    "results"
   ]
  },
  {
   "cell_type": "code",
   "execution_count": 70,
   "metadata": {},
   "outputs": [
    {
     "name": "stdout",
     "output_type": "stream",
     "text": [
      "Не получилось отвергнуть нулевую гипотезу\n"
     ]
    }
   ],
   "source": [
    "if results.pvalue < alpha:\n",
    "    print('Отвергаем нулевую гипотезу')\n",
    "else:\n",
    "    print('Не получилось отвергнуть нулевую гипотезу')"
   ]
  },
  {
   "cell_type": "markdown",
   "metadata": {},
   "source": [
    "Следовательно средние пользовательские рейтинги платформ Xbox One и PC одинаковые"
   ]
  },
  {
   "cell_type": "markdown",
   "metadata": {},
   "source": [
    "H0 = Средние пользовательские рейтинги жанров Action (англ. «действие», экшен-игры) и Sports (англ. «спортивные соревнования») одинаковые.\n",
    "H1 = Средние пользовательские рейтинги жанров Action (англ. «действие», экшен-игры) и Sports (англ. «спортивные соревнования») разные."
   ]
  },
  {
   "cell_type": "code",
   "execution_count": 71,
   "metadata": {},
   "outputs": [],
   "source": [
    "action_user_score = data[data['genre'] == 'Action']['user_score']\n",
    "sport_user_score = data[data['genre'] == 'Sports']['user_score']"
   ]
  },
  {
   "cell_type": "code",
   "execution_count": 72,
   "metadata": {},
   "outputs": [],
   "source": [
    "array_action = random.sample(list(action_user_score), 100) #создаём рандомные выборки\n",
    "array_sport = random.sample(list(sport_user_score), 100)"
   ]
  },
  {
   "cell_type": "code",
   "execution_count": 73,
   "metadata": {},
   "outputs": [
    {
     "data": {
      "text/plain": [
       "Ttest_indResult(statistic=8.274556354520588, pvalue=9.13633279873618e-16)"
      ]
     },
     "execution_count": 73,
     "metadata": {},
     "output_type": "execute_result"
    }
   ],
   "source": [
    "alpha = 0.05\n",
    "results = st.ttest_ind(action_user_score, sport_user_score)\n",
    "results"
   ]
  },
  {
   "cell_type": "code",
   "execution_count": 74,
   "metadata": {},
   "outputs": [
    {
     "name": "stdout",
     "output_type": "stream",
     "text": [
      "Отвергаем нулевую гипотезу\n"
     ]
    }
   ],
   "source": [
    "if results.pvalue < alpha:\n",
    "    print('Отвергаем нулевую гипотезу')\n",
    "else:\n",
    "    print('Не получилось отвергнуть нулевую гипотезу')"
   ]
  },
  {
   "cell_type": "code",
   "execution_count": 75,
   "metadata": {},
   "outputs": [
    {
     "name": "stdout",
     "output_type": "stream",
     "text": [
      "p-value равно 9.13633279873618e-16\n"
     ]
    }
   ],
   "source": [
    "print('p-value равно', results.pvalue)"
   ]
  },
  {
   "cell_type": "markdown",
   "metadata": {},
   "source": [
    "Следовательно - Средние пользовательские рейтинги жанров Action (англ. «действие», экшен-игры) и Sports (англ. «спортивные соревнования») разные."
   ]
  },
  {
   "cell_type": "markdown",
   "metadata": {},
   "source": [
    "Пояснение: нулевая гипотеза всегда говорит о равенсте чего-то чему-то, а альтернативная гипотеза бывает двух видов: однстороння или двустороняя, так как нам было не важно больше или меньше среднее одной совокупности другой совокупности, то нужна была двустороняя альтернативная гипотеза.\n",
    "\n",
    "Критерий выбрал st.ttest_ind так как он подходит для сравнения двух средних независимых выборок."
   ]
  },
  {
   "cell_type": "markdown",
   "metadata": {},
   "source": [
    "## "
   ]
  },
  {
   "cell_type": "markdown",
   "metadata": {},
   "source": [
    "Вывод: "
   ]
  },
  {
   "cell_type": "markdown",
   "metadata": {},
   "source": [
    "После первоначальной обработки данных был выбран актуальный период(с 2005 по 2015 год), так как игры, выпускавшиеся раньше выходили на платформы, которые уже сильно устарели. Были выявлена самые прибыльные платформы(PS2, X360, PS3, Wii) и перспективные(PS4 и PC, XOne). Также было выявлено, что оценки критиков с наибольшей вероятностью помогают понять будет ли успешна игра. \n",
    "\n",
    "При сравнении жанров самыми прибыльными оказались: шутеры, платформеры и спортивные игры. Самыми неприбыльными: стратегиии и головолмки.\n",
    "\n",
    "Дальше было проведено исследования предпотения потребителей в каждом регионе. В Северной америке и Европе практически одинаковые предпочтения в платформах(X360, Wii, PS3) и жанрах (Action, sports, shooter, misc). В Японии же немного другие предпочтения(платформы - DS, 3DS, PS3. Жанры - role-playing, action, misc). \n",
    "\n",
    "В конце были проверены 2 гипотезы. Было выяснено что, средние пользовательские рейтинги платформ Xbox One и PC одинаковые, а также средние пользовательские рейтинги жанров Action (англ. «действие», экшен-игры) и Sports (англ. «спортивные соревнования») одинаковые.\n"
   ]
  },
  {
   "cell_type": "code",
   "execution_count": null,
   "metadata": {},
   "outputs": [],
   "source": []
  }
 ],
 "metadata": {
  "ExecuteTimeLog": [
   {
    "duration": 415,
    "start_time": "2022-10-31T08:16:31.194Z"
   },
   {
    "duration": 204,
    "start_time": "2022-10-31T08:16:32.114Z"
   },
   {
    "duration": 27,
    "start_time": "2022-10-31T08:16:32.834Z"
   },
   {
    "duration": 74,
    "start_time": "2022-10-31T08:19:31.044Z"
   },
   {
    "duration": 5,
    "start_time": "2022-10-31T08:19:37.457Z"
   },
   {
    "duration": 4,
    "start_time": "2022-10-31T08:19:55.514Z"
   },
   {
    "duration": 5,
    "start_time": "2022-10-31T08:19:56.323Z"
   },
   {
    "duration": 4,
    "start_time": "2022-10-31T08:20:06.812Z"
   },
   {
    "duration": 4,
    "start_time": "2022-10-31T08:20:07.323Z"
   },
   {
    "duration": 15,
    "start_time": "2022-10-31T08:20:17.833Z"
   },
   {
    "duration": 69,
    "start_time": "2022-10-31T08:20:27.223Z"
   },
   {
    "duration": 3,
    "start_time": "2022-10-31T08:20:28.383Z"
   },
   {
    "duration": 19,
    "start_time": "2022-10-31T08:20:29.684Z"
   },
   {
    "duration": 16,
    "start_time": "2022-10-31T08:21:21.682Z"
   },
   {
    "duration": 8,
    "start_time": "2022-10-31T08:22:41.682Z"
   },
   {
    "duration": 5,
    "start_time": "2022-10-31T08:23:26.363Z"
   },
   {
    "duration": 5,
    "start_time": "2022-10-31T08:25:33.372Z"
   },
   {
    "duration": 5,
    "start_time": "2022-10-31T08:26:48.122Z"
   },
   {
    "duration": 7,
    "start_time": "2022-10-31T08:27:46.392Z"
   },
   {
    "duration": 9,
    "start_time": "2022-10-31T08:28:35.661Z"
   },
   {
    "duration": 12,
    "start_time": "2022-10-31T08:28:44.642Z"
   },
   {
    "duration": 15,
    "start_time": "2022-10-31T08:28:54.482Z"
   },
   {
    "duration": 7,
    "start_time": "2022-10-31T08:35:16.489Z"
   },
   {
    "duration": 7,
    "start_time": "2022-10-31T08:37:13.659Z"
   },
   {
    "duration": 948,
    "start_time": "2022-10-31T08:37:17.150Z"
   },
   {
    "duration": 690,
    "start_time": "2022-10-31T08:37:19.521Z"
   },
   {
    "duration": 66,
    "start_time": "2022-10-31T08:39:10.190Z"
   },
   {
    "duration": 50,
    "start_time": "2022-10-31T08:39:20.449Z"
   },
   {
    "duration": 16,
    "start_time": "2022-10-31T08:39:26.500Z"
   },
   {
    "duration": 9,
    "start_time": "2022-10-31T08:40:05.389Z"
   },
   {
    "duration": 8,
    "start_time": "2022-10-31T08:40:54.999Z"
   },
   {
    "duration": 5,
    "start_time": "2022-10-31T08:44:08.558Z"
   },
   {
    "duration": 7,
    "start_time": "2022-10-31T08:46:09.407Z"
   },
   {
    "duration": 5,
    "start_time": "2022-10-31T08:46:41.108Z"
   },
   {
    "duration": 10258,
    "start_time": "2022-10-31T08:47:45.857Z"
   },
   {
    "duration": 9,
    "start_time": "2022-10-31T08:49:24.047Z"
   },
   {
    "duration": 15,
    "start_time": "2022-10-31T08:49:33.677Z"
   },
   {
    "duration": 15,
    "start_time": "2022-10-31T08:49:55.837Z"
   },
   {
    "duration": 6,
    "start_time": "2022-10-31T08:51:11.667Z"
   },
   {
    "duration": 10,
    "start_time": "2022-10-31T08:51:15.708Z"
   },
   {
    "duration": 21,
    "start_time": "2022-10-31T08:51:40.868Z"
   },
   {
    "duration": 11,
    "start_time": "2022-10-31T08:53:02.769Z"
   },
   {
    "duration": 8,
    "start_time": "2022-10-31T08:53:07.638Z"
   },
   {
    "duration": 12,
    "start_time": "2022-10-31T08:54:54.476Z"
   },
   {
    "duration": 5,
    "start_time": "2022-10-31T08:54:58.257Z"
   },
   {
    "duration": 76,
    "start_time": "2022-10-31T08:54:58.897Z"
   },
   {
    "duration": 33,
    "start_time": "2022-10-31T08:54:59.217Z"
   },
   {
    "duration": 9,
    "start_time": "2022-10-31T08:56:31.246Z"
   },
   {
    "duration": 5,
    "start_time": "2022-10-31T08:56:37.047Z"
   },
   {
    "duration": 1341,
    "start_time": "2022-10-31T12:17:07.279Z"
   },
   {
    "duration": 104,
    "start_time": "2022-10-31T12:17:08.622Z"
   },
   {
    "duration": 3,
    "start_time": "2022-10-31T12:17:08.728Z"
   },
   {
    "duration": 18,
    "start_time": "2022-10-31T12:17:08.732Z"
   },
   {
    "duration": 5,
    "start_time": "2022-10-31T12:17:08.752Z"
   },
   {
    "duration": 9,
    "start_time": "2022-10-31T12:17:08.759Z"
   },
   {
    "duration": 92,
    "start_time": "2022-10-31T12:17:08.770Z"
   },
   {
    "duration": 16,
    "start_time": "2022-10-31T12:17:08.865Z"
   },
   {
    "duration": 26,
    "start_time": "2022-10-31T12:17:08.883Z"
   },
   {
    "duration": 6,
    "start_time": "2022-10-31T12:17:08.910Z"
   },
   {
    "duration": 4,
    "start_time": "2022-10-31T12:17:08.918Z"
   },
   {
    "duration": 7,
    "start_time": "2022-10-31T12:17:08.923Z"
   },
   {
    "duration": 22,
    "start_time": "2022-10-31T12:18:01.939Z"
   },
   {
    "duration": 22,
    "start_time": "2022-10-31T12:21:15.929Z"
   },
   {
    "duration": 6,
    "start_time": "2022-10-31T12:21:32.049Z"
   },
   {
    "duration": 19,
    "start_time": "2022-10-31T12:21:40.129Z"
   },
   {
    "duration": 5,
    "start_time": "2022-10-31T12:22:55.108Z"
   },
   {
    "duration": 19,
    "start_time": "2022-10-31T12:22:56.368Z"
   },
   {
    "duration": 26,
    "start_time": "2022-10-31T12:27:17.958Z"
   },
   {
    "duration": 19,
    "start_time": "2022-10-31T12:27:18.698Z"
   },
   {
    "duration": 29,
    "start_time": "2022-10-31T12:27:30.908Z"
   },
   {
    "duration": 5,
    "start_time": "2022-10-31T12:27:34.158Z"
   },
   {
    "duration": 510,
    "start_time": "2022-10-31T12:30:07.658Z"
   },
   {
    "duration": 15,
    "start_time": "2022-10-31T12:30:48.637Z"
   },
   {
    "duration": 14,
    "start_time": "2022-10-31T12:31:50.997Z"
   },
   {
    "duration": 14,
    "start_time": "2022-10-31T12:33:25.467Z"
   },
   {
    "duration": 16,
    "start_time": "2022-10-31T12:33:56.807Z"
   },
   {
    "duration": 14,
    "start_time": "2022-10-31T12:34:55.507Z"
   },
   {
    "duration": 14,
    "start_time": "2022-10-31T12:35:37.906Z"
   },
   {
    "duration": 15,
    "start_time": "2022-10-31T12:36:20.587Z"
   },
   {
    "duration": 13,
    "start_time": "2022-10-31T12:37:08.337Z"
   },
   {
    "duration": 13,
    "start_time": "2022-10-31T12:38:04.586Z"
   },
   {
    "duration": 13,
    "start_time": "2022-10-31T12:39:32.456Z"
   },
   {
    "duration": 17,
    "start_time": "2022-10-31T12:40:03.835Z"
   },
   {
    "duration": 3,
    "start_time": "2022-10-31T12:41:18.035Z"
   },
   {
    "duration": 4,
    "start_time": "2022-10-31T12:42:15.186Z"
   },
   {
    "duration": 13,
    "start_time": "2022-10-31T12:43:06.785Z"
   },
   {
    "duration": 13,
    "start_time": "2022-10-31T12:44:46.325Z"
   },
   {
    "duration": 14,
    "start_time": "2022-10-31T12:46:13.435Z"
   },
   {
    "duration": 13,
    "start_time": "2022-10-31T12:46:44.925Z"
   },
   {
    "duration": 6,
    "start_time": "2022-10-31T12:48:10.085Z"
   },
   {
    "duration": 15,
    "start_time": "2022-10-31T12:50:20.364Z"
   },
   {
    "duration": 538,
    "start_time": "2022-10-31T12:51:33.954Z"
   },
   {
    "duration": 12,
    "start_time": "2022-10-31T12:51:53.684Z"
   },
   {
    "duration": 5,
    "start_time": "2022-10-31T12:52:02.913Z"
   },
   {
    "duration": 514,
    "start_time": "2022-10-31T12:52:04.824Z"
   },
   {
    "duration": 13,
    "start_time": "2022-10-31T12:53:33.234Z"
   },
   {
    "duration": 13,
    "start_time": "2022-10-31T12:53:50.604Z"
   },
   {
    "duration": 16,
    "start_time": "2022-10-31T12:54:06.834Z"
   },
   {
    "duration": 18,
    "start_time": "2022-10-31T12:54:30.164Z"
   },
   {
    "duration": 22,
    "start_time": "2022-10-31T12:56:06.073Z"
   },
   {
    "duration": 2,
    "start_time": "2022-10-31T12:56:21.953Z"
   },
   {
    "duration": 81,
    "start_time": "2022-10-31T12:56:21.957Z"
   },
   {
    "duration": 3,
    "start_time": "2022-10-31T12:56:22.040Z"
   },
   {
    "duration": 63,
    "start_time": "2022-10-31T12:56:22.044Z"
   },
   {
    "duration": 23,
    "start_time": "2022-10-31T12:56:22.109Z"
   },
   {
    "duration": 35,
    "start_time": "2022-10-31T12:56:22.133Z"
   },
   {
    "duration": 39,
    "start_time": "2022-10-31T12:56:22.170Z"
   },
   {
    "duration": 25,
    "start_time": "2022-10-31T12:56:22.211Z"
   },
   {
    "duration": 32,
    "start_time": "2022-10-31T12:56:22.239Z"
   },
   {
    "duration": 14,
    "start_time": "2022-10-31T12:56:22.273Z"
   },
   {
    "duration": 57,
    "start_time": "2022-10-31T12:56:22.289Z"
   },
   {
    "duration": 17,
    "start_time": "2022-10-31T12:56:22.348Z"
   },
   {
    "duration": 62,
    "start_time": "2022-10-31T12:56:22.367Z"
   },
   {
    "duration": 21,
    "start_time": "2022-10-31T12:56:22.430Z"
   },
   {
    "duration": 604,
    "start_time": "2022-10-31T12:56:22.452Z"
   },
   {
    "duration": 14,
    "start_time": "2022-10-31T12:56:23.057Z"
   },
   {
    "duration": 32,
    "start_time": "2022-10-31T12:56:23.072Z"
   },
   {
    "duration": 46,
    "start_time": "2022-10-31T12:56:23.105Z"
   },
   {
    "duration": 22,
    "start_time": "2022-10-31T12:56:23.152Z"
   },
   {
    "duration": 35,
    "start_time": "2022-10-31T12:56:23.175Z"
   },
   {
    "duration": 30,
    "start_time": "2022-10-31T12:56:23.212Z"
   },
   {
    "duration": 37,
    "start_time": "2022-10-31T12:56:23.244Z"
   },
   {
    "duration": 21,
    "start_time": "2022-10-31T12:56:23.283Z"
   },
   {
    "duration": 60,
    "start_time": "2022-10-31T12:56:23.309Z"
   },
   {
    "duration": 35,
    "start_time": "2022-10-31T12:56:23.371Z"
   },
   {
    "duration": 39,
    "start_time": "2022-10-31T12:56:23.408Z"
   },
   {
    "duration": 43,
    "start_time": "2022-10-31T12:56:23.449Z"
   },
   {
    "duration": 42,
    "start_time": "2022-10-31T12:56:23.494Z"
   },
   {
    "duration": 31,
    "start_time": "2022-10-31T12:56:23.538Z"
   },
   {
    "duration": 41,
    "start_time": "2022-10-31T12:56:23.571Z"
   },
   {
    "duration": 20,
    "start_time": "2022-10-31T12:56:23.614Z"
   },
   {
    "duration": 40,
    "start_time": "2022-10-31T12:56:23.636Z"
   },
   {
    "duration": 20,
    "start_time": "2022-10-31T12:56:23.677Z"
   },
   {
    "duration": 69,
    "start_time": "2022-10-31T12:56:23.699Z"
   },
   {
    "duration": 66,
    "start_time": "2022-10-31T12:56:23.770Z"
   },
   {
    "duration": 65,
    "start_time": "2022-10-31T12:56:23.837Z"
   },
   {
    "duration": 24,
    "start_time": "2022-10-31T12:56:23.904Z"
   },
   {
    "duration": 33,
    "start_time": "2022-10-31T12:56:23.929Z"
   },
   {
    "duration": 38,
    "start_time": "2022-10-31T12:56:23.964Z"
   },
   {
    "duration": 47,
    "start_time": "2022-10-31T12:56:24.004Z"
   },
   {
    "duration": 23,
    "start_time": "2022-10-31T12:56:24.053Z"
   },
   {
    "duration": 57,
    "start_time": "2022-10-31T12:56:24.078Z"
   },
   {
    "duration": 29,
    "start_time": "2022-10-31T12:56:24.137Z"
   },
   {
    "duration": 63,
    "start_time": "2022-10-31T12:56:24.168Z"
   },
   {
    "duration": 26,
    "start_time": "2022-10-31T12:56:24.233Z"
   },
   {
    "duration": 46,
    "start_time": "2022-10-31T12:56:24.260Z"
   },
   {
    "duration": 26,
    "start_time": "2022-10-31T12:56:24.307Z"
   },
   {
    "duration": 519,
    "start_time": "2022-10-31T12:56:24.334Z"
   },
   {
    "duration": 18,
    "start_time": "2022-10-31T12:56:24.855Z"
   },
   {
    "duration": 46,
    "start_time": "2022-10-31T12:56:24.875Z"
   },
   {
    "duration": 50,
    "start_time": "2022-10-31T12:56:24.922Z"
   },
   {
    "duration": 57,
    "start_time": "2022-10-31T12:56:24.973Z"
   },
   {
    "duration": 76,
    "start_time": "2022-10-31T12:56:25.032Z"
   },
   {
    "duration": 55,
    "start_time": "2022-10-31T12:56:25.110Z"
   },
   {
    "duration": 72,
    "start_time": "2022-10-31T12:56:25.166Z"
   },
   {
    "duration": 93,
    "start_time": "2022-10-31T12:56:25.239Z"
   },
   {
    "duration": 54,
    "start_time": "2022-10-31T12:56:25.334Z"
   },
   {
    "duration": 9,
    "start_time": "2022-10-31T12:56:25.390Z"
   },
   {
    "duration": 18,
    "start_time": "2022-10-31T12:56:25.400Z"
   },
   {
    "duration": 4,
    "start_time": "2022-10-31T12:56:27.943Z"
   },
   {
    "duration": 14,
    "start_time": "2022-10-31T12:56:30.024Z"
   },
   {
    "duration": 13,
    "start_time": "2022-10-31T12:57:27.972Z"
   },
   {
    "duration": 4,
    "start_time": "2022-10-31T12:57:47.663Z"
   },
   {
    "duration": 485,
    "start_time": "2022-10-31T12:58:24.613Z"
   },
   {
    "duration": 13,
    "start_time": "2022-10-31T12:58:40.015Z"
   },
   {
    "duration": 14,
    "start_time": "2022-10-31T12:58:56.672Z"
   },
   {
    "duration": 4,
    "start_time": "2022-10-31T12:59:14.463Z"
   },
   {
    "duration": 13,
    "start_time": "2022-10-31T12:59:14.923Z"
   },
   {
    "duration": 5,
    "start_time": "2022-10-31T12:59:15.334Z"
   },
   {
    "duration": 14,
    "start_time": "2022-10-31T12:59:16.642Z"
   },
   {
    "duration": 13,
    "start_time": "2022-10-31T12:59:32.002Z"
   },
   {
    "duration": 15,
    "start_time": "2022-10-31T12:59:52.643Z"
   },
   {
    "duration": 5,
    "start_time": "2022-10-31T13:00:01.552Z"
   },
   {
    "duration": 5,
    "start_time": "2022-10-31T13:00:20.912Z"
   },
   {
    "duration": 13,
    "start_time": "2022-10-31T13:00:21.312Z"
   },
   {
    "duration": 5,
    "start_time": "2022-10-31T13:00:21.732Z"
   },
   {
    "duration": 13,
    "start_time": "2022-10-31T13:00:25.982Z"
   },
   {
    "duration": 5,
    "start_time": "2022-10-31T13:00:32.942Z"
   },
   {
    "duration": 13,
    "start_time": "2022-10-31T13:00:44.962Z"
   },
   {
    "duration": 4,
    "start_time": "2022-10-31T13:00:54.732Z"
   },
   {
    "duration": 15,
    "start_time": "2022-10-31T13:01:05.732Z"
   },
   {
    "duration": 5,
    "start_time": "2022-10-31T13:01:26.692Z"
   },
   {
    "duration": 15,
    "start_time": "2022-10-31T13:01:30.922Z"
   },
   {
    "duration": 5,
    "start_time": "2022-10-31T13:01:38.302Z"
   },
   {
    "duration": 13,
    "start_time": "2022-10-31T13:01:52.891Z"
   },
   {
    "duration": 4,
    "start_time": "2022-10-31T13:01:59.772Z"
   },
   {
    "duration": 12,
    "start_time": "2022-10-31T13:02:17.562Z"
   },
   {
    "duration": 5,
    "start_time": "2022-10-31T13:02:33.212Z"
   },
   {
    "duration": 14,
    "start_time": "2022-10-31T13:02:47.262Z"
   },
   {
    "duration": 13,
    "start_time": "2022-10-31T13:03:24.630Z"
   },
   {
    "duration": 6,
    "start_time": "2022-10-31T13:03:32.732Z"
   },
   {
    "duration": 15,
    "start_time": "2022-10-31T13:03:50.042Z"
   },
   {
    "duration": 5,
    "start_time": "2022-10-31T13:03:59.021Z"
   },
   {
    "duration": 19,
    "start_time": "2022-10-31T13:04:35.752Z"
   },
   {
    "duration": 415,
    "start_time": "2022-10-31T13:05:02.522Z"
   },
   {
    "duration": 353,
    "start_time": "2022-10-31T13:06:34.042Z"
   },
   {
    "duration": 341,
    "start_time": "2022-10-31T13:06:51.671Z"
   },
   {
    "duration": 665,
    "start_time": "2022-10-31T13:07:35.271Z"
   },
   {
    "duration": 427,
    "start_time": "2022-10-31T13:08:36.461Z"
   },
   {
    "duration": 631,
    "start_time": "2022-10-31T13:08:59.941Z"
   },
   {
    "duration": 425,
    "start_time": "2022-10-31T13:09:10.451Z"
   },
   {
    "duration": 607,
    "start_time": "2022-10-31T13:09:16.981Z"
   },
   {
    "duration": 51,
    "start_time": "2022-10-31T13:10:32.180Z"
   },
   {
    "duration": 623,
    "start_time": "2022-10-31T13:10:38.371Z"
   },
   {
    "duration": 615,
    "start_time": "2022-10-31T13:10:58.871Z"
   },
   {
    "duration": 656,
    "start_time": "2022-10-31T13:11:15.121Z"
   },
   {
    "duration": 442,
    "start_time": "2022-10-31T13:11:26.811Z"
   },
   {
    "duration": 458,
    "start_time": "2022-10-31T13:11:34.771Z"
   },
   {
    "duration": 452,
    "start_time": "2022-10-31T13:11:44.121Z"
   },
   {
    "duration": 48,
    "start_time": "2022-10-31T13:14:13.630Z"
   },
   {
    "duration": 595,
    "start_time": "2022-10-31T13:15:57.000Z"
   },
   {
    "duration": 20,
    "start_time": "2022-10-31T13:16:07.969Z"
   },
   {
    "duration": 605,
    "start_time": "2022-10-31T13:17:01.740Z"
   },
   {
    "duration": 626,
    "start_time": "2022-10-31T13:17:24.390Z"
   },
   {
    "duration": 20,
    "start_time": "2022-10-31T13:17:26.669Z"
   },
   {
    "duration": 455,
    "start_time": "2022-10-31T13:21:19.839Z"
   },
   {
    "duration": 19,
    "start_time": "2022-10-31T13:21:22.169Z"
   },
   {
    "duration": 2,
    "start_time": "2022-10-31T13:21:28.229Z"
   },
   {
    "duration": 93,
    "start_time": "2022-10-31T13:21:28.233Z"
   },
   {
    "duration": 4,
    "start_time": "2022-10-31T13:21:28.327Z"
   },
   {
    "duration": 31,
    "start_time": "2022-10-31T13:21:28.332Z"
   },
   {
    "duration": 17,
    "start_time": "2022-10-31T13:21:28.365Z"
   },
   {
    "duration": 29,
    "start_time": "2022-10-31T13:21:28.383Z"
   },
   {
    "duration": 33,
    "start_time": "2022-10-31T13:21:28.414Z"
   },
   {
    "duration": 25,
    "start_time": "2022-10-31T13:21:28.448Z"
   },
   {
    "duration": 29,
    "start_time": "2022-10-31T13:21:28.475Z"
   },
   {
    "duration": 22,
    "start_time": "2022-10-31T13:21:28.505Z"
   },
   {
    "duration": 46,
    "start_time": "2022-10-31T13:21:28.529Z"
   },
   {
    "duration": 6,
    "start_time": "2022-10-31T13:21:28.576Z"
   },
   {
    "duration": 49,
    "start_time": "2022-10-31T13:21:28.585Z"
   },
   {
    "duration": 36,
    "start_time": "2022-10-31T13:21:28.635Z"
   },
   {
    "duration": 527,
    "start_time": "2022-10-31T13:21:28.673Z"
   },
   {
    "duration": 14,
    "start_time": "2022-10-31T13:21:29.209Z"
   },
   {
    "duration": 52,
    "start_time": "2022-10-31T13:21:29.224Z"
   },
   {
    "duration": 26,
    "start_time": "2022-10-31T13:21:29.278Z"
   },
   {
    "duration": 29,
    "start_time": "2022-10-31T13:21:29.305Z"
   },
   {
    "duration": 35,
    "start_time": "2022-10-31T13:21:29.335Z"
   },
   {
    "duration": 22,
    "start_time": "2022-10-31T13:21:29.371Z"
   },
   {
    "duration": 35,
    "start_time": "2022-10-31T13:21:29.395Z"
   },
   {
    "duration": 34,
    "start_time": "2022-10-31T13:21:29.432Z"
   },
   {
    "duration": 20,
    "start_time": "2022-10-31T13:21:29.468Z"
   },
   {
    "duration": 21,
    "start_time": "2022-10-31T13:21:29.490Z"
   },
   {
    "duration": 27,
    "start_time": "2022-10-31T13:21:29.513Z"
   },
   {
    "duration": 10,
    "start_time": "2022-10-31T13:21:29.542Z"
   },
   {
    "duration": 31,
    "start_time": "2022-10-31T13:21:29.554Z"
   },
   {
    "duration": 15,
    "start_time": "2022-10-31T13:21:29.586Z"
   },
   {
    "duration": 38,
    "start_time": "2022-10-31T13:21:29.602Z"
   },
   {
    "duration": 16,
    "start_time": "2022-10-31T13:21:29.642Z"
   },
   {
    "duration": 31,
    "start_time": "2022-10-31T13:21:29.659Z"
   },
   {
    "duration": 24,
    "start_time": "2022-10-31T13:21:29.692Z"
   },
   {
    "duration": 30,
    "start_time": "2022-10-31T13:21:29.718Z"
   },
   {
    "duration": 22,
    "start_time": "2022-10-31T13:21:29.749Z"
   },
   {
    "duration": 31,
    "start_time": "2022-10-31T13:21:29.772Z"
   },
   {
    "duration": 11,
    "start_time": "2022-10-31T13:21:29.809Z"
   },
   {
    "duration": 28,
    "start_time": "2022-10-31T13:21:29.821Z"
   },
   {
    "duration": 19,
    "start_time": "2022-10-31T13:21:29.851Z"
   },
   {
    "duration": 22,
    "start_time": "2022-10-31T13:21:29.871Z"
   },
   {
    "duration": 25,
    "start_time": "2022-10-31T13:21:29.894Z"
   },
   {
    "duration": 30,
    "start_time": "2022-10-31T13:21:29.920Z"
   },
   {
    "duration": 15,
    "start_time": "2022-10-31T13:21:29.952Z"
   },
   {
    "duration": 27,
    "start_time": "2022-10-31T13:21:29.968Z"
   },
   {
    "duration": 11,
    "start_time": "2022-10-31T13:21:29.996Z"
   },
   {
    "duration": 47,
    "start_time": "2022-10-31T13:21:30.009Z"
   },
   {
    "duration": 34,
    "start_time": "2022-10-31T13:21:30.057Z"
   },
   {
    "duration": 36,
    "start_time": "2022-10-31T13:21:30.093Z"
   },
   {
    "duration": 47,
    "start_time": "2022-10-31T13:21:30.130Z"
   },
   {
    "duration": 37,
    "start_time": "2022-10-31T13:21:30.179Z"
   },
   {
    "duration": 46,
    "start_time": "2022-10-31T13:21:30.218Z"
   },
   {
    "duration": 59,
    "start_time": "2022-10-31T13:21:30.266Z"
   },
   {
    "duration": 42,
    "start_time": "2022-10-31T13:21:30.327Z"
   },
   {
    "duration": 50,
    "start_time": "2022-10-31T13:21:30.371Z"
   },
   {
    "duration": 58,
    "start_time": "2022-10-31T13:21:30.423Z"
   },
   {
    "duration": 55,
    "start_time": "2022-10-31T13:21:30.482Z"
   },
   {
    "duration": 44,
    "start_time": "2022-10-31T13:21:30.538Z"
   },
   {
    "duration": 45,
    "start_time": "2022-10-31T13:21:30.584Z"
   },
   {
    "duration": 44,
    "start_time": "2022-10-31T13:21:30.630Z"
   },
   {
    "duration": 52,
    "start_time": "2022-10-31T13:21:30.675Z"
   },
   {
    "duration": 50,
    "start_time": "2022-10-31T13:21:30.728Z"
   },
   {
    "duration": 540,
    "start_time": "2022-10-31T13:21:30.780Z"
   },
   {
    "duration": 13,
    "start_time": "2022-10-31T13:21:31.322Z"
   },
   {
    "duration": 35,
    "start_time": "2022-10-31T13:21:31.337Z"
   },
   {
    "duration": 42,
    "start_time": "2022-10-31T13:21:31.373Z"
   },
   {
    "duration": 41,
    "start_time": "2022-10-31T13:21:31.417Z"
   },
   {
    "duration": 43,
    "start_time": "2022-10-31T13:21:31.459Z"
   },
   {
    "duration": 32,
    "start_time": "2022-10-31T13:21:31.504Z"
   },
   {
    "duration": 40,
    "start_time": "2022-10-31T13:21:31.537Z"
   },
   {
    "duration": 40,
    "start_time": "2022-10-31T13:21:31.578Z"
   },
   {
    "duration": 51,
    "start_time": "2022-10-31T13:21:31.620Z"
   },
   {
    "duration": 53,
    "start_time": "2022-10-31T13:21:31.673Z"
   },
   {
    "duration": 54,
    "start_time": "2022-10-31T13:21:31.727Z"
   },
   {
    "duration": 45,
    "start_time": "2022-10-31T13:21:31.782Z"
   },
   {
    "duration": 85,
    "start_time": "2022-10-31T13:21:31.829Z"
   },
   {
    "duration": 60,
    "start_time": "2022-10-31T13:21:31.915Z"
   },
   {
    "duration": 128,
    "start_time": "2022-10-31T13:21:31.976Z"
   },
   {
    "duration": 50,
    "start_time": "2022-10-31T13:21:32.106Z"
   },
   {
    "duration": 36,
    "start_time": "2022-10-31T13:21:32.158Z"
   },
   {
    "duration": 44,
    "start_time": "2022-10-31T13:21:32.196Z"
   },
   {
    "duration": 46,
    "start_time": "2022-10-31T13:21:32.241Z"
   },
   {
    "duration": 45,
    "start_time": "2022-10-31T13:21:32.288Z"
   },
   {
    "duration": 57,
    "start_time": "2022-10-31T13:21:32.335Z"
   },
   {
    "duration": 40,
    "start_time": "2022-10-31T13:21:32.394Z"
   },
   {
    "duration": 44,
    "start_time": "2022-10-31T13:21:32.435Z"
   },
   {
    "duration": 41,
    "start_time": "2022-10-31T13:21:32.480Z"
   },
   {
    "duration": 84,
    "start_time": "2022-10-31T13:21:32.523Z"
   },
   {
    "duration": 493,
    "start_time": "2022-10-31T13:21:55.509Z"
   },
   {
    "duration": 22,
    "start_time": "2022-10-31T13:22:57.238Z"
   },
   {
    "duration": 3,
    "start_time": "2022-10-31T13:23:37.988Z"
   },
   {
    "duration": 65,
    "start_time": "2022-10-31T13:23:37.992Z"
   },
   {
    "duration": 3,
    "start_time": "2022-10-31T13:23:38.059Z"
   },
   {
    "duration": 17,
    "start_time": "2022-10-31T13:23:38.064Z"
   },
   {
    "duration": 4,
    "start_time": "2022-10-31T13:23:38.083Z"
   },
   {
    "duration": 9,
    "start_time": "2022-10-31T13:23:38.088Z"
   },
   {
    "duration": 19,
    "start_time": "2022-10-31T13:23:38.098Z"
   },
   {
    "duration": 12,
    "start_time": "2022-10-31T13:23:38.118Z"
   },
   {
    "duration": 16,
    "start_time": "2022-10-31T13:23:38.131Z"
   },
   {
    "duration": 9,
    "start_time": "2022-10-31T13:23:38.150Z"
   },
   {
    "duration": 23,
    "start_time": "2022-10-31T13:23:38.160Z"
   },
   {
    "duration": 6,
    "start_time": "2022-10-31T13:23:38.184Z"
   },
   {
    "duration": 32,
    "start_time": "2022-10-31T13:23:38.210Z"
   },
   {
    "duration": 31,
    "start_time": "2022-10-31T13:23:43.008Z"
   },
   {
    "duration": 19,
    "start_time": "2022-10-31T13:23:43.478Z"
   },
   {
    "duration": 660,
    "start_time": "2022-10-31T13:23:45.270Z"
   },
   {
    "duration": 18,
    "start_time": "2022-10-31T13:23:55.318Z"
   },
   {
    "duration": 7,
    "start_time": "2022-10-31T13:25:23.898Z"
   },
   {
    "duration": 9,
    "start_time": "2022-10-31T13:25:34.118Z"
   },
   {
    "duration": 4,
    "start_time": "2022-10-31T13:26:25.068Z"
   },
   {
    "duration": 13,
    "start_time": "2022-10-31T13:26:36.018Z"
   },
   {
    "duration": 1407,
    "start_time": "2022-10-31T16:53:18.794Z"
   },
   {
    "duration": 109,
    "start_time": "2022-10-31T16:53:20.203Z"
   },
   {
    "duration": 4,
    "start_time": "2022-10-31T16:53:20.314Z"
   },
   {
    "duration": 19,
    "start_time": "2022-10-31T16:53:20.319Z"
   },
   {
    "duration": 5,
    "start_time": "2022-10-31T16:53:20.341Z"
   },
   {
    "duration": 11,
    "start_time": "2022-10-31T16:53:20.347Z"
   },
   {
    "duration": 58,
    "start_time": "2022-10-31T16:53:20.360Z"
   },
   {
    "duration": 26,
    "start_time": "2022-10-31T16:53:20.420Z"
   },
   {
    "duration": 15,
    "start_time": "2022-10-31T16:53:20.448Z"
   },
   {
    "duration": 13,
    "start_time": "2022-10-31T16:53:20.464Z"
   },
   {
    "duration": 27,
    "start_time": "2022-10-31T16:53:20.478Z"
   },
   {
    "duration": 29,
    "start_time": "2022-10-31T16:53:20.506Z"
   },
   {
    "duration": 38,
    "start_time": "2022-10-31T16:53:20.537Z"
   },
   {
    "duration": 32,
    "start_time": "2022-10-31T16:53:20.578Z"
   },
   {
    "duration": 120,
    "start_time": "2022-10-31T16:53:20.634Z"
   },
   {
    "duration": 0,
    "start_time": "2022-10-31T16:53:20.756Z"
   },
   {
    "duration": 0,
    "start_time": "2022-10-31T16:53:20.757Z"
   },
   {
    "duration": 0,
    "start_time": "2022-10-31T16:53:20.758Z"
   },
   {
    "duration": 712,
    "start_time": "2022-10-31T16:54:01.645Z"
   },
   {
    "duration": 23,
    "start_time": "2022-10-31T16:54:03.904Z"
   },
   {
    "duration": 7,
    "start_time": "2022-10-31T16:54:07.133Z"
   },
   {
    "duration": 5,
    "start_time": "2022-10-31T16:54:08.574Z"
   },
   {
    "duration": 22,
    "start_time": "2022-10-31T16:54:09.724Z"
   },
   {
    "duration": 241,
    "start_time": "2022-10-31T17:03:12.973Z"
   },
   {
    "duration": 863,
    "start_time": "2022-10-31T17:03:13.932Z"
   },
   {
    "duration": 12,
    "start_time": "2022-10-31T17:05:43.522Z"
   },
   {
    "duration": 1268,
    "start_time": "2022-10-31T17:05:45.533Z"
   },
   {
    "duration": 29,
    "start_time": "2022-10-31T17:06:25.032Z"
   },
   {
    "duration": 6,
    "start_time": "2022-10-31T17:09:14.041Z"
   },
   {
    "duration": 15,
    "start_time": "2022-10-31T17:09:34.712Z"
   },
   {
    "duration": 28,
    "start_time": "2022-10-31T17:09:39.773Z"
   },
   {
    "duration": 1149,
    "start_time": "2022-10-31T17:20:22.039Z"
   },
   {
    "duration": 1300,
    "start_time": "2022-10-31T17:20:38.640Z"
   },
   {
    "duration": 1201,
    "start_time": "2022-10-31T17:20:47.429Z"
   },
   {
    "duration": 1123,
    "start_time": "2022-10-31T17:20:56.959Z"
   },
   {
    "duration": 1102,
    "start_time": "2022-10-31T17:21:06.549Z"
   },
   {
    "duration": 133,
    "start_time": "2022-10-31T17:21:30.860Z"
   },
   {
    "duration": 1198,
    "start_time": "2022-10-31T17:22:16.509Z"
   },
   {
    "duration": 10,
    "start_time": "2022-10-31T17:22:18.269Z"
   },
   {
    "duration": 12,
    "start_time": "2022-10-31T17:22:25.189Z"
   },
   {
    "duration": 1277,
    "start_time": "2022-10-31T17:22:31.939Z"
   },
   {
    "duration": 4,
    "start_time": "2022-10-31T17:22:58.059Z"
   },
   {
    "duration": 30,
    "start_time": "2022-10-31T17:22:59.041Z"
   },
   {
    "duration": 20516,
    "start_time": "2022-10-31T17:23:02.709Z"
   },
   {
    "duration": 15,
    "start_time": "2022-10-31T17:23:23.227Z"
   },
   {
    "duration": 137,
    "start_time": "2022-10-31T17:24:21.829Z"
   },
   {
    "duration": 134,
    "start_time": "2022-10-31T17:24:50.108Z"
   },
   {
    "duration": 8,
    "start_time": "2022-10-31T17:28:18.458Z"
   },
   {
    "duration": 142,
    "start_time": "2022-10-31T17:28:21.628Z"
   },
   {
    "duration": 15,
    "start_time": "2022-10-31T17:28:49.188Z"
   },
   {
    "duration": 18,
    "start_time": "2022-10-31T17:28:57.027Z"
   },
   {
    "duration": 16,
    "start_time": "2022-10-31T17:29:02.267Z"
   },
   {
    "duration": 14,
    "start_time": "2022-10-31T17:29:06.907Z"
   },
   {
    "duration": 24,
    "start_time": "2022-10-31T17:30:38.358Z"
   },
   {
    "duration": 24,
    "start_time": "2022-10-31T17:30:42.518Z"
   },
   {
    "duration": 14,
    "start_time": "2022-10-31T17:30:48.997Z"
   },
   {
    "duration": 15,
    "start_time": "2022-10-31T17:31:04.387Z"
   },
   {
    "duration": 3,
    "start_time": "2022-10-31T17:31:41.546Z"
   },
   {
    "duration": 71,
    "start_time": "2022-10-31T17:31:41.551Z"
   },
   {
    "duration": 3,
    "start_time": "2022-10-31T17:31:41.624Z"
   },
   {
    "duration": 21,
    "start_time": "2022-10-31T17:31:41.629Z"
   },
   {
    "duration": 5,
    "start_time": "2022-10-31T17:31:41.652Z"
   },
   {
    "duration": 9,
    "start_time": "2022-10-31T17:31:41.659Z"
   },
   {
    "duration": 20,
    "start_time": "2022-10-31T17:31:41.670Z"
   },
   {
    "duration": 14,
    "start_time": "2022-10-31T17:31:41.692Z"
   },
   {
    "duration": 60,
    "start_time": "2022-10-31T17:31:41.708Z"
   },
   {
    "duration": 10,
    "start_time": "2022-10-31T17:31:41.770Z"
   },
   {
    "duration": 39,
    "start_time": "2022-10-31T17:31:41.781Z"
   },
   {
    "duration": 11,
    "start_time": "2022-10-31T17:31:41.822Z"
   },
   {
    "duration": 40,
    "start_time": "2022-10-31T17:31:41.835Z"
   },
   {
    "duration": 26,
    "start_time": "2022-10-31T17:31:41.877Z"
   },
   {
    "duration": 790,
    "start_time": "2022-10-31T17:31:41.905Z"
   },
   {
    "duration": 23,
    "start_time": "2022-10-31T17:31:42.697Z"
   },
   {
    "duration": 6,
    "start_time": "2022-10-31T17:31:42.735Z"
   },
   {
    "duration": 10,
    "start_time": "2022-10-31T17:31:42.743Z"
   },
   {
    "duration": 17,
    "start_time": "2022-10-31T17:31:42.755Z"
   },
   {
    "duration": 20,
    "start_time": "2022-10-31T17:31:42.774Z"
   },
   {
    "duration": 1218,
    "start_time": "2022-10-31T17:31:42.796Z"
   },
   {
    "duration": 8,
    "start_time": "2022-10-31T17:31:44.016Z"
   },
   {
    "duration": 1162,
    "start_time": "2022-10-31T17:31:44.033Z"
   },
   {
    "duration": 141,
    "start_time": "2022-10-31T17:31:45.196Z"
   },
   {
    "duration": 3,
    "start_time": "2022-10-31T17:31:45.339Z"
   },
   {
    "duration": 25,
    "start_time": "2022-10-31T17:31:45.343Z"
   },
   {
    "duration": 20472,
    "start_time": "2022-10-31T17:31:45.369Z"
   },
   {
    "duration": 14,
    "start_time": "2022-10-31T17:32:05.843Z"
   },
   {
    "duration": 20,
    "start_time": "2022-10-31T17:32:39.726Z"
   },
   {
    "duration": 11,
    "start_time": "2022-10-31T17:32:40.736Z"
   },
   {
    "duration": 15,
    "start_time": "2022-10-31T17:33:20.277Z"
   },
   {
    "duration": 3,
    "start_time": "2022-10-31T17:33:51.527Z"
   },
   {
    "duration": 74,
    "start_time": "2022-10-31T17:33:51.532Z"
   },
   {
    "duration": 3,
    "start_time": "2022-10-31T17:33:51.608Z"
   },
   {
    "duration": 19,
    "start_time": "2022-10-31T17:33:51.614Z"
   },
   {
    "duration": 16,
    "start_time": "2022-10-31T17:33:51.636Z"
   },
   {
    "duration": 23,
    "start_time": "2022-10-31T17:33:51.654Z"
   },
   {
    "duration": 36,
    "start_time": "2022-10-31T17:33:51.680Z"
   },
   {
    "duration": 17,
    "start_time": "2022-10-31T17:33:51.718Z"
   },
   {
    "duration": 19,
    "start_time": "2022-10-31T17:33:51.737Z"
   },
   {
    "duration": 9,
    "start_time": "2022-10-31T17:33:51.758Z"
   },
   {
    "duration": 37,
    "start_time": "2022-10-31T17:33:51.769Z"
   },
   {
    "duration": 10,
    "start_time": "2022-10-31T17:33:51.835Z"
   },
   {
    "duration": 43,
    "start_time": "2022-10-31T17:33:51.847Z"
   },
   {
    "duration": 51,
    "start_time": "2022-10-31T17:33:51.894Z"
   },
   {
    "duration": 743,
    "start_time": "2022-10-31T17:33:51.946Z"
   },
   {
    "duration": 32,
    "start_time": "2022-10-31T17:33:52.691Z"
   },
   {
    "duration": 9,
    "start_time": "2022-10-31T17:33:52.734Z"
   },
   {
    "duration": 24,
    "start_time": "2022-10-31T17:33:52.747Z"
   },
   {
    "duration": 21,
    "start_time": "2022-10-31T17:33:52.780Z"
   },
   {
    "duration": 34,
    "start_time": "2022-10-31T17:33:52.805Z"
   },
   {
    "duration": 1225,
    "start_time": "2022-10-31T17:33:52.841Z"
   },
   {
    "duration": 6,
    "start_time": "2022-10-31T17:33:54.069Z"
   },
   {
    "duration": 1352,
    "start_time": "2022-10-31T17:33:54.077Z"
   },
   {
    "duration": 174,
    "start_time": "2022-10-31T17:33:55.434Z"
   },
   {
    "duration": 4,
    "start_time": "2022-10-31T17:33:55.611Z"
   },
   {
    "duration": 34,
    "start_time": "2022-10-31T17:33:55.617Z"
   },
   {
    "duration": 16780,
    "start_time": "2022-10-31T17:33:55.652Z"
   },
   {
    "duration": 15,
    "start_time": "2022-10-31T17:34:12.434Z"
   },
   {
    "duration": 8,
    "start_time": "2022-10-31T17:34:12.451Z"
   },
   {
    "duration": 223,
    "start_time": "2022-10-31T17:34:12.461Z"
   },
   {
    "duration": 153,
    "start_time": "2022-10-31T17:34:12.686Z"
   },
   {
    "duration": 23,
    "start_time": "2022-10-31T17:34:12.841Z"
   },
   {
    "duration": 14,
    "start_time": "2022-10-31T17:34:49.127Z"
   },
   {
    "duration": 6,
    "start_time": "2022-10-31T17:36:18.046Z"
   },
   {
    "duration": 15,
    "start_time": "2022-10-31T17:36:18.577Z"
   },
   {
    "duration": 15,
    "start_time": "2022-10-31T17:36:20.126Z"
   },
   {
    "duration": 235,
    "start_time": "2022-10-31T17:42:27.366Z"
   },
   {
    "duration": 235,
    "start_time": "2022-10-31T17:42:33.646Z"
   },
   {
    "duration": 1368,
    "start_time": "2022-11-01T18:54:36.494Z"
   },
   {
    "duration": 111,
    "start_time": "2022-11-01T18:54:37.865Z"
   },
   {
    "duration": 4,
    "start_time": "2022-11-01T18:54:37.977Z"
   },
   {
    "duration": 16,
    "start_time": "2022-11-01T18:54:37.983Z"
   },
   {
    "duration": 5,
    "start_time": "2022-11-01T18:54:38.001Z"
   },
   {
    "duration": 12,
    "start_time": "2022-11-01T18:54:38.007Z"
   },
   {
    "duration": 54,
    "start_time": "2022-11-01T18:54:38.021Z"
   },
   {
    "duration": 14,
    "start_time": "2022-11-01T18:54:38.076Z"
   },
   {
    "duration": 25,
    "start_time": "2022-11-01T18:54:38.092Z"
   },
   {
    "duration": 6,
    "start_time": "2022-11-01T18:54:38.119Z"
   },
   {
    "duration": 24,
    "start_time": "2022-11-01T18:54:38.126Z"
   },
   {
    "duration": 6,
    "start_time": "2022-11-01T18:54:38.151Z"
   },
   {
    "duration": 53,
    "start_time": "2022-11-01T18:54:38.159Z"
   },
   {
    "duration": 20,
    "start_time": "2022-11-01T18:54:38.215Z"
   },
   {
    "duration": 677,
    "start_time": "2022-11-01T18:54:38.239Z"
   },
   {
    "duration": 19,
    "start_time": "2022-11-01T18:54:38.917Z"
   },
   {
    "duration": 6,
    "start_time": "2022-11-01T18:54:38.938Z"
   },
   {
    "duration": 3,
    "start_time": "2022-11-01T18:54:38.945Z"
   },
   {
    "duration": 15,
    "start_time": "2022-11-01T18:54:38.949Z"
   },
   {
    "duration": 19,
    "start_time": "2022-11-01T18:54:38.965Z"
   },
   {
    "duration": 1005,
    "start_time": "2022-11-01T18:54:39.009Z"
   },
   {
    "duration": 4,
    "start_time": "2022-11-01T18:54:40.016Z"
   },
   {
    "duration": 991,
    "start_time": "2022-11-01T18:54:40.022Z"
   },
   {
    "duration": 132,
    "start_time": "2022-11-01T18:54:41.015Z"
   },
   {
    "duration": 311,
    "start_time": "2022-11-01T18:54:41.148Z"
   },
   {
    "duration": 22,
    "start_time": "2022-11-01T18:54:41.461Z"
   },
   {
    "duration": 13792,
    "start_time": "2022-11-01T18:54:41.485Z"
   },
   {
    "duration": 11,
    "start_time": "2022-11-01T18:54:55.278Z"
   },
   {
    "duration": 8,
    "start_time": "2022-11-01T18:54:55.290Z"
   },
   {
    "duration": 124,
    "start_time": "2022-11-01T18:54:55.300Z"
   },
   {
    "duration": 128,
    "start_time": "2022-11-01T18:54:55.426Z"
   },
   {
    "duration": 8,
    "start_time": "2022-11-01T18:54:55.556Z"
   },
   {
    "duration": 14,
    "start_time": "2022-11-01T18:54:55.566Z"
   },
   {
    "duration": 34,
    "start_time": "2022-11-01T18:54:55.582Z"
   },
   {
    "duration": 263,
    "start_time": "2022-11-01T18:54:55.618Z"
   },
   {
    "duration": 213,
    "start_time": "2022-11-01T18:54:58.024Z"
   },
   {
    "duration": 122,
    "start_time": "2022-11-01T18:55:36.074Z"
   },
   {
    "duration": 128,
    "start_time": "2022-11-01T19:01:49.803Z"
   },
   {
    "duration": 2,
    "start_time": "2022-11-01T19:01:52.724Z"
   },
   {
    "duration": 112,
    "start_time": "2022-11-01T19:01:53.132Z"
   },
   {
    "duration": 114,
    "start_time": "2022-11-01T19:01:58.262Z"
   },
   {
    "duration": 111,
    "start_time": "2022-11-01T19:03:39.453Z"
   },
   {
    "duration": 139,
    "start_time": "2022-11-01T19:04:59.772Z"
   },
   {
    "duration": 135,
    "start_time": "2022-11-01T19:05:09.062Z"
   },
   {
    "duration": 5,
    "start_time": "2022-11-01T19:10:57.481Z"
   },
   {
    "duration": 7,
    "start_time": "2022-11-01T19:11:03.841Z"
   },
   {
    "duration": 13,
    "start_time": "2022-11-01T19:11:17.341Z"
   },
   {
    "duration": 8,
    "start_time": "2022-11-01T19:11:25.641Z"
   },
   {
    "duration": 7,
    "start_time": "2022-11-01T19:11:35.151Z"
   },
   {
    "duration": 4,
    "start_time": "2022-11-01T19:13:32.130Z"
   },
   {
    "duration": 40,
    "start_time": "2022-11-01T19:15:51.610Z"
   },
   {
    "duration": 1076,
    "start_time": "2022-11-01T19:15:56.870Z"
   },
   {
    "duration": 164,
    "start_time": "2022-11-01T19:17:23.460Z"
   },
   {
    "duration": 173,
    "start_time": "2022-11-01T19:17:26.289Z"
   },
   {
    "duration": 162,
    "start_time": "2022-11-01T19:17:33.970Z"
   },
   {
    "duration": 153,
    "start_time": "2022-11-01T19:17:43.490Z"
   },
   {
    "duration": 156,
    "start_time": "2022-11-01T19:17:57.610Z"
   },
   {
    "duration": 165,
    "start_time": "2022-11-01T19:18:11.960Z"
   },
   {
    "duration": 159,
    "start_time": "2022-11-01T19:18:16.586Z"
   },
   {
    "duration": 161,
    "start_time": "2022-11-01T19:18:22.571Z"
   },
   {
    "duration": 11,
    "start_time": "2022-11-01T19:18:43.410Z"
   },
   {
    "duration": 12,
    "start_time": "2022-11-01T19:18:50.061Z"
   },
   {
    "duration": 9,
    "start_time": "2022-11-01T19:18:55.460Z"
   },
   {
    "duration": 9,
    "start_time": "2022-11-01T19:18:59.420Z"
   },
   {
    "duration": 42,
    "start_time": "2022-11-01T19:19:03.929Z"
   },
   {
    "duration": 155,
    "start_time": "2022-11-01T19:19:06.779Z"
   },
   {
    "duration": 161,
    "start_time": "2022-11-01T19:19:13.249Z"
   },
   {
    "duration": 20,
    "start_time": "2022-11-01T19:20:16.419Z"
   },
   {
    "duration": 22,
    "start_time": "2022-11-01T19:20:32.780Z"
   },
   {
    "duration": 238,
    "start_time": "2022-11-01T19:21:21.540Z"
   },
   {
    "duration": 1327,
    "start_time": "2022-11-01T19:21:36.899Z"
   },
   {
    "duration": 128,
    "start_time": "2022-11-01T19:22:00.669Z"
   },
   {
    "duration": 133,
    "start_time": "2022-11-01T19:24:39.179Z"
   },
   {
    "duration": 135,
    "start_time": "2022-11-01T19:25:18.848Z"
   },
   {
    "duration": 129,
    "start_time": "2022-11-01T19:26:21.119Z"
   },
   {
    "duration": 1364,
    "start_time": "2022-11-01T19:26:28.839Z"
   },
   {
    "duration": 15,
    "start_time": "2022-11-01T19:31:24.338Z"
   },
   {
    "duration": 15,
    "start_time": "2022-11-01T19:31:30.948Z"
   },
   {
    "duration": 43,
    "start_time": "2022-11-02T15:20:33.238Z"
   },
   {
    "duration": 1294,
    "start_time": "2022-11-02T15:20:34.908Z"
   },
   {
    "duration": 100,
    "start_time": "2022-11-02T15:20:36.204Z"
   },
   {
    "duration": 3,
    "start_time": "2022-11-02T15:20:36.305Z"
   },
   {
    "duration": 16,
    "start_time": "2022-11-02T15:20:36.309Z"
   },
   {
    "duration": 4,
    "start_time": "2022-11-02T15:20:36.326Z"
   },
   {
    "duration": 10,
    "start_time": "2022-11-02T15:20:36.332Z"
   },
   {
    "duration": 51,
    "start_time": "2022-11-02T15:20:36.344Z"
   },
   {
    "duration": 13,
    "start_time": "2022-11-02T15:20:36.397Z"
   },
   {
    "duration": 20,
    "start_time": "2022-11-02T15:20:36.411Z"
   },
   {
    "duration": 6,
    "start_time": "2022-11-02T15:20:36.432Z"
   },
   {
    "duration": 20,
    "start_time": "2022-11-02T15:20:36.440Z"
   },
   {
    "duration": 6,
    "start_time": "2022-11-02T15:20:36.461Z"
   },
   {
    "duration": 57,
    "start_time": "2022-11-02T15:20:36.468Z"
   },
   {
    "duration": 19,
    "start_time": "2022-11-02T15:20:36.528Z"
   },
   {
    "duration": 624,
    "start_time": "2022-11-02T15:20:36.548Z"
   },
   {
    "duration": 21,
    "start_time": "2022-11-02T15:20:37.174Z"
   },
   {
    "duration": 5,
    "start_time": "2022-11-02T15:20:37.197Z"
   },
   {
    "duration": 19,
    "start_time": "2022-11-02T15:20:37.203Z"
   },
   {
    "duration": 15,
    "start_time": "2022-11-02T15:20:37.223Z"
   },
   {
    "duration": 17,
    "start_time": "2022-11-02T15:20:37.240Z"
   },
   {
    "duration": 89,
    "start_time": "2022-11-02T15:20:37.259Z"
   },
   {
    "duration": 4,
    "start_time": "2022-11-02T15:21:15.008Z"
   },
   {
    "duration": 14,
    "start_time": "2022-11-02T15:21:15.427Z"
   },
   {
    "duration": 958,
    "start_time": "2022-11-02T15:21:44.127Z"
   },
   {
    "duration": 8,
    "start_time": "2022-11-02T15:22:14.698Z"
   },
   {
    "duration": 960,
    "start_time": "2022-11-02T15:22:23.077Z"
   },
   {
    "duration": 1184,
    "start_time": "2022-11-02T15:26:13.457Z"
   },
   {
    "duration": 1040,
    "start_time": "2022-11-02T15:26:39.167Z"
   },
   {
    "duration": 1014,
    "start_time": "2022-11-02T15:26:57.566Z"
   },
   {
    "duration": 1009,
    "start_time": "2022-11-02T15:27:27.676Z"
   },
   {
    "duration": 445,
    "start_time": "2022-11-02T15:32:00.086Z"
   },
   {
    "duration": 47,
    "start_time": "2022-11-02T15:32:17.925Z"
   },
   {
    "duration": 47,
    "start_time": "2022-11-02T15:32:22.775Z"
   },
   {
    "duration": 1022,
    "start_time": "2022-11-02T15:32:27.525Z"
   },
   {
    "duration": 1108,
    "start_time": "2022-11-02T15:32:54.885Z"
   },
   {
    "duration": 8,
    "start_time": "2022-11-02T15:34:27.295Z"
   },
   {
    "duration": 2,
    "start_time": "2022-11-02T15:34:31.805Z"
   },
   {
    "duration": 73,
    "start_time": "2022-11-02T15:34:31.809Z"
   },
   {
    "duration": 3,
    "start_time": "2022-11-02T15:34:31.884Z"
   },
   {
    "duration": 44,
    "start_time": "2022-11-02T15:34:31.888Z"
   },
   {
    "duration": 6,
    "start_time": "2022-11-02T15:34:31.934Z"
   },
   {
    "duration": 44,
    "start_time": "2022-11-02T15:34:31.941Z"
   },
   {
    "duration": 28,
    "start_time": "2022-11-02T15:34:31.986Z"
   },
   {
    "duration": 15,
    "start_time": "2022-11-02T15:34:32.016Z"
   },
   {
    "duration": 40,
    "start_time": "2022-11-02T15:34:32.032Z"
   },
   {
    "duration": 16,
    "start_time": "2022-11-02T15:34:32.074Z"
   },
   {
    "duration": 32,
    "start_time": "2022-11-02T15:34:32.092Z"
   },
   {
    "duration": 5,
    "start_time": "2022-11-02T15:34:32.126Z"
   },
   {
    "duration": 61,
    "start_time": "2022-11-02T15:34:32.133Z"
   },
   {
    "duration": 18,
    "start_time": "2022-11-02T15:34:32.195Z"
   },
   {
    "duration": 631,
    "start_time": "2022-11-02T15:34:32.215Z"
   },
   {
    "duration": 18,
    "start_time": "2022-11-02T15:34:32.847Z"
   },
   {
    "duration": 7,
    "start_time": "2022-11-02T15:34:32.867Z"
   },
   {
    "duration": 4,
    "start_time": "2022-11-02T15:34:32.875Z"
   },
   {
    "duration": 12,
    "start_time": "2022-11-02T15:34:32.881Z"
   },
   {
    "duration": 31,
    "start_time": "2022-11-02T15:34:32.895Z"
   },
   {
    "duration": 980,
    "start_time": "2022-11-02T15:34:32.927Z"
   },
   {
    "duration": 5,
    "start_time": "2022-11-02T15:34:33.908Z"
   },
   {
    "duration": 954,
    "start_time": "2022-11-02T15:34:33.914Z"
   },
   {
    "duration": 126,
    "start_time": "2022-11-02T15:34:34.869Z"
   },
   {
    "duration": 284,
    "start_time": "2022-11-02T15:34:34.996Z"
   },
   {
    "duration": 22,
    "start_time": "2022-11-02T15:34:35.282Z"
   },
   {
    "duration": 17437,
    "start_time": "2022-11-02T15:34:35.305Z"
   },
   {
    "duration": 9,
    "start_time": "2022-11-02T15:34:52.744Z"
   },
   {
    "duration": 17,
    "start_time": "2022-11-02T15:34:52.756Z"
   },
   {
    "duration": 116,
    "start_time": "2022-11-02T15:34:52.774Z"
   },
   {
    "duration": 115,
    "start_time": "2022-11-02T15:34:52.892Z"
   },
   {
    "duration": 14,
    "start_time": "2022-11-02T15:34:53.008Z"
   },
   {
    "duration": 24,
    "start_time": "2022-11-02T15:34:53.023Z"
   },
   {
    "duration": 20,
    "start_time": "2022-11-02T15:34:53.049Z"
   },
   {
    "duration": 239,
    "start_time": "2022-11-02T15:34:53.070Z"
   },
   {
    "duration": 2,
    "start_time": "2022-11-02T15:34:53.310Z"
   },
   {
    "duration": 116,
    "start_time": "2022-11-02T15:34:53.314Z"
   },
   {
    "duration": 238,
    "start_time": "2022-11-02T15:34:53.432Z"
   },
   {
    "duration": 7,
    "start_time": "2022-11-02T15:34:53.671Z"
   },
   {
    "duration": 1241,
    "start_time": "2022-11-02T15:34:53.680Z"
   },
   {
    "duration": 12,
    "start_time": "2022-11-02T15:34:54.922Z"
   },
   {
    "duration": 28,
    "start_time": "2022-11-02T15:35:00.665Z"
   },
   {
    "duration": 11,
    "start_time": "2022-11-02T15:37:40.525Z"
   },
   {
    "duration": 9,
    "start_time": "2022-11-02T15:38:09.474Z"
   },
   {
    "duration": 299,
    "start_time": "2022-11-02T15:38:20.969Z"
   },
   {
    "duration": 109,
    "start_time": "2022-11-02T15:38:44.765Z"
   },
   {
    "duration": 9,
    "start_time": "2022-11-02T15:39:34.394Z"
   },
   {
    "duration": 385,
    "start_time": "2022-11-02T15:41:08.784Z"
   },
   {
    "duration": 441,
    "start_time": "2022-11-02T15:41:36.174Z"
   },
   {
    "duration": 317,
    "start_time": "2022-11-02T15:41:57.774Z"
   },
   {
    "duration": 377,
    "start_time": "2022-11-02T15:43:13.184Z"
   },
   {
    "duration": 340,
    "start_time": "2022-11-02T15:43:30.694Z"
   },
   {
    "duration": 334,
    "start_time": "2022-11-02T15:47:59.283Z"
   },
   {
    "duration": 334,
    "start_time": "2022-11-02T15:48:04.673Z"
   },
   {
    "duration": 443,
    "start_time": "2022-11-02T15:48:10.363Z"
   },
   {
    "duration": 174,
    "start_time": "2022-11-02T15:54:20.402Z"
   },
   {
    "duration": 178,
    "start_time": "2022-11-02T15:54:41.142Z"
   },
   {
    "duration": 197,
    "start_time": "2022-11-02T15:55:38.301Z"
   },
   {
    "duration": 177,
    "start_time": "2022-11-02T15:55:57.073Z"
   },
   {
    "duration": 192,
    "start_time": "2022-11-02T15:56:28.632Z"
   },
   {
    "duration": 193,
    "start_time": "2022-11-02T15:56:38.611Z"
   },
   {
    "duration": 187,
    "start_time": "2022-11-02T15:57:20.552Z"
   },
   {
    "duration": 184,
    "start_time": "2022-11-02T17:00:40.634Z"
   },
   {
    "duration": 181,
    "start_time": "2022-11-02T17:00:56.193Z"
   },
   {
    "duration": 189,
    "start_time": "2022-11-02T17:01:15.840Z"
   },
   {
    "duration": 171,
    "start_time": "2022-11-02T17:01:17.013Z"
   },
   {
    "duration": 181,
    "start_time": "2022-11-02T17:01:52.723Z"
   },
   {
    "duration": 193,
    "start_time": "2022-11-02T17:02:12.183Z"
   },
   {
    "duration": 221,
    "start_time": "2022-11-02T17:03:32.142Z"
   },
   {
    "duration": 200,
    "start_time": "2022-11-02T17:03:36.363Z"
   },
   {
    "duration": 178,
    "start_time": "2022-11-02T17:03:54.883Z"
   },
   {
    "duration": 5,
    "start_time": "2022-11-02T17:07:47.041Z"
   },
   {
    "duration": 6,
    "start_time": "2022-11-02T17:07:53.843Z"
   },
   {
    "duration": 6,
    "start_time": "2022-11-02T17:08:00.511Z"
   },
   {
    "duration": 5,
    "start_time": "2022-11-02T17:08:56.812Z"
   },
   {
    "duration": 5,
    "start_time": "2022-11-02T17:09:28.761Z"
   },
   {
    "duration": 5,
    "start_time": "2022-11-02T17:09:57.701Z"
   },
   {
    "duration": 17,
    "start_time": "2022-11-02T17:13:38.981Z"
   },
   {
    "duration": 323,
    "start_time": "2022-11-02T17:13:44.171Z"
   },
   {
    "duration": 334,
    "start_time": "2022-11-02T17:13:52.681Z"
   },
   {
    "duration": 193,
    "start_time": "2022-11-02T17:14:07.931Z"
   },
   {
    "duration": 174,
    "start_time": "2022-11-02T17:14:10.321Z"
   },
   {
    "duration": 5,
    "start_time": "2022-11-02T17:14:12.721Z"
   },
   {
    "duration": 374,
    "start_time": "2022-11-02T17:14:16.610Z"
   },
   {
    "duration": 205,
    "start_time": "2022-11-02T17:14:16.985Z"
   },
   {
    "duration": 4,
    "start_time": "2022-11-02T17:14:17.192Z"
   },
   {
    "duration": 230,
    "start_time": "2022-11-02T17:14:17.321Z"
   },
   {
    "duration": 201,
    "start_time": "2022-11-02T17:14:17.553Z"
   },
   {
    "duration": 5,
    "start_time": "2022-11-02T17:14:17.755Z"
   },
   {
    "duration": 483,
    "start_time": "2022-11-02T17:15:33.840Z"
   },
   {
    "duration": 476,
    "start_time": "2022-11-02T17:15:54.470Z"
   },
   {
    "duration": 435,
    "start_time": "2022-11-02T17:16:02.479Z"
   },
   {
    "duration": 421,
    "start_time": "2022-11-02T17:16:43.260Z"
   },
   {
    "duration": 284,
    "start_time": "2022-11-02T17:17:37.890Z"
   },
   {
    "duration": 293,
    "start_time": "2022-11-02T17:18:00.190Z"
   },
   {
    "duration": 11,
    "start_time": "2022-11-02T17:25:37.849Z"
   },
   {
    "duration": 272,
    "start_time": "2022-11-02T17:29:45.828Z"
   },
   {
    "duration": 276,
    "start_time": "2022-11-02T17:29:54.268Z"
   },
   {
    "duration": 299,
    "start_time": "2022-11-02T17:30:05.188Z"
   },
   {
    "duration": 177,
    "start_time": "2022-11-02T17:30:28.538Z"
   },
   {
    "duration": 5,
    "start_time": "2022-11-02T17:30:40.618Z"
   },
   {
    "duration": 205,
    "start_time": "2022-11-02T17:30:52.347Z"
   },
   {
    "duration": 5,
    "start_time": "2022-11-02T17:31:13.308Z"
   },
   {
    "duration": 172,
    "start_time": "2022-11-02T17:31:30.277Z"
   },
   {
    "duration": 168,
    "start_time": "2022-11-02T17:31:43.788Z"
   },
   {
    "duration": 368,
    "start_time": "2022-11-02T17:32:07.849Z"
   },
   {
    "duration": 6,
    "start_time": "2022-11-02T17:32:19.008Z"
   },
   {
    "duration": 198,
    "start_time": "2022-11-02T17:32:33.048Z"
   },
   {
    "duration": 206,
    "start_time": "2022-11-02T17:32:56.367Z"
   },
   {
    "duration": 205,
    "start_time": "2022-11-02T17:33:11.387Z"
   },
   {
    "duration": 5,
    "start_time": "2022-11-02T17:33:22.887Z"
   },
   {
    "duration": 338,
    "start_time": "2022-11-02T17:33:51.447Z"
   },
   {
    "duration": 423,
    "start_time": "2022-11-02T17:34:28.907Z"
   },
   {
    "duration": 1338,
    "start_time": "2022-11-02T17:36:04.717Z"
   },
   {
    "duration": 511,
    "start_time": "2022-11-02T17:36:17.507Z"
   },
   {
    "duration": 522,
    "start_time": "2022-11-02T17:36:32.627Z"
   },
   {
    "duration": 27,
    "start_time": "2022-11-02T17:37:28.537Z"
   },
   {
    "duration": 530,
    "start_time": "2022-11-02T17:37:44.576Z"
   },
   {
    "duration": 852,
    "start_time": "2022-11-02T17:37:59.586Z"
   },
   {
    "duration": 513,
    "start_time": "2022-11-02T17:38:32.526Z"
   },
   {
    "duration": 521,
    "start_time": "2022-11-02T17:38:35.726Z"
   },
   {
    "duration": 514,
    "start_time": "2022-11-02T17:38:38.276Z"
   },
   {
    "duration": 59,
    "start_time": "2022-11-03T16:57:29.694Z"
   },
   {
    "duration": 1398,
    "start_time": "2022-11-03T16:57:38.664Z"
   },
   {
    "duration": 119,
    "start_time": "2022-11-03T16:57:40.064Z"
   },
   {
    "duration": 3,
    "start_time": "2022-11-03T16:57:40.184Z"
   },
   {
    "duration": 17,
    "start_time": "2022-11-03T16:57:40.189Z"
   },
   {
    "duration": 4,
    "start_time": "2022-11-03T16:57:40.208Z"
   },
   {
    "duration": 7,
    "start_time": "2022-11-03T16:57:40.214Z"
   },
   {
    "duration": 77,
    "start_time": "2022-11-03T16:57:40.222Z"
   },
   {
    "duration": 16,
    "start_time": "2022-11-03T16:57:40.301Z"
   },
   {
    "duration": 35,
    "start_time": "2022-11-03T16:57:40.319Z"
   },
   {
    "duration": 9,
    "start_time": "2022-11-03T16:57:40.357Z"
   },
   {
    "duration": 27,
    "start_time": "2022-11-03T16:57:40.367Z"
   },
   {
    "duration": 7,
    "start_time": "2022-11-03T16:57:40.395Z"
   },
   {
    "duration": 63,
    "start_time": "2022-11-03T16:57:40.403Z"
   },
   {
    "duration": 21,
    "start_time": "2022-11-03T16:57:40.469Z"
   },
   {
    "duration": 832,
    "start_time": "2022-11-03T16:57:40.492Z"
   },
   {
    "duration": 37,
    "start_time": "2022-11-03T16:57:41.326Z"
   },
   {
    "duration": 8,
    "start_time": "2022-11-03T16:57:41.365Z"
   },
   {
    "duration": 6,
    "start_time": "2022-11-03T16:57:41.375Z"
   },
   {
    "duration": 16,
    "start_time": "2022-11-03T16:57:41.383Z"
   },
   {
    "duration": 53,
    "start_time": "2022-11-03T16:57:41.401Z"
   },
   {
    "duration": 1236,
    "start_time": "2022-11-03T16:57:41.459Z"
   },
   {
    "duration": 5,
    "start_time": "2022-11-03T16:57:42.697Z"
   },
   {
    "duration": 1214,
    "start_time": "2022-11-03T16:57:42.703Z"
   },
   {
    "duration": 164,
    "start_time": "2022-11-03T16:57:43.920Z"
   },
   {
    "duration": 409,
    "start_time": "2022-11-03T16:57:44.086Z"
   },
   {
    "duration": 34,
    "start_time": "2022-11-03T16:57:44.497Z"
   },
   {
    "duration": 20260,
    "start_time": "2022-11-03T16:57:44.533Z"
   },
   {
    "duration": 12,
    "start_time": "2022-11-03T16:58:04.795Z"
   },
   {
    "duration": 9,
    "start_time": "2022-11-03T16:58:04.809Z"
   },
   {
    "duration": 201,
    "start_time": "2022-11-03T16:58:04.820Z"
   },
   {
    "duration": 141,
    "start_time": "2022-11-03T16:58:05.023Z"
   },
   {
    "duration": 11,
    "start_time": "2022-11-03T16:58:05.166Z"
   },
   {
    "duration": 15,
    "start_time": "2022-11-03T16:58:05.179Z"
   },
   {
    "duration": 13,
    "start_time": "2022-11-03T16:58:05.197Z"
   },
   {
    "duration": 317,
    "start_time": "2022-11-03T16:58:05.213Z"
   },
   {
    "duration": 13,
    "start_time": "2022-11-03T16:58:05.532Z"
   },
   {
    "duration": 167,
    "start_time": "2022-11-03T16:58:05.548Z"
   },
   {
    "duration": 183,
    "start_time": "2022-11-03T16:58:05.718Z"
   },
   {
    "duration": 10,
    "start_time": "2022-11-03T16:58:05.904Z"
   },
   {
    "duration": 1907,
    "start_time": "2022-11-03T16:58:05.916Z"
   },
   {
    "duration": 49,
    "start_time": "2022-11-03T16:58:07.829Z"
   },
   {
    "duration": 417,
    "start_time": "2022-11-03T16:58:07.884Z"
   },
   {
    "duration": 466,
    "start_time": "2022-11-03T16:58:08.303Z"
   },
   {
    "duration": 244,
    "start_time": "2022-11-03T16:58:08.771Z"
   },
   {
    "duration": 272,
    "start_time": "2022-11-03T16:58:09.017Z"
   },
   {
    "duration": 6,
    "start_time": "2022-11-03T16:58:09.291Z"
   },
   {
    "duration": 281,
    "start_time": "2022-11-03T16:58:09.299Z"
   },
   {
    "duration": 343,
    "start_time": "2022-11-03T16:58:09.582Z"
   },
   {
    "duration": 28,
    "start_time": "2022-11-03T16:58:09.927Z"
   },
   {
    "duration": 246,
    "start_time": "2022-11-03T16:58:09.957Z"
   },
   {
    "duration": 265,
    "start_time": "2022-11-03T16:58:10.205Z"
   },
   {
    "duration": 5,
    "start_time": "2022-11-03T16:58:10.472Z"
   },
   {
    "duration": 283,
    "start_time": "2022-11-03T16:58:10.479Z"
   },
   {
    "duration": 225,
    "start_time": "2022-11-03T16:58:10.771Z"
   },
   {
    "duration": 6,
    "start_time": "2022-11-03T16:58:10.999Z"
   },
   {
    "duration": 594,
    "start_time": "2022-11-03T16:58:11.007Z"
   },
   {
    "duration": 408,
    "start_time": "2022-11-03T16:58:11.602Z"
   },
   {
    "duration": 12,
    "start_time": "2022-11-03T16:58:12.011Z"
   },
   {
    "duration": 9,
    "start_time": "2022-11-03T16:59:40.669Z"
   },
   {
    "duration": 8,
    "start_time": "2022-11-03T16:59:49.785Z"
   },
   {
    "duration": 168,
    "start_time": "2022-11-03T17:00:19.334Z"
   },
   {
    "duration": 8,
    "start_time": "2022-11-03T17:00:43.084Z"
   },
   {
    "duration": 24,
    "start_time": "2022-11-03T17:03:19.045Z"
   },
   {
    "duration": 217,
    "start_time": "2022-11-03T17:05:02.203Z"
   },
   {
    "duration": 202,
    "start_time": "2022-11-03T17:06:12.359Z"
   },
   {
    "duration": 199,
    "start_time": "2022-11-03T17:07:46.483Z"
   },
   {
    "duration": 105,
    "start_time": "2022-11-03T17:08:06.532Z"
   },
   {
    "duration": 670,
    "start_time": "2022-11-03T17:08:12.823Z"
   },
   {
    "duration": 193,
    "start_time": "2022-11-03T17:08:16.482Z"
   },
   {
    "duration": 616,
    "start_time": "2022-11-03T17:08:39.203Z"
   },
   {
    "duration": 551,
    "start_time": "2022-11-03T17:08:54.913Z"
   },
   {
    "duration": 250,
    "start_time": "2022-11-03T17:09:10.412Z"
   },
   {
    "duration": 443,
    "start_time": "2022-11-03T17:10:37.531Z"
   },
   {
    "duration": 437,
    "start_time": "2022-11-03T17:11:31.056Z"
   },
   {
    "duration": 14,
    "start_time": "2022-11-03T17:11:43.681Z"
   },
   {
    "duration": 468,
    "start_time": "2022-11-03T17:11:50.002Z"
   },
   {
    "duration": 426,
    "start_time": "2022-11-03T17:12:05.302Z"
   },
   {
    "duration": 322,
    "start_time": "2022-11-03T17:12:31.268Z"
   },
   {
    "duration": 413,
    "start_time": "2022-11-03T17:13:02.072Z"
   },
   {
    "duration": 176,
    "start_time": "2022-11-03T17:17:22.659Z"
   },
   {
    "duration": 187,
    "start_time": "2022-11-03T17:17:37.891Z"
   },
   {
    "duration": 193,
    "start_time": "2022-11-03T17:17:52.972Z"
   },
   {
    "duration": 216,
    "start_time": "2022-11-03T17:31:28.838Z"
   },
   {
    "duration": 269,
    "start_time": "2022-11-03T17:31:57.288Z"
   },
   {
    "duration": 198,
    "start_time": "2022-11-03T17:32:25.898Z"
   },
   {
    "duration": 10,
    "start_time": "2022-11-03T17:42:10.006Z"
   },
   {
    "duration": 8,
    "start_time": "2022-11-03T17:49:04.615Z"
   },
   {
    "duration": 8,
    "start_time": "2022-11-03T17:49:27.654Z"
   },
   {
    "duration": 11,
    "start_time": "2022-11-03T17:49:34.844Z"
   },
   {
    "duration": 15,
    "start_time": "2022-11-03T17:52:52.774Z"
   },
   {
    "duration": 6,
    "start_time": "2022-11-03T17:53:11.825Z"
   },
   {
    "duration": 14,
    "start_time": "2022-11-03T17:53:35.234Z"
   },
   {
    "duration": 4,
    "start_time": "2022-11-03T17:53:36.454Z"
   },
   {
    "duration": 12,
    "start_time": "2022-11-03T17:55:38.033Z"
   },
   {
    "duration": 7,
    "start_time": "2022-11-03T17:55:45.653Z"
   },
   {
    "duration": 3,
    "start_time": "2022-11-03T17:55:46.064Z"
   },
   {
    "duration": 3,
    "start_time": "2022-11-03T17:55:46.374Z"
   },
   {
    "duration": 14,
    "start_time": "2022-11-03T17:55:46.604Z"
   },
   {
    "duration": 20,
    "start_time": "2022-11-03T17:55:56.504Z"
   },
   {
    "duration": 4,
    "start_time": "2022-11-03T17:55:57.074Z"
   },
   {
    "duration": 7,
    "start_time": "2022-11-03T17:55:57.348Z"
   },
   {
    "duration": 5,
    "start_time": "2022-11-03T17:55:57.664Z"
   },
   {
    "duration": 16,
    "start_time": "2022-11-03T17:56:23.434Z"
   },
   {
    "duration": 5,
    "start_time": "2022-11-03T17:56:23.794Z"
   },
   {
    "duration": 3,
    "start_time": "2022-11-03T17:56:24.124Z"
   },
   {
    "duration": 4,
    "start_time": "2022-11-03T17:56:24.474Z"
   },
   {
    "duration": 9,
    "start_time": "2022-11-03T17:56:32.864Z"
   },
   {
    "duration": 15,
    "start_time": "2022-11-03T17:56:33.164Z"
   },
   {
    "duration": 6,
    "start_time": "2022-11-03T17:56:41.114Z"
   },
   {
    "duration": 4,
    "start_time": "2022-11-03T17:56:41.433Z"
   },
   {
    "duration": 3,
    "start_time": "2022-11-03T17:56:42.093Z"
   },
   {
    "duration": 5,
    "start_time": "2022-11-03T17:56:42.354Z"
   },
   {
    "duration": 7,
    "start_time": "2022-11-03T17:56:51.623Z"
   },
   {
    "duration": 3,
    "start_time": "2022-11-03T17:56:51.974Z"
   },
   {
    "duration": 3,
    "start_time": "2022-11-03T17:56:52.304Z"
   },
   {
    "duration": 6,
    "start_time": "2022-11-03T17:56:52.634Z"
   },
   {
    "duration": 6,
    "start_time": "2022-11-03T17:57:34.023Z"
   },
   {
    "duration": 3,
    "start_time": "2022-11-03T17:57:34.355Z"
   },
   {
    "duration": 3,
    "start_time": "2022-11-03T17:57:34.633Z"
   },
   {
    "duration": 5,
    "start_time": "2022-11-03T17:57:35.050Z"
   },
   {
    "duration": 6,
    "start_time": "2022-11-03T17:58:27.073Z"
   },
   {
    "duration": 5,
    "start_time": "2022-11-03T17:58:27.354Z"
   },
   {
    "duration": 3,
    "start_time": "2022-11-03T17:58:27.573Z"
   },
   {
    "duration": 6,
    "start_time": "2022-11-03T17:58:27.773Z"
   },
   {
    "duration": 4,
    "start_time": "2022-11-03T17:58:27.973Z"
   },
   {
    "duration": 8,
    "start_time": "2022-11-03T18:02:20.383Z"
   },
   {
    "duration": 4,
    "start_time": "2022-11-03T18:02:20.782Z"
   },
   {
    "duration": 4,
    "start_time": "2022-11-03T18:02:52.872Z"
   },
   {
    "duration": 5,
    "start_time": "2022-11-03T18:02:53.262Z"
   },
   {
    "duration": 3,
    "start_time": "2022-11-03T18:03:01.872Z"
   },
   {
    "duration": 6,
    "start_time": "2022-11-03T18:03:03.054Z"
   },
   {
    "duration": 5,
    "start_time": "2022-11-03T18:03:03.660Z"
   },
   {
    "duration": 4,
    "start_time": "2022-11-03T18:03:16.493Z"
   },
   {
    "duration": 7,
    "start_time": "2022-11-03T18:03:17.592Z"
   },
   {
    "duration": 4,
    "start_time": "2022-11-03T18:03:18.183Z"
   },
   {
    "duration": 6,
    "start_time": "2022-11-03T18:03:25.803Z"
   },
   {
    "duration": 6,
    "start_time": "2022-11-03T18:03:26.202Z"
   },
   {
    "duration": 4,
    "start_time": "2022-11-03T18:03:26.962Z"
   },
   {
    "duration": 7,
    "start_time": "2022-11-03T18:03:35.353Z"
   },
   {
    "duration": 4,
    "start_time": "2022-11-03T18:03:35.592Z"
   },
   {
    "duration": 7,
    "start_time": "2022-11-03T18:03:36.162Z"
   },
   {
    "duration": 5,
    "start_time": "2022-11-03T18:03:37.054Z"
   },
   {
    "duration": 1423,
    "start_time": "2022-11-04T09:00:09.016Z"
   },
   {
    "duration": 119,
    "start_time": "2022-11-04T09:00:10.441Z"
   },
   {
    "duration": 4,
    "start_time": "2022-11-04T09:00:10.562Z"
   },
   {
    "duration": 33,
    "start_time": "2022-11-04T09:00:10.568Z"
   },
   {
    "duration": 6,
    "start_time": "2022-11-04T09:00:10.604Z"
   },
   {
    "duration": 14,
    "start_time": "2022-11-04T09:00:10.611Z"
   },
   {
    "duration": 74,
    "start_time": "2022-11-04T09:00:10.638Z"
   },
   {
    "duration": 27,
    "start_time": "2022-11-04T09:00:10.714Z"
   },
   {
    "duration": 17,
    "start_time": "2022-11-04T09:00:10.744Z"
   },
   {
    "duration": 9,
    "start_time": "2022-11-04T09:00:10.763Z"
   },
   {
    "duration": 25,
    "start_time": "2022-11-04T09:00:10.773Z"
   },
   {
    "duration": 7,
    "start_time": "2022-11-04T09:00:10.799Z"
   },
   {
    "duration": 36,
    "start_time": "2022-11-04T09:00:10.840Z"
   },
   {
    "duration": 23,
    "start_time": "2022-11-04T09:00:10.879Z"
   },
   {
    "duration": 728,
    "start_time": "2022-11-04T09:00:10.905Z"
   },
   {
    "duration": 34,
    "start_time": "2022-11-04T09:00:11.635Z"
   },
   {
    "duration": 7,
    "start_time": "2022-11-04T09:00:11.672Z"
   },
   {
    "duration": 11,
    "start_time": "2022-11-04T09:00:11.680Z"
   },
   {
    "duration": 25,
    "start_time": "2022-11-04T09:00:11.693Z"
   },
   {
    "duration": 44,
    "start_time": "2022-11-04T09:00:11.720Z"
   },
   {
    "duration": 1127,
    "start_time": "2022-11-04T09:00:11.766Z"
   },
   {
    "duration": 6,
    "start_time": "2022-11-04T09:00:12.895Z"
   },
   {
    "duration": 1081,
    "start_time": "2022-11-04T09:00:12.903Z"
   },
   {
    "duration": 144,
    "start_time": "2022-11-04T09:00:13.987Z"
   },
   {
    "duration": 328,
    "start_time": "2022-11-04T09:00:14.138Z"
   },
   {
    "duration": 22,
    "start_time": "2022-11-04T09:00:14.468Z"
   },
   {
    "duration": 29141,
    "start_time": "2022-11-04T09:00:14.491Z"
   },
   {
    "duration": 13,
    "start_time": "2022-11-04T09:00:43.634Z"
   },
   {
    "duration": 14,
    "start_time": "2022-11-04T09:00:43.649Z"
   },
   {
    "duration": 149,
    "start_time": "2022-11-04T09:00:43.665Z"
   },
   {
    "duration": 166,
    "start_time": "2022-11-04T09:00:43.816Z"
   },
   {
    "duration": 8,
    "start_time": "2022-11-04T09:00:43.983Z"
   },
   {
    "duration": 25,
    "start_time": "2022-11-04T09:00:43.992Z"
   },
   {
    "duration": 31,
    "start_time": "2022-11-04T09:00:44.019Z"
   },
   {
    "duration": 246,
    "start_time": "2022-11-04T09:00:44.052Z"
   },
   {
    "duration": 3,
    "start_time": "2022-11-04T09:00:44.299Z"
   },
   {
    "duration": 141,
    "start_time": "2022-11-04T09:00:44.303Z"
   },
   {
    "duration": 163,
    "start_time": "2022-11-04T09:00:44.445Z"
   },
   {
    "duration": 9,
    "start_time": "2022-11-04T09:00:44.610Z"
   },
   {
    "duration": 1610,
    "start_time": "2022-11-04T09:00:44.621Z"
   },
   {
    "duration": 13,
    "start_time": "2022-11-04T09:00:46.238Z"
   },
   {
    "duration": 386,
    "start_time": "2022-11-04T09:00:46.253Z"
   },
   {
    "duration": 426,
    "start_time": "2022-11-04T09:00:46.641Z"
   },
   {
    "duration": 335,
    "start_time": "2022-11-04T09:00:47.069Z"
   },
   {
    "duration": 256,
    "start_time": "2022-11-04T09:00:47.406Z"
   },
   {
    "duration": 5,
    "start_time": "2022-11-04T09:00:47.663Z"
   },
   {
    "duration": 225,
    "start_time": "2022-11-04T09:00:47.670Z"
   },
   {
    "duration": 330,
    "start_time": "2022-11-04T09:00:47.897Z"
   },
   {
    "duration": 14,
    "start_time": "2022-11-04T09:00:48.229Z"
   },
   {
    "duration": 197,
    "start_time": "2022-11-04T09:00:48.245Z"
   },
   {
    "duration": 255,
    "start_time": "2022-11-04T09:00:48.444Z"
   },
   {
    "duration": 6,
    "start_time": "2022-11-04T09:00:48.701Z"
   },
   {
    "duration": 240,
    "start_time": "2022-11-04T09:00:48.709Z"
   },
   {
    "duration": 195,
    "start_time": "2022-11-04T09:00:48.950Z"
   },
   {
    "duration": 6,
    "start_time": "2022-11-04T09:00:49.147Z"
   },
   {
    "duration": 505,
    "start_time": "2022-11-04T09:00:49.155Z"
   },
   {
    "duration": 411,
    "start_time": "2022-11-04T09:00:49.662Z"
   },
   {
    "duration": 16,
    "start_time": "2022-11-04T09:00:50.076Z"
   },
   {
    "duration": 170,
    "start_time": "2022-11-04T09:00:50.094Z"
   },
   {
    "duration": 437,
    "start_time": "2022-11-04T09:00:50.266Z"
   },
   {
    "duration": 184,
    "start_time": "2022-11-04T09:00:50.705Z"
   },
   {
    "duration": 486,
    "start_time": "2022-11-04T09:00:50.891Z"
   },
   {
    "duration": 195,
    "start_time": "2022-11-04T09:00:51.378Z"
   },
   {
    "duration": 402,
    "start_time": "2022-11-04T09:00:51.574Z"
   },
   {
    "duration": 165,
    "start_time": "2022-11-04T09:00:51.979Z"
   },
   {
    "duration": 169,
    "start_time": "2022-11-04T09:00:52.145Z"
   },
   {
    "duration": 174,
    "start_time": "2022-11-04T09:00:52.316Z"
   },
   {
    "duration": 185,
    "start_time": "2022-11-04T09:00:52.492Z"
   },
   {
    "duration": 164,
    "start_time": "2022-11-04T09:00:52.679Z"
   },
   {
    "duration": 176,
    "start_time": "2022-11-04T09:00:52.845Z"
   },
   {
    "duration": 7,
    "start_time": "2022-11-04T09:00:53.022Z"
   },
   {
    "duration": 3,
    "start_time": "2022-11-04T09:00:53.038Z"
   },
   {
    "duration": 6,
    "start_time": "2022-11-04T09:00:53.043Z"
   },
   {
    "duration": 9,
    "start_time": "2022-11-04T09:00:53.051Z"
   },
   {
    "duration": 6,
    "start_time": "2022-11-04T09:00:53.061Z"
   },
   {
    "duration": 12,
    "start_time": "2022-11-04T09:00:53.069Z"
   },
   {
    "duration": 5,
    "start_time": "2022-11-04T09:00:53.083Z"
   },
   {
    "duration": 6,
    "start_time": "2022-11-04T09:00:53.090Z"
   },
   {
    "duration": 4,
    "start_time": "2022-11-04T09:00:53.098Z"
   },
   {
    "duration": 1095,
    "start_time": "2022-11-04T13:40:13.756Z"
   },
   {
    "duration": 69,
    "start_time": "2022-11-04T13:40:14.853Z"
   },
   {
    "duration": 3,
    "start_time": "2022-11-04T13:40:14.924Z"
   },
   {
    "duration": 46,
    "start_time": "2022-11-04T13:40:14.928Z"
   },
   {
    "duration": 21,
    "start_time": "2022-11-04T13:40:14.976Z"
   },
   {
    "duration": 34,
    "start_time": "2022-11-04T13:40:14.998Z"
   },
   {
    "duration": 83,
    "start_time": "2022-11-04T13:40:15.033Z"
   },
   {
    "duration": 14,
    "start_time": "2022-11-04T13:40:15.117Z"
   },
   {
    "duration": 48,
    "start_time": "2022-11-04T13:40:15.132Z"
   },
   {
    "duration": 43,
    "start_time": "2022-11-04T13:40:15.183Z"
   },
   {
    "duration": 65,
    "start_time": "2022-11-04T13:40:15.228Z"
   },
   {
    "duration": 44,
    "start_time": "2022-11-04T13:40:15.295Z"
   },
   {
    "duration": 83,
    "start_time": "2022-11-04T13:40:15.340Z"
   },
   {
    "duration": 63,
    "start_time": "2022-11-04T13:40:15.425Z"
   },
   {
    "duration": 693,
    "start_time": "2022-11-04T13:40:15.489Z"
   },
   {
    "duration": 18,
    "start_time": "2022-11-04T13:40:16.184Z"
   },
   {
    "duration": 49,
    "start_time": "2022-11-04T13:40:16.204Z"
   },
   {
    "duration": 64,
    "start_time": "2022-11-04T13:40:16.255Z"
   },
   {
    "duration": 54,
    "start_time": "2022-11-04T13:40:16.321Z"
   },
   {
    "duration": 43,
    "start_time": "2022-11-04T13:40:16.377Z"
   },
   {
    "duration": 1008,
    "start_time": "2022-11-04T13:40:16.421Z"
   },
   {
    "duration": 5,
    "start_time": "2022-11-04T13:40:17.431Z"
   },
   {
    "duration": 964,
    "start_time": "2022-11-04T13:40:17.438Z"
   },
   {
    "duration": 127,
    "start_time": "2022-11-04T13:40:18.403Z"
   },
   {
    "duration": 411,
    "start_time": "2022-11-04T13:40:18.532Z"
   },
   {
    "duration": 22,
    "start_time": "2022-11-04T13:40:18.944Z"
   },
   {
    "duration": 51,
    "start_time": "2022-11-04T13:48:51.584Z"
   },
   {
    "duration": 6,
    "start_time": "2022-11-04T13:48:58.326Z"
   },
   {
    "duration": 6,
    "start_time": "2022-11-04T13:49:00.488Z"
   },
   {
    "duration": 1021,
    "start_time": "2022-11-04T13:49:02.421Z"
   },
   {
    "duration": 53,
    "start_time": "2022-11-04T13:49:05.747Z"
   },
   {
    "duration": 7,
    "start_time": "2022-11-04T13:49:11.390Z"
   },
   {
    "duration": 1121,
    "start_time": "2022-11-04T13:49:18.224Z"
   },
   {
    "duration": 174,
    "start_time": "2022-11-04T13:49:19.347Z"
   },
   {
    "duration": 3,
    "start_time": "2022-11-04T13:49:19.522Z"
   },
   {
    "duration": 39,
    "start_time": "2022-11-04T13:49:19.527Z"
   },
   {
    "duration": 14,
    "start_time": "2022-11-04T13:49:19.569Z"
   },
   {
    "duration": 5,
    "start_time": "2022-11-04T13:49:19.584Z"
   },
   {
    "duration": 51,
    "start_time": "2022-11-04T13:49:19.591Z"
   },
   {
    "duration": 14,
    "start_time": "2022-11-04T13:49:19.644Z"
   },
   {
    "duration": 12,
    "start_time": "2022-11-04T13:49:19.659Z"
   },
   {
    "duration": 6,
    "start_time": "2022-11-04T13:49:19.673Z"
   },
   {
    "duration": 41,
    "start_time": "2022-11-04T13:49:19.681Z"
   },
   {
    "duration": 6,
    "start_time": "2022-11-04T13:49:19.724Z"
   },
   {
    "duration": 32,
    "start_time": "2022-11-04T13:49:19.731Z"
   },
   {
    "duration": 19,
    "start_time": "2022-11-04T13:49:19.766Z"
   },
   {
    "duration": 661,
    "start_time": "2022-11-04T13:49:19.787Z"
   },
   {
    "duration": 19,
    "start_time": "2022-11-04T13:49:20.449Z"
   },
   {
    "duration": 10,
    "start_time": "2022-11-04T13:49:20.469Z"
   },
   {
    "duration": 6,
    "start_time": "2022-11-04T13:49:20.480Z"
   },
   {
    "duration": 35,
    "start_time": "2022-11-04T13:49:20.488Z"
   },
   {
    "duration": 18,
    "start_time": "2022-11-04T13:49:20.525Z"
   },
   {
    "duration": 966,
    "start_time": "2022-11-04T13:49:20.545Z"
   },
   {
    "duration": 5,
    "start_time": "2022-11-04T13:49:21.512Z"
   },
   {
    "duration": 924,
    "start_time": "2022-11-04T13:49:21.518Z"
   },
   {
    "duration": 146,
    "start_time": "2022-11-04T13:49:22.443Z"
   },
   {
    "duration": 411,
    "start_time": "2022-11-04T13:49:22.591Z"
   },
   {
    "duration": 22,
    "start_time": "2022-11-04T13:49:23.003Z"
   },
   {
    "duration": 52,
    "start_time": "2022-11-04T13:49:45.146Z"
   },
   {
    "duration": 6,
    "start_time": "2022-11-04T13:50:12.298Z"
   },
   {
    "duration": 1141,
    "start_time": "2022-11-04T14:00:35.622Z"
   },
   {
    "duration": 122,
    "start_time": "2022-11-04T14:00:36.765Z"
   },
   {
    "duration": 3,
    "start_time": "2022-11-04T14:00:36.889Z"
   },
   {
    "duration": 20,
    "start_time": "2022-11-04T14:00:36.894Z"
   },
   {
    "duration": 6,
    "start_time": "2022-11-04T14:00:36.917Z"
   },
   {
    "duration": 15,
    "start_time": "2022-11-04T14:00:36.925Z"
   },
   {
    "duration": 73,
    "start_time": "2022-11-04T14:00:36.942Z"
   },
   {
    "duration": 22,
    "start_time": "2022-11-04T14:00:37.017Z"
   },
   {
    "duration": 44,
    "start_time": "2022-11-04T14:00:37.041Z"
   },
   {
    "duration": 24,
    "start_time": "2022-11-04T14:00:37.087Z"
   },
   {
    "duration": 44,
    "start_time": "2022-11-04T14:00:37.114Z"
   },
   {
    "duration": 18,
    "start_time": "2022-11-04T14:00:37.160Z"
   },
   {
    "duration": 66,
    "start_time": "2022-11-04T14:00:37.180Z"
   },
   {
    "duration": 46,
    "start_time": "2022-11-04T14:00:37.250Z"
   },
   {
    "duration": 696,
    "start_time": "2022-11-04T14:00:37.298Z"
   },
   {
    "duration": 24,
    "start_time": "2022-11-04T14:00:37.996Z"
   },
   {
    "duration": 30,
    "start_time": "2022-11-04T14:00:38.022Z"
   },
   {
    "duration": 30,
    "start_time": "2022-11-04T14:00:38.053Z"
   },
   {
    "duration": 45,
    "start_time": "2022-11-04T14:00:38.085Z"
   },
   {
    "duration": 34,
    "start_time": "2022-11-04T14:00:38.131Z"
   },
   {
    "duration": 1019,
    "start_time": "2022-11-04T14:00:38.167Z"
   },
   {
    "duration": 5,
    "start_time": "2022-11-04T14:00:39.188Z"
   },
   {
    "duration": 963,
    "start_time": "2022-11-04T14:00:39.194Z"
   },
   {
    "duration": 135,
    "start_time": "2022-11-04T14:00:40.158Z"
   },
   {
    "duration": 2,
    "start_time": "2022-11-04T14:00:40.294Z"
   },
   {
    "duration": 44,
    "start_time": "2022-11-04T14:00:40.298Z"
   },
   {
    "duration": 35,
    "start_time": "2022-11-04T14:00:40.343Z"
   },
   {
    "duration": 36,
    "start_time": "2022-11-04T14:00:40.379Z"
   },
   {
    "duration": 32,
    "start_time": "2022-11-04T14:00:40.416Z"
   },
   {
    "duration": 32,
    "start_time": "2022-11-04T14:00:40.449Z"
   },
   {
    "duration": 19,
    "start_time": "2022-11-04T14:00:40.483Z"
   },
   {
    "duration": 49,
    "start_time": "2022-11-04T14:00:40.504Z"
   },
   {
    "duration": 44,
    "start_time": "2022-11-04T14:00:40.556Z"
   },
   {
    "duration": 24,
    "start_time": "2022-11-04T14:00:40.602Z"
   },
   {
    "duration": 148,
    "start_time": "2022-11-04T14:00:40.627Z"
   },
   {
    "duration": 3,
    "start_time": "2022-11-04T14:00:40.776Z"
   },
   {
    "duration": 148,
    "start_time": "2022-11-04T14:00:40.780Z"
   },
   {
    "duration": 144,
    "start_time": "2022-11-04T14:00:40.930Z"
   },
   {
    "duration": 7,
    "start_time": "2022-11-04T14:00:41.076Z"
   },
   {
    "duration": 1424,
    "start_time": "2022-11-04T14:00:41.084Z"
   },
   {
    "duration": 18,
    "start_time": "2022-11-04T14:00:42.515Z"
   },
   {
    "duration": 490,
    "start_time": "2022-11-04T14:00:42.535Z"
   },
   {
    "duration": 354,
    "start_time": "2022-11-04T14:00:43.027Z"
   },
   {
    "duration": 204,
    "start_time": "2022-11-04T14:00:43.383Z"
   },
   {
    "duration": 870,
    "start_time": "2022-11-04T14:00:43.588Z"
   },
   {
    "duration": 274,
    "start_time": "2022-11-04T14:00:44.460Z"
   },
   {
    "duration": 0,
    "start_time": "2022-11-04T14:00:44.736Z"
   },
   {
    "duration": 0,
    "start_time": "2022-11-04T14:00:44.737Z"
   },
   {
    "duration": 0,
    "start_time": "2022-11-04T14:00:44.738Z"
   },
   {
    "duration": 0,
    "start_time": "2022-11-04T14:00:44.739Z"
   },
   {
    "duration": 0,
    "start_time": "2022-11-04T14:00:44.740Z"
   },
   {
    "duration": 0,
    "start_time": "2022-11-04T14:00:44.741Z"
   },
   {
    "duration": 0,
    "start_time": "2022-11-04T14:00:44.742Z"
   },
   {
    "duration": 0,
    "start_time": "2022-11-04T14:00:44.743Z"
   },
   {
    "duration": 0,
    "start_time": "2022-11-04T14:00:44.744Z"
   },
   {
    "duration": 0,
    "start_time": "2022-11-04T14:00:44.746Z"
   },
   {
    "duration": 0,
    "start_time": "2022-11-04T14:00:44.746Z"
   },
   {
    "duration": 0,
    "start_time": "2022-11-04T14:00:44.748Z"
   },
   {
    "duration": 0,
    "start_time": "2022-11-04T14:00:44.749Z"
   },
   {
    "duration": 1,
    "start_time": "2022-11-04T14:00:44.749Z"
   },
   {
    "duration": 0,
    "start_time": "2022-11-04T14:00:44.750Z"
   },
   {
    "duration": 0,
    "start_time": "2022-11-04T14:00:44.751Z"
   },
   {
    "duration": 0,
    "start_time": "2022-11-04T14:00:44.752Z"
   },
   {
    "duration": 0,
    "start_time": "2022-11-04T14:00:44.753Z"
   },
   {
    "duration": 0,
    "start_time": "2022-11-04T14:00:44.754Z"
   },
   {
    "duration": 0,
    "start_time": "2022-11-04T14:00:44.755Z"
   },
   {
    "duration": 0,
    "start_time": "2022-11-04T14:00:44.756Z"
   },
   {
    "duration": 0,
    "start_time": "2022-11-04T14:00:44.758Z"
   },
   {
    "duration": 0,
    "start_time": "2022-11-04T14:00:44.759Z"
   },
   {
    "duration": 0,
    "start_time": "2022-11-04T14:00:44.760Z"
   },
   {
    "duration": 0,
    "start_time": "2022-11-04T14:00:44.761Z"
   },
   {
    "duration": 0,
    "start_time": "2022-11-04T14:00:44.762Z"
   },
   {
    "duration": 0,
    "start_time": "2022-11-04T14:00:44.763Z"
   },
   {
    "duration": 0,
    "start_time": "2022-11-04T14:00:44.764Z"
   },
   {
    "duration": 0,
    "start_time": "2022-11-04T14:00:44.765Z"
   },
   {
    "duration": 0,
    "start_time": "2022-11-04T14:00:44.766Z"
   },
   {
    "duration": 0,
    "start_time": "2022-11-04T14:00:44.767Z"
   },
   {
    "duration": 0,
    "start_time": "2022-11-04T14:00:44.768Z"
   },
   {
    "duration": 0,
    "start_time": "2022-11-04T14:00:44.769Z"
   },
   {
    "duration": 3,
    "start_time": "2022-11-04T14:07:13.207Z"
   },
   {
    "duration": 11,
    "start_time": "2022-11-04T14:07:14.965Z"
   },
   {
    "duration": 5,
    "start_time": "2022-11-04T14:07:27.160Z"
   },
   {
    "duration": 11,
    "start_time": "2022-11-04T14:07:28.982Z"
   },
   {
    "duration": 159,
    "start_time": "2022-11-04T14:07:39.950Z"
   },
   {
    "duration": 209,
    "start_time": "2022-11-04T14:08:24.073Z"
   },
   {
    "duration": 173,
    "start_time": "2022-11-04T14:08:27.755Z"
   },
   {
    "duration": 6,
    "start_time": "2022-11-04T14:08:31.869Z"
   },
   {
    "duration": 208,
    "start_time": "2022-11-04T14:08:33.750Z"
   },
   {
    "duration": 195,
    "start_time": "2022-11-04T14:08:40.377Z"
   },
   {
    "duration": 196,
    "start_time": "2022-11-04T14:08:40.574Z"
   },
   {
    "duration": 4,
    "start_time": "2022-11-04T14:08:40.771Z"
   },
   {
    "duration": 208,
    "start_time": "2022-11-04T14:08:40.777Z"
   },
   {
    "duration": 199,
    "start_time": "2022-11-04T14:08:40.987Z"
   },
   {
    "duration": 4,
    "start_time": "2022-11-04T14:08:41.188Z"
   },
   {
    "duration": 545,
    "start_time": "2022-11-04T14:08:41.194Z"
   },
   {
    "duration": 309,
    "start_time": "2022-11-04T14:08:41.741Z"
   },
   {
    "duration": 11,
    "start_time": "2022-11-04T14:08:42.051Z"
   },
   {
    "duration": 159,
    "start_time": "2022-11-04T14:08:42.064Z"
   },
   {
    "duration": 333,
    "start_time": "2022-11-04T14:08:42.224Z"
   },
   {
    "duration": 185,
    "start_time": "2022-11-04T14:08:42.559Z"
   },
   {
    "duration": 339,
    "start_time": "2022-11-04T14:08:42.746Z"
   },
   {
    "duration": 168,
    "start_time": "2022-11-04T14:08:43.087Z"
   },
   {
    "duration": 389,
    "start_time": "2022-11-04T14:08:43.256Z"
   },
   {
    "duration": 174,
    "start_time": "2022-11-04T14:08:43.647Z"
   },
   {
    "duration": 182,
    "start_time": "2022-11-04T14:08:43.823Z"
   },
   {
    "duration": 177,
    "start_time": "2022-11-04T14:08:44.008Z"
   },
   {
    "duration": 165,
    "start_time": "2022-11-04T14:08:44.186Z"
   },
   {
    "duration": 162,
    "start_time": "2022-11-04T14:08:44.352Z"
   },
   {
    "duration": 155,
    "start_time": "2022-11-04T14:08:44.516Z"
   },
   {
    "duration": 5,
    "start_time": "2022-11-04T14:08:44.673Z"
   },
   {
    "duration": 9,
    "start_time": "2022-11-04T14:08:44.679Z"
   },
   {
    "duration": 5,
    "start_time": "2022-11-04T14:08:44.689Z"
   },
   {
    "duration": 14,
    "start_time": "2022-11-04T14:08:44.696Z"
   },
   {
    "duration": 8,
    "start_time": "2022-11-04T14:08:44.711Z"
   },
   {
    "duration": 7,
    "start_time": "2022-11-04T14:08:44.720Z"
   },
   {
    "duration": 5,
    "start_time": "2022-11-04T14:08:44.729Z"
   },
   {
    "duration": 6,
    "start_time": "2022-11-04T14:08:44.736Z"
   },
   {
    "duration": 4,
    "start_time": "2022-11-04T14:08:44.743Z"
   },
   {
    "duration": 51,
    "start_time": "2022-11-04T17:49:02.777Z"
   },
   {
    "duration": 1264,
    "start_time": "2022-11-04T17:49:06.857Z"
   },
   {
    "duration": 107,
    "start_time": "2022-11-04T17:49:08.124Z"
   },
   {
    "duration": 3,
    "start_time": "2022-11-04T17:49:08.232Z"
   },
   {
    "duration": 17,
    "start_time": "2022-11-04T17:49:08.237Z"
   },
   {
    "duration": 9,
    "start_time": "2022-11-04T17:49:08.256Z"
   },
   {
    "duration": 13,
    "start_time": "2022-11-04T17:49:08.266Z"
   },
   {
    "duration": 52,
    "start_time": "2022-11-04T17:49:08.281Z"
   },
   {
    "duration": 13,
    "start_time": "2022-11-04T17:49:08.335Z"
   },
   {
    "duration": 12,
    "start_time": "2022-11-04T17:49:08.349Z"
   },
   {
    "duration": 7,
    "start_time": "2022-11-04T17:49:08.363Z"
   },
   {
    "duration": 6,
    "start_time": "2022-11-04T17:49:15.027Z"
   },
   {
    "duration": 4,
    "start_time": "2022-11-04T17:49:16.129Z"
   },
   {
    "duration": 70,
    "start_time": "2022-11-04T17:49:26.387Z"
   },
   {
    "duration": 9,
    "start_time": "2022-11-04T17:49:28.557Z"
   },
   {
    "duration": 2,
    "start_time": "2022-11-04T17:49:39.288Z"
   },
   {
    "duration": 63,
    "start_time": "2022-11-04T17:49:39.292Z"
   },
   {
    "duration": 2,
    "start_time": "2022-11-04T17:49:39.357Z"
   },
   {
    "duration": 19,
    "start_time": "2022-11-04T17:49:39.360Z"
   },
   {
    "duration": 5,
    "start_time": "2022-11-04T17:49:39.382Z"
   },
   {
    "duration": 11,
    "start_time": "2022-11-04T17:49:39.388Z"
   },
   {
    "duration": 25,
    "start_time": "2022-11-04T17:49:39.401Z"
   },
   {
    "duration": 14,
    "start_time": "2022-11-04T17:49:39.428Z"
   },
   {
    "duration": 12,
    "start_time": "2022-11-04T17:49:39.444Z"
   },
   {
    "duration": 11,
    "start_time": "2022-11-04T17:49:39.458Z"
   },
   {
    "duration": 4,
    "start_time": "2022-11-04T17:49:41.275Z"
   },
   {
    "duration": 8,
    "start_time": "2022-11-04T17:49:49.508Z"
   },
   {
    "duration": 9,
    "start_time": "2022-11-04T17:50:19.297Z"
   },
   {
    "duration": 3,
    "start_time": "2022-11-04T17:50:22.347Z"
   },
   {
    "duration": 63,
    "start_time": "2022-11-04T17:50:22.352Z"
   },
   {
    "duration": 3,
    "start_time": "2022-11-04T17:50:22.417Z"
   },
   {
    "duration": 14,
    "start_time": "2022-11-04T17:50:22.421Z"
   },
   {
    "duration": 4,
    "start_time": "2022-11-04T17:50:22.437Z"
   },
   {
    "duration": 7,
    "start_time": "2022-11-04T17:50:22.443Z"
   },
   {
    "duration": 16,
    "start_time": "2022-11-04T17:50:22.451Z"
   },
   {
    "duration": 12,
    "start_time": "2022-11-04T17:50:22.469Z"
   },
   {
    "duration": 41,
    "start_time": "2022-11-04T17:50:22.483Z"
   },
   {
    "duration": 9,
    "start_time": "2022-11-04T17:50:22.529Z"
   },
   {
    "duration": 5,
    "start_time": "2022-11-04T17:50:26.117Z"
   },
   {
    "duration": 5,
    "start_time": "2022-11-04T17:50:27.576Z"
   },
   {
    "duration": 13,
    "start_time": "2022-11-04T17:50:28.997Z"
   },
   {
    "duration": 19,
    "start_time": "2022-11-04T17:50:31.317Z"
   },
   {
    "duration": 980,
    "start_time": "2022-11-04T17:51:55.667Z"
   },
   {
    "duration": 1000,
    "start_time": "2022-11-04T17:53:01.682Z"
   },
   {
    "duration": 982,
    "start_time": "2022-11-04T17:53:17.276Z"
   },
   {
    "duration": 997,
    "start_time": "2022-11-04T17:53:58.657Z"
   },
   {
    "duration": 1032,
    "start_time": "2022-11-04T17:54:03.597Z"
   },
   {
    "duration": 992,
    "start_time": "2022-11-04T17:54:14.037Z"
   },
   {
    "duration": 129,
    "start_time": "2022-11-04T17:54:24.476Z"
   },
   {
    "duration": 31,
    "start_time": "2022-11-04T17:56:13.445Z"
   },
   {
    "duration": 5,
    "start_time": "2022-11-04T17:56:28.935Z"
   },
   {
    "duration": 527,
    "start_time": "2022-11-04T17:56:33.146Z"
   },
   {
    "duration": 3,
    "start_time": "2022-11-04T17:56:50.786Z"
   },
   {
    "duration": 64,
    "start_time": "2022-11-04T17:56:50.795Z"
   },
   {
    "duration": 3,
    "start_time": "2022-11-04T17:56:50.861Z"
   },
   {
    "duration": 15,
    "start_time": "2022-11-04T17:56:50.865Z"
   },
   {
    "duration": 4,
    "start_time": "2022-11-04T17:56:50.882Z"
   },
   {
    "duration": 6,
    "start_time": "2022-11-04T17:56:50.888Z"
   },
   {
    "duration": 15,
    "start_time": "2022-11-04T17:56:50.908Z"
   },
   {
    "duration": 14,
    "start_time": "2022-11-04T17:56:50.924Z"
   },
   {
    "duration": 11,
    "start_time": "2022-11-04T17:56:50.940Z"
   },
   {
    "duration": 9,
    "start_time": "2022-11-04T17:56:50.953Z"
   },
   {
    "duration": 6,
    "start_time": "2022-11-04T17:56:50.964Z"
   },
   {
    "duration": 4,
    "start_time": "2022-11-04T17:56:50.971Z"
   },
   {
    "duration": 37,
    "start_time": "2022-11-04T17:56:50.977Z"
   },
   {
    "duration": 19,
    "start_time": "2022-11-04T17:56:51.016Z"
   },
   {
    "duration": 988,
    "start_time": "2022-11-04T17:56:51.038Z"
   },
   {
    "duration": 5,
    "start_time": "2022-11-04T17:56:52.028Z"
   },
   {
    "duration": 1040,
    "start_time": "2022-11-04T17:56:52.034Z"
   },
   {
    "duration": 144,
    "start_time": "2022-11-04T17:56:53.076Z"
   },
   {
    "duration": 2,
    "start_time": "2022-11-04T17:56:53.222Z"
   },
   {
    "duration": 4,
    "start_time": "2022-11-04T17:56:53.226Z"
   },
   {
    "duration": 4,
    "start_time": "2022-11-04T17:56:53.232Z"
   },
   {
    "duration": 8,
    "start_time": "2022-11-04T17:56:53.237Z"
   },
   {
    "duration": 11,
    "start_time": "2022-11-04T17:56:53.246Z"
   },
   {
    "duration": 6,
    "start_time": "2022-11-04T17:56:53.258Z"
   },
   {
    "duration": 5,
    "start_time": "2022-11-04T17:56:53.266Z"
   },
   {
    "duration": 35,
    "start_time": "2022-11-04T17:56:53.274Z"
   },
   {
    "duration": 8,
    "start_time": "2022-11-04T17:57:26.856Z"
   },
   {
    "duration": 13,
    "start_time": "2022-11-04T17:58:16.405Z"
   },
   {
    "duration": 3,
    "start_time": "2022-11-04T17:58:46.345Z"
   },
   {
    "duration": 3,
    "start_time": "2022-11-04T17:58:49.795Z"
   },
   {
    "duration": 99,
    "start_time": "2022-11-04T17:58:49.803Z"
   },
   {
    "duration": 2,
    "start_time": "2022-11-04T17:58:49.905Z"
   },
   {
    "duration": 29,
    "start_time": "2022-11-04T17:58:49.909Z"
   },
   {
    "duration": 16,
    "start_time": "2022-11-04T17:58:49.939Z"
   },
   {
    "duration": 29,
    "start_time": "2022-11-04T17:58:49.957Z"
   },
   {
    "duration": 34,
    "start_time": "2022-11-04T17:58:49.988Z"
   },
   {
    "duration": 23,
    "start_time": "2022-11-04T17:58:50.024Z"
   },
   {
    "duration": 38,
    "start_time": "2022-11-04T17:58:50.048Z"
   },
   {
    "duration": 28,
    "start_time": "2022-11-04T17:58:50.088Z"
   },
   {
    "duration": 27,
    "start_time": "2022-11-04T17:58:50.117Z"
   },
   {
    "duration": 27,
    "start_time": "2022-11-04T17:58:50.146Z"
   },
   {
    "duration": 25,
    "start_time": "2022-11-04T17:58:50.175Z"
   },
   {
    "duration": 36,
    "start_time": "2022-11-04T17:58:50.202Z"
   },
   {
    "duration": 1028,
    "start_time": "2022-11-04T17:58:50.242Z"
   },
   {
    "duration": 5,
    "start_time": "2022-11-04T17:58:51.272Z"
   },
   {
    "duration": 959,
    "start_time": "2022-11-04T17:58:51.279Z"
   },
   {
    "duration": 141,
    "start_time": "2022-11-04T17:58:52.240Z"
   },
   {
    "duration": 3,
    "start_time": "2022-11-04T17:58:52.383Z"
   },
   {
    "duration": 6,
    "start_time": "2022-11-04T17:58:52.387Z"
   },
   {
    "duration": 9,
    "start_time": "2022-11-04T17:58:52.394Z"
   },
   {
    "duration": 5,
    "start_time": "2022-11-04T17:58:52.409Z"
   },
   {
    "duration": 7,
    "start_time": "2022-11-04T17:58:52.416Z"
   },
   {
    "duration": 4,
    "start_time": "2022-11-04T17:58:52.424Z"
   },
   {
    "duration": 12,
    "start_time": "2022-11-04T17:58:52.430Z"
   },
   {
    "duration": 4,
    "start_time": "2022-11-04T17:58:53.625Z"
   },
   {
    "duration": 4,
    "start_time": "2022-11-04T17:58:56.786Z"
   },
   {
    "duration": 7,
    "start_time": "2022-11-04T17:59:25.706Z"
   },
   {
    "duration": 8,
    "start_time": "2022-11-04T18:00:35.294Z"
   },
   {
    "duration": 3,
    "start_time": "2022-11-04T18:01:00.315Z"
   },
   {
    "duration": 88,
    "start_time": "2022-11-04T18:01:00.324Z"
   },
   {
    "duration": 3,
    "start_time": "2022-11-04T18:01:00.414Z"
   },
   {
    "duration": 45,
    "start_time": "2022-11-04T18:01:00.418Z"
   },
   {
    "duration": 21,
    "start_time": "2022-11-04T18:01:00.465Z"
   },
   {
    "duration": 70,
    "start_time": "2022-11-04T18:01:00.489Z"
   },
   {
    "duration": 93,
    "start_time": "2022-11-04T18:01:00.561Z"
   },
   {
    "duration": 16,
    "start_time": "2022-11-04T18:01:00.656Z"
   },
   {
    "duration": 45,
    "start_time": "2022-11-04T18:01:00.674Z"
   },
   {
    "duration": 50,
    "start_time": "2022-11-04T18:01:00.721Z"
   },
   {
    "duration": 31,
    "start_time": "2022-11-04T18:01:00.773Z"
   },
   {
    "duration": 26,
    "start_time": "2022-11-04T18:01:00.805Z"
   },
   {
    "duration": 46,
    "start_time": "2022-11-04T18:01:00.833Z"
   },
   {
    "duration": 35,
    "start_time": "2022-11-04T18:01:00.880Z"
   },
   {
    "duration": 988,
    "start_time": "2022-11-04T18:01:00.918Z"
   },
   {
    "duration": 5,
    "start_time": "2022-11-04T18:01:01.908Z"
   },
   {
    "duration": 1121,
    "start_time": "2022-11-04T18:01:01.915Z"
   },
   {
    "duration": 139,
    "start_time": "2022-11-04T18:01:03.038Z"
   },
   {
    "duration": 3,
    "start_time": "2022-11-04T18:01:03.179Z"
   },
   {
    "duration": 70,
    "start_time": "2022-11-04T18:01:03.183Z"
   },
   {
    "duration": 55,
    "start_time": "2022-11-04T18:01:03.254Z"
   },
   {
    "duration": 56,
    "start_time": "2022-11-04T18:01:03.310Z"
   },
   {
    "duration": 66,
    "start_time": "2022-11-04T18:01:03.368Z"
   },
   {
    "duration": 44,
    "start_time": "2022-11-04T18:01:03.435Z"
   },
   {
    "duration": 110,
    "start_time": "2022-11-04T18:01:03.480Z"
   },
   {
    "duration": 59,
    "start_time": "2022-11-04T18:01:03.592Z"
   },
   {
    "duration": 121,
    "start_time": "2022-11-04T18:01:03.653Z"
   },
   {
    "duration": 113,
    "start_time": "2022-11-04T18:01:03.775Z"
   },
   {
    "duration": 92,
    "start_time": "2022-11-04T18:01:03.890Z"
   },
   {
    "duration": 120,
    "start_time": "2022-11-04T18:01:03.984Z"
   },
   {
    "duration": 187,
    "start_time": "2022-11-04T18:01:04.106Z"
   },
   {
    "duration": 127,
    "start_time": "2022-11-04T18:01:04.294Z"
   },
   {
    "duration": 131,
    "start_time": "2022-11-04T18:01:04.422Z"
   },
   {
    "duration": 9,
    "start_time": "2022-11-04T18:01:04.554Z"
   },
   {
    "duration": 1369,
    "start_time": "2022-11-04T18:01:04.565Z"
   },
   {
    "duration": 12,
    "start_time": "2022-11-04T18:01:05.938Z"
   },
   {
    "duration": 273,
    "start_time": "2022-11-04T18:01:10.945Z"
   },
   {
    "duration": 278,
    "start_time": "2022-11-04T18:01:21.304Z"
   },
   {
    "duration": 217,
    "start_time": "2022-11-04T18:02:24.006Z"
   },
   {
    "duration": 283,
    "start_time": "2022-11-04T18:02:38.574Z"
   },
   {
    "duration": 4,
    "start_time": "2022-11-04T18:02:39.355Z"
   },
   {
    "duration": 5,
    "start_time": "2022-11-04T18:02:46.154Z"
   },
   {
    "duration": 198,
    "start_time": "2022-11-04T18:02:48.355Z"
   },
   {
    "duration": 208,
    "start_time": "2022-11-04T18:02:54.355Z"
   },
   {
    "duration": 200,
    "start_time": "2022-11-04T18:03:00.574Z"
   },
   {
    "duration": 205,
    "start_time": "2022-11-04T18:03:06.754Z"
   },
   {
    "duration": 207,
    "start_time": "2022-11-04T18:03:08.414Z"
   },
   {
    "duration": 6,
    "start_time": "2022-11-04T18:03:08.734Z"
   },
   {
    "duration": 197,
    "start_time": "2022-11-04T18:03:09.305Z"
   },
   {
    "duration": 194,
    "start_time": "2022-11-04T18:03:11.145Z"
   },
   {
    "duration": 5,
    "start_time": "2022-11-04T18:03:11.854Z"
   },
   {
    "duration": 241,
    "start_time": "2022-11-04T18:03:12.575Z"
   },
   {
    "duration": 208,
    "start_time": "2022-11-04T18:03:14.224Z"
   },
   {
    "duration": 5,
    "start_time": "2022-11-04T18:03:16.644Z"
   },
   {
    "duration": 420,
    "start_time": "2022-11-04T18:03:25.364Z"
   },
   {
    "duration": 296,
    "start_time": "2022-11-04T18:03:30.134Z"
   },
   {
    "duration": 11,
    "start_time": "2022-11-04T18:04:07.814Z"
   },
   {
    "duration": 146,
    "start_time": "2022-11-04T18:04:16.864Z"
   },
   {
    "duration": 267,
    "start_time": "2022-11-04T18:04:24.724Z"
   },
   {
    "duration": 144,
    "start_time": "2022-11-04T18:04:44.324Z"
   },
   {
    "duration": 358,
    "start_time": "2022-11-04T18:04:56.894Z"
   },
   {
    "duration": 144,
    "start_time": "2022-11-04T18:05:05.514Z"
   },
   {
    "duration": 264,
    "start_time": "2022-11-04T18:05:16.974Z"
   },
   {
    "duration": 152,
    "start_time": "2022-11-04T18:05:46.494Z"
   },
   {
    "duration": 149,
    "start_time": "2022-11-04T18:05:48.624Z"
   },
   {
    "duration": 162,
    "start_time": "2022-11-04T18:05:49.173Z"
   },
   {
    "duration": 181,
    "start_time": "2022-11-04T18:05:53.054Z"
   },
   {
    "duration": 175,
    "start_time": "2022-11-04T18:05:53.854Z"
   },
   {
    "duration": 197,
    "start_time": "2022-11-04T18:05:54.374Z"
   },
   {
    "duration": 186,
    "start_time": "2022-11-04T18:06:01.254Z"
   },
   {
    "duration": 157,
    "start_time": "2022-11-04T18:06:08.004Z"
   },
   {
    "duration": 163,
    "start_time": "2022-11-04T18:06:10.604Z"
   },
   {
    "duration": 8,
    "start_time": "2022-11-04T18:08:17.403Z"
   },
   {
    "duration": 3,
    "start_time": "2022-11-04T18:08:21.194Z"
   },
   {
    "duration": 83,
    "start_time": "2022-11-04T18:08:21.199Z"
   },
   {
    "duration": 3,
    "start_time": "2022-11-04T18:08:21.284Z"
   },
   {
    "duration": 35,
    "start_time": "2022-11-04T18:08:21.289Z"
   },
   {
    "duration": 23,
    "start_time": "2022-11-04T18:08:21.326Z"
   },
   {
    "duration": 25,
    "start_time": "2022-11-04T18:08:21.350Z"
   },
   {
    "duration": 32,
    "start_time": "2022-11-04T18:08:21.376Z"
   },
   {
    "duration": 22,
    "start_time": "2022-11-04T18:08:21.410Z"
   },
   {
    "duration": 26,
    "start_time": "2022-11-04T18:08:21.435Z"
   },
   {
    "duration": 21,
    "start_time": "2022-11-04T18:08:21.462Z"
   },
   {
    "duration": 20,
    "start_time": "2022-11-04T18:08:21.485Z"
   },
   {
    "duration": 25,
    "start_time": "2022-11-04T18:08:21.507Z"
   },
   {
    "duration": 33,
    "start_time": "2022-11-04T18:08:21.534Z"
   },
   {
    "duration": 20,
    "start_time": "2022-11-04T18:08:21.568Z"
   },
   {
    "duration": 2488,
    "start_time": "2022-11-04T18:08:21.590Z"
   },
   {
    "duration": 6,
    "start_time": "2022-11-04T18:08:24.080Z"
   },
   {
    "duration": 2418,
    "start_time": "2022-11-04T18:08:24.088Z"
   },
   {
    "duration": 180,
    "start_time": "2022-11-04T18:08:26.509Z"
   },
   {
    "duration": 2,
    "start_time": "2022-11-04T18:08:26.691Z"
   },
   {
    "duration": 15,
    "start_time": "2022-11-04T18:08:26.694Z"
   },
   {
    "duration": 4,
    "start_time": "2022-11-04T18:08:26.710Z"
   },
   {
    "duration": 5,
    "start_time": "2022-11-04T18:08:26.715Z"
   },
   {
    "duration": 5,
    "start_time": "2022-11-04T18:08:26.721Z"
   },
   {
    "duration": 2,
    "start_time": "2022-11-04T18:08:26.730Z"
   },
   {
    "duration": 4,
    "start_time": "2022-11-04T18:08:26.733Z"
   },
   {
    "duration": 6,
    "start_time": "2022-11-04T18:08:26.739Z"
   },
   {
    "duration": 8,
    "start_time": "2022-11-04T18:08:26.747Z"
   },
   {
    "duration": 12,
    "start_time": "2022-11-04T18:08:26.757Z"
   },
   {
    "duration": 7,
    "start_time": "2022-11-04T18:08:26.771Z"
   },
   {
    "duration": 34,
    "start_time": "2022-11-04T18:08:26.780Z"
   },
   {
    "duration": 129,
    "start_time": "2022-11-04T18:08:26.815Z"
   },
   {
    "duration": 199,
    "start_time": "2022-11-04T18:08:26.945Z"
   },
   {
    "duration": 187,
    "start_time": "2022-11-04T18:08:27.145Z"
   },
   {
    "duration": 7,
    "start_time": "2022-11-04T18:08:27.333Z"
   },
   {
    "duration": 1883,
    "start_time": "2022-11-04T18:08:27.342Z"
   },
   {
    "duration": 12,
    "start_time": "2022-11-04T18:08:29.226Z"
   },
   {
    "duration": 277,
    "start_time": "2022-11-04T18:08:29.240Z"
   },
   {
    "duration": 297,
    "start_time": "2022-11-04T18:08:29.519Z"
   },
   {
    "duration": 210,
    "start_time": "2022-11-04T18:08:29.817Z"
   },
   {
    "duration": 336,
    "start_time": "2022-11-04T18:08:30.028Z"
   },
   {
    "duration": 5,
    "start_time": "2022-11-04T18:08:30.365Z"
   },
   {
    "duration": 218,
    "start_time": "2022-11-04T18:08:30.372Z"
   },
   {
    "duration": 197,
    "start_time": "2022-11-04T18:08:30.592Z"
   },
   {
    "duration": 5,
    "start_time": "2022-11-04T18:08:30.790Z"
   },
   {
    "duration": 236,
    "start_time": "2022-11-04T18:08:30.796Z"
   },
   {
    "duration": 199,
    "start_time": "2022-11-04T18:08:31.034Z"
   },
   {
    "duration": 4,
    "start_time": "2022-11-04T18:08:31.235Z"
   },
   {
    "duration": 205,
    "start_time": "2022-11-04T18:08:31.240Z"
   },
   {
    "duration": 215,
    "start_time": "2022-11-04T18:08:31.446Z"
   },
   {
    "duration": 4,
    "start_time": "2022-11-04T18:08:31.662Z"
   },
   {
    "duration": 428,
    "start_time": "2022-11-04T18:08:31.668Z"
   },
   {
    "duration": 300,
    "start_time": "2022-11-04T18:08:32.098Z"
   },
   {
    "duration": 18,
    "start_time": "2022-11-04T18:08:32.399Z"
   },
   {
    "duration": 172,
    "start_time": "2022-11-04T18:08:32.418Z"
   },
   {
    "duration": 382,
    "start_time": "2022-11-04T18:08:32.592Z"
   },
   {
    "duration": 161,
    "start_time": "2022-11-04T18:08:32.975Z"
   },
   {
    "duration": 273,
    "start_time": "2022-11-04T18:08:33.138Z"
   },
   {
    "duration": 150,
    "start_time": "2022-11-04T18:08:33.413Z"
   },
   {
    "duration": 282,
    "start_time": "2022-11-04T18:08:33.565Z"
   },
   {
    "duration": 194,
    "start_time": "2022-11-04T18:08:33.848Z"
   },
   {
    "duration": 174,
    "start_time": "2022-11-04T18:08:34.044Z"
   },
   {
    "duration": 309,
    "start_time": "2022-11-04T18:08:34.220Z"
   },
   {
    "duration": 144,
    "start_time": "2022-11-04T18:08:34.530Z"
   },
   {
    "duration": 166,
    "start_time": "2022-11-04T18:08:34.676Z"
   },
   {
    "duration": 156,
    "start_time": "2022-11-04T18:08:34.844Z"
   },
   {
    "duration": 10,
    "start_time": "2022-11-04T18:08:35.001Z"
   },
   {
    "duration": 19,
    "start_time": "2022-11-04T18:08:35.013Z"
   },
   {
    "duration": 19,
    "start_time": "2022-11-04T18:08:35.034Z"
   },
   {
    "duration": 27,
    "start_time": "2022-11-04T18:08:35.058Z"
   },
   {
    "duration": 11,
    "start_time": "2022-11-04T18:08:35.086Z"
   },
   {
    "duration": 37,
    "start_time": "2022-11-04T18:08:35.098Z"
   },
   {
    "duration": 22,
    "start_time": "2022-11-04T18:08:35.137Z"
   },
   {
    "duration": 45,
    "start_time": "2022-11-04T18:08:35.160Z"
   },
   {
    "duration": 33,
    "start_time": "2022-11-04T18:08:35.275Z"
   },
   {
    "duration": 4,
    "start_time": "2022-11-04T18:08:36.573Z"
   },
   {
    "duration": 1164,
    "start_time": "2022-11-05T09:42:34.865Z"
   },
   {
    "duration": 65,
    "start_time": "2022-11-05T09:42:36.031Z"
   },
   {
    "duration": 4,
    "start_time": "2022-11-05T09:42:36.098Z"
   },
   {
    "duration": 32,
    "start_time": "2022-11-05T09:42:36.104Z"
   },
   {
    "duration": 8,
    "start_time": "2022-11-05T09:42:36.138Z"
   },
   {
    "duration": 14,
    "start_time": "2022-11-05T09:42:36.147Z"
   },
   {
    "duration": 63,
    "start_time": "2022-11-05T09:42:36.163Z"
   },
   {
    "duration": 14,
    "start_time": "2022-11-05T09:42:36.228Z"
   },
   {
    "duration": 14,
    "start_time": "2022-11-05T09:42:36.244Z"
   },
   {
    "duration": 6,
    "start_time": "2022-11-05T09:42:36.261Z"
   },
   {
    "duration": 19,
    "start_time": "2022-11-05T09:42:36.269Z"
   },
   {
    "duration": 10,
    "start_time": "2022-11-05T09:42:36.290Z"
   },
   {
    "duration": 18,
    "start_time": "2022-11-05T09:42:36.309Z"
   },
   {
    "duration": 22,
    "start_time": "2022-11-05T09:42:36.329Z"
   },
   {
    "duration": 995,
    "start_time": "2022-11-05T09:42:36.352Z"
   },
   {
    "duration": 5,
    "start_time": "2022-11-05T09:42:37.349Z"
   },
   {
    "duration": 1000,
    "start_time": "2022-11-05T09:42:37.355Z"
   },
   {
    "duration": 145,
    "start_time": "2022-11-05T09:42:38.356Z"
   },
   {
    "duration": 3,
    "start_time": "2022-11-05T09:42:38.512Z"
   },
   {
    "duration": 29,
    "start_time": "2022-11-05T09:42:38.517Z"
   },
   {
    "duration": 10,
    "start_time": "2022-11-05T09:42:38.547Z"
   },
   {
    "duration": 13,
    "start_time": "2022-11-05T09:42:38.558Z"
   },
   {
    "duration": 15,
    "start_time": "2022-11-05T09:42:38.572Z"
   },
   {
    "duration": 17,
    "start_time": "2022-11-05T09:42:38.588Z"
   },
   {
    "duration": 15,
    "start_time": "2022-11-05T09:42:38.607Z"
   },
   {
    "duration": 9,
    "start_time": "2022-11-05T09:42:38.623Z"
   },
   {
    "duration": 17,
    "start_time": "2022-11-05T09:42:38.634Z"
   },
   {
    "duration": 12,
    "start_time": "2022-11-05T09:42:38.655Z"
   },
   {
    "duration": 14,
    "start_time": "2022-11-05T09:42:38.669Z"
   },
   {
    "duration": 17,
    "start_time": "2022-11-05T09:42:38.685Z"
   },
   {
    "duration": 115,
    "start_time": "2022-11-05T09:42:38.704Z"
   },
   {
    "duration": 128,
    "start_time": "2022-11-05T09:42:38.820Z"
   },
   {
    "duration": 136,
    "start_time": "2022-11-05T09:42:38.950Z"
   },
   {
    "duration": 7,
    "start_time": "2022-11-05T09:42:39.087Z"
   },
   {
    "duration": 1309,
    "start_time": "2022-11-05T09:42:39.095Z"
   },
   {
    "duration": 18,
    "start_time": "2022-11-05T09:42:40.408Z"
   },
   {
    "duration": 363,
    "start_time": "2022-11-05T09:42:40.429Z"
   },
   {
    "duration": 288,
    "start_time": "2022-11-05T09:42:40.793Z"
   },
   {
    "duration": 210,
    "start_time": "2022-11-05T09:42:41.083Z"
   },
   {
    "duration": 199,
    "start_time": "2022-11-05T09:42:41.295Z"
   },
   {
    "duration": 14,
    "start_time": "2022-11-05T09:42:41.497Z"
   },
   {
    "duration": 285,
    "start_time": "2022-11-05T09:42:41.513Z"
   },
   {
    "duration": 204,
    "start_time": "2022-11-05T09:42:41.800Z"
   },
   {
    "duration": 5,
    "start_time": "2022-11-05T09:42:42.006Z"
   },
   {
    "duration": 198,
    "start_time": "2022-11-05T09:42:42.013Z"
   },
   {
    "duration": 192,
    "start_time": "2022-11-05T09:42:42.213Z"
   },
   {
    "duration": 5,
    "start_time": "2022-11-05T09:42:42.406Z"
   },
   {
    "duration": 224,
    "start_time": "2022-11-05T09:42:42.412Z"
   },
   {
    "duration": 209,
    "start_time": "2022-11-05T09:42:42.638Z"
   },
   {
    "duration": 5,
    "start_time": "2022-11-05T09:42:42.849Z"
   },
   {
    "duration": 416,
    "start_time": "2022-11-05T09:42:42.855Z"
   },
   {
    "duration": 361,
    "start_time": "2022-11-05T09:42:43.272Z"
   },
   {
    "duration": 11,
    "start_time": "2022-11-05T09:42:43.634Z"
   },
   {
    "duration": 153,
    "start_time": "2022-11-05T09:42:43.646Z"
   },
   {
    "duration": 263,
    "start_time": "2022-11-05T09:42:43.808Z"
   },
   {
    "duration": 148,
    "start_time": "2022-11-05T09:42:44.072Z"
   },
   {
    "duration": 300,
    "start_time": "2022-11-05T09:42:44.221Z"
   },
   {
    "duration": 195,
    "start_time": "2022-11-05T09:42:44.523Z"
   },
   {
    "duration": 273,
    "start_time": "2022-11-05T09:42:44.720Z"
   },
   {
    "duration": 166,
    "start_time": "2022-11-05T09:42:44.995Z"
   },
   {
    "duration": 170,
    "start_time": "2022-11-05T09:42:45.162Z"
   },
   {
    "duration": 234,
    "start_time": "2022-11-05T09:42:45.334Z"
   },
   {
    "duration": 161,
    "start_time": "2022-11-05T09:42:45.569Z"
   },
   {
    "duration": 172,
    "start_time": "2022-11-05T09:42:45.732Z"
   },
   {
    "duration": 156,
    "start_time": "2022-11-05T09:42:45.905Z"
   },
   {
    "duration": 5,
    "start_time": "2022-11-05T09:42:46.063Z"
   },
   {
    "duration": 9,
    "start_time": "2022-11-05T09:42:46.071Z"
   },
   {
    "duration": 21,
    "start_time": "2022-11-05T09:42:46.083Z"
   },
   {
    "duration": 21,
    "start_time": "2022-11-05T09:42:46.107Z"
   },
   {
    "duration": 12,
    "start_time": "2022-11-05T09:42:46.131Z"
   },
   {
    "duration": 29,
    "start_time": "2022-11-05T09:42:46.145Z"
   },
   {
    "duration": 15,
    "start_time": "2022-11-05T09:42:46.176Z"
   },
   {
    "duration": 15,
    "start_time": "2022-11-05T09:42:46.192Z"
   },
   {
    "duration": 16,
    "start_time": "2022-11-05T09:42:46.208Z"
   },
   {
    "duration": 17,
    "start_time": "2022-11-05T09:42:46.226Z"
   }
  ],
  "kernelspec": {
   "display_name": "Python 3 (ipykernel)",
   "language": "python",
   "name": "python3"
  },
  "language_info": {
   "codemirror_mode": {
    "name": "ipython",
    "version": 3
   },
   "file_extension": ".py",
   "mimetype": "text/x-python",
   "name": "python",
   "nbconvert_exporter": "python",
   "pygments_lexer": "ipython3",
   "version": "3.9.5"
  },
  "toc": {
   "base_numbering": 1,
   "nav_menu": {},
   "number_sections": true,
   "sideBar": true,
   "skip_h1_title": true,
   "title_cell": "Table of Contents",
   "title_sidebar": "Contents",
   "toc_cell": false,
   "toc_position": {},
   "toc_section_display": true,
   "toc_window_display": false
  }
 },
 "nbformat": 4,
 "nbformat_minor": 2
}
